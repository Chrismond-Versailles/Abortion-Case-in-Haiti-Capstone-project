{
  "nbformat": 4,
  "nbformat_minor": 0,
  "metadata": {
    "colab": {
      "name": "Capstone project.ipynb",
      "provenance": [],
      "collapsed_sections": [
        "NC72Z-ribdTX",
        "paiM6YFkbdTY",
        "gtoFCMjEbdTY",
        "wKoYNSsMbdTY",
        "ly_SWhZNbdTb",
        "W2mAVzxqbdTb"
      ],
      "include_colab_link": true
    },
    "interpreter": {
      "hash": "8635f10766ce5d991980dc2c3747340ada908e53bcfbb98107f7f38114a1f15c"
    },
    "kernelspec": {
      "name": "python3",
      "display_name": "Python 3.8.5 32-bit ('base': conda)"
    },
    "language_info": {
      "codemirror_mode": {
        "name": "ipython",
        "version": 3
      },
      "file_extension": ".py",
      "mimetype": "text/x-python",
      "name": "python",
      "nbconvert_exporter": "python",
      "pygments_lexer": "ipython3",
      "version": "3.8.5"
    }
  },
  "cells": [
    {
      "cell_type": "markdown",
      "metadata": {
        "id": "view-in-github",
        "colab_type": "text"
      },
      "source": [
        "<a href=\"https://colab.research.google.com/github/Chrismond-Versailles/Abortion-Case-in-Haiti-Capstone-project/blob/main/Capstone_project.ipynb\" target=\"_parent\"><img src=\"https://colab.research.google.com/assets/colab-badge.svg\" alt=\"Open In Colab\"/></a>"
      ]
    },
    {
      "cell_type": "code",
      "metadata": {
        "id": "4FkzCsuslogM"
      },
      "source": [
        "class ReadStataFile:\n",
        "    def __init__(self,folder_name):\n",
        "        self.folder_name= folder_name\n",
        "        self.__load_columns__()\n",
        "\n",
        "    def __load_columns__(self):\n",
        "      \n",
        "        file_name =self.folder_name[0:-2]+\"FL\"\n",
        "        obj = open(f\"./{self.folder_name}/{file_name}.DO\")\n",
        "        lines = obj.readlines()\n",
        "        labels = {}\n",
        "        for line in lines[2:]:\n",
        "            if line != \"#delimit ;\" and len(line.strip()) >0 :\n",
        "                my_split = line.split('\\\"')\n",
        "                my_var = my_split[0].replace(\"label variable\",\"\").strip()\n",
        "                my_label = my_split[1].strip()\n",
        "                labels[my_var]=my_label\n",
        "            \n",
        "            else:\n",
        "                break;\n",
        "        self.variables = labels.keys()\n",
        "        self.labels = labels.values()\n",
        "        self.col_dict =labels\n",
        "        obj.close()\n",
        "    \n",
        "    def get_col_modality(self,variable_name):\n",
        "        # #delimit cr\n",
        "      \n",
        "        folder_name = \"HTBR71DT\"\n",
        "        file_name =self.folder_name[0:-2]+\"FL\"\n",
        "        obj = open(f\"./{self.folder_name}/{file_name}.DO\")\n",
        "        lines = obj.readlines()\n",
        "        flag_delimiter = 0\n",
        "        flag_variable_found = 0\n",
        "        labels ={}\n",
        "        for line in lines[2:]:\n",
        "            #print(line)\n",
        "            if line.lower().strip().find(\"delimit\") >0:\n",
        "                flag_delimiter = 1\n",
        "                #print(\"delimiter found !!!\")\n",
        "            elif line.lower().find(variable_name.lower()) >0 and flag_delimiter == 1:\n",
        "                flag_variable_found = 1\n",
        "                #print(\"variable found !!!\")\n",
        "            elif flag_variable_found == 1 and flag_delimiter == 1 and  line.lower().find(variable_name.lower()) ==-1 and len(line.strip()) >0 and line.strip() != \";\" and  len(line.split('\\\"')) >1   :\n",
        "                my_split = line.split('\\\"')    \n",
        "                my_var_string = my_split[0].strip()\n",
        "                if self.is_number(my_var_string):\n",
        "                    my_var = float(my_var_string)\n",
        "                else:\n",
        "                    my_var = my_var_string\n",
        "                my_label = my_split[1].strip()\n",
        "                labels[my_var]=my_label\n",
        "                \n",
        "            \n",
        "            elif flag_variable_found == 1 and flag_delimiter == 1 and line.strip() == \";\" :\n",
        "                #print(\"variable not found !!!\")\n",
        "                break;\n",
        "        obj.close()\n",
        "        return labels \n",
        "\n",
        "    def get_col_label(self,variable_name):\n",
        "        return self.col_dict.get(variable_name.lower())\n",
        "\n",
        "    def to_dataframe(self,use_modality=False,columns=None):\n",
        "        import pandas as pd\n",
        "        file_name =self.folder_name[0:-2]+\"FL\"\n",
        "        df = pd.read_stata(f\"./{self.folder_name}/{file_name}.DTA\",convert_categoricals=False)\n",
        "        if columns:\n",
        "            df=df[columns]\n",
        "        if  use_modality and not columns:\n",
        "            for col in self.variables:\n",
        "                my_dict = self.get_col_modality(col)\n",
        "                df[col].replace(my_dict,inplace=True)\n",
        "            \n",
        "        elif use_modality and  columns :\n",
        "            for col in columns:\n",
        "                my_dict = self.get_col_modality(col)\n",
        "                df[col].replace(my_dict,inplace=True)\n",
        "        df.rename(columns=self.col_dict,inplace=True)\n",
        "\n",
        "      \n",
        "\n",
        "        return df\n",
        "\n",
        "    def is_number(self,string):\n",
        "        try:\n",
        "            float(string)\n",
        "            return True\n",
        "        except ValueError:\n",
        "            return False\n",
        "    def get_key(self,my_label):\n",
        "        for key,label in self.col_dict.items():\n",
        "            if label == my_label:\n",
        "                return key\n",
        "        return None\n",
        "\n",
        "    "
      ],
      "execution_count": null,
      "outputs": []
    },
    {
      "cell_type": "code",
      "metadata": {
        "id": "C8CdV_8jlzQv"
      },
      "source": [
        "\n",
        "# from google.colab import drive\n",
        "# drive.mount('/content/drive')\n",
        "#r'C:\\Users\\bootcamp\\Desktop\\Weds\\final_data.csv'"
      ],
      "execution_count": null,
      "outputs": []
    },
    {
      "cell_type": "code",
      "metadata": {
        "id": "v9ZB0u_MbdTB"
      },
      "source": [
        ""
      ],
      "execution_count": null,
      "outputs": []
    },
    {
      "cell_type": "code",
      "metadata": {
        "id": "jMXkhVZ8logi"
      },
      "source": [
        "# data processing librairies\n",
        "import pandas as pd\n",
        "import numpy as np\n",
        "# statistics and test \n",
        "from scipy import stats\n",
        "from scipy.stats import chi2_contingency\n",
        "#data visualization\n",
        "import matplotlib.pyplot as plot\n",
        "import seaborn as sns\n",
        "# data modeling\n",
        "from sklearn.model_selection import train_test_split\n",
        "from sklearn.neighbors import KNeighborsClassifier\n",
        "from sklearn.utils import class_weight\n",
        "from sklearn.model_selection import cross_val_score, GridSearchCV, KFold, RandomizedSearchCV, train_test_split\n",
        "from sklearn.metrics import precision_recall_fscore_support, classification_report,precision_score,auc,accuracy_score, confusion_matrix, mean_squared_error\n",
        "from sklearn import preprocessing\n",
        "from sklearn.linear_model import  LogisticRegression\n",
        "from sklearn.ensemble import  AdaBoostClassifier,GradientBoostingRegressor, RandomForestClassifier\n",
        "from sklearn.tree import DecisionTreeClassifier\n",
        "from sklearn.tree import DecisionTreeRegressor\n",
        "from sklearn.neighbors import KNeighborsClassifier\n",
        "from sklearn.model_selection import cross_val_predict\n",
        "from sklearn.model_selection import cross_val_score, train_test_split\n",
        "from sklearn.metrics import confusion_matrix, classification_report\n"
      ],
      "execution_count": null,
      "outputs": []
    },
    {
      "cell_type": "code",
      "metadata": {
        "colab": {
          "base_uri": "https://localhost:8080/"
        },
        "id": "x5U0Y0EQbtfu",
        "outputId": "e8ab207a-665d-4636-c31f-5d977ebffa30"
      },
      "source": [
        "from google.colab import drive\n",
        "drive.mount('/content/drive')"
      ],
      "execution_count": null,
      "outputs": [
        {
          "output_type": "stream",
          "name": "stdout",
          "text": [
            "Mounted at /content/drive\n"
          ]
        }
      ]
    },
    {
      "cell_type": "code",
      "metadata": {
        "id": "wuGgewHllogl"
      },
      "source": [
        "#reprod = ReadStataFile(\"/content/drive/MyDrive/versailles/HTIR71DT/HTIR71FL.DCT\")"
      ],
      "execution_count": null,
      "outputs": []
    },
    {
      "cell_type": "code",
      "metadata": {
        "id": "A-YzftbRlogn"
      },
      "source": [
        "#cols = pd.read_excel(\"gcp.xlsx\", header = None)\n",
        "#selected = cols[0].to_list()"
      ],
      "execution_count": null,
      "outputs": []
    },
    {
      "cell_type": "code",
      "metadata": {
        "id": "D-R_Ugb1logt"
      },
      "source": [
        "#df1 = reprod.to_dataframe(columns=selected, use_modality = True)\n",
        "df1 = pd.read_csv(\"/content/drive/MyDrive/versailles/versailles_data.csv\")"
      ],
      "execution_count": null,
      "outputs": []
    },
    {
      "cell_type": "code",
      "metadata": {
        "id": "xPEWDcvGlogv",
        "colab": {
          "base_uri": "https://localhost:8080/"
        },
        "outputId": "4d74e225-99a7-416b-e4d0-7a64aa101341"
      },
      "source": [
        "df1.shape"
      ],
      "execution_count": null,
      "outputs": [
        {
          "output_type": "execute_result",
          "data": {
            "text/plain": [
              "(15513, 48)"
            ]
          },
          "metadata": {},
          "execution_count": 8
        }
      ]
    },
    {
      "cell_type": "code",
      "metadata": {
        "id": "3kjxprQalogy"
      },
      "source": [
        "###df1.to_csv (r'C:\\Users\\bootcamp\\Documents\\versaillesversaille_data.csv', index = False, header=True)"
      ],
      "execution_count": null,
      "outputs": []
    },
    {
      "cell_type": "code",
      "metadata": {
        "id": "r7rgh0HlbdTE"
      },
      "source": [
        "df1.to_csv (r'C:\\Users\\bootcamp\\Documents\\versaillesversaille_data.csv', index = False, header=True)"
      ],
      "execution_count": null,
      "outputs": []
    },
    {
      "cell_type": "code",
      "metadata": {
        "id": "M6iLXcDGlog0",
        "colab": {
          "base_uri": "https://localhost:8080/",
          "height": 947
        },
        "outputId": "7c370c4a-c10e-4be5-be5c-68a94992baf7"
      },
      "source": [
        "df1"
      ],
      "execution_count": null,
      "outputs": [
        {
          "output_type": "execute_result",
          "data": {
            "text/html": [
              "<div>\n",
              "<style scoped>\n",
              "    .dataframe tbody tr th:only-of-type {\n",
              "        vertical-align: middle;\n",
              "    }\n",
              "\n",
              "    .dataframe tbody tr th {\n",
              "        vertical-align: top;\n",
              "    }\n",
              "\n",
              "    .dataframe thead th {\n",
              "        text-align: right;\n",
              "    }\n",
              "</style>\n",
              "<table border=\"1\" class=\"dataframe\">\n",
              "  <thead>\n",
              "    <tr style=\"text-align: right;\">\n",
              "      <th></th>\n",
              "      <th>Last source for current users</th>\n",
              "      <th>How many pregnancy losses during her live</th>\n",
              "      <th>Pregnancy outcome of termination</th>\n",
              "      <th>How many induced abortions during her live</th>\n",
              "      <th>How many miscarriages during her live</th>\n",
              "      <th>How many children were born dead during her live</th>\n",
              "      <th>Did decide herself on abortion or was forced by someone</th>\n",
              "      <th>Who forced her to do the abortion</th>\n",
              "      <th>What was used to end the pregnancy - dilatation and curettage</th>\n",
              "      <th>What was used to end the pregnancy - aspiration</th>\n",
              "      <th>What was used to end the pregnancy - sonde</th>\n",
              "      <th>What was used to end the pregnancy - Cytotek (Misoprostol)</th>\n",
              "      <th>What was used to end the pregnancy - injections</th>\n",
              "      <th>What was used to end the pregnancy - comprimï¿½s</th>\n",
              "      <th>What was used to end the pregnancy - plants/ dï¿½coction</th>\n",
              "      <th>What was used to end the pregnancy - other</th>\n",
              "      <th>What was used to end the pregnancy - don't know</th>\n",
              "      <th>Where did the abortion take place</th>\n",
              "      <th>Who assisted during this abortion - doctor</th>\n",
              "      <th>Who assisted during this abortion - nurse</th>\n",
              "      <th>Who assisted during this abortion - auxiliary</th>\n",
              "      <th>Who assisted during this abortion - health agent</th>\n",
              "      <th>Who assisted during this abortion - birth attendant/ matrone avec boï¿½te</th>\n",
              "      <th>Who assisted during this abortion - traditional birth attendant/ matrone sans bo</th>\n",
              "      <th>Who assisted during this abortion - guï¿½risseur/mï¿½decin-feuille</th>\n",
              "      <th>Who assisted during this abortion - Ougan/mambo</th>\n",
              "      <th>Who assisted during this abortion - relatives/ friends</th>\n",
              "      <th>Who assisted during this abortion - other</th>\n",
              "      <th>Who assisted during this abortion - nobody</th>\n",
              "      <th>Did suffer complication from this abortion</th>\n",
              "      <th>Would consider another abortion with unwanted pregnancy</th>\n",
              "      <th>Tried to abort more pregnancies, but failed</th>\n",
              "      <th>How many such tentative abortions failed</th>\n",
              "      <th>Pregnancy duration</th>\n",
              "      <th>Pregnancy duration 1</th>\n",
              "      <th>Pregnancy duration 2</th>\n",
              "      <th>Pregnancy duration 3</th>\n",
              "      <th>Pregnancy duration 4</th>\n",
              "      <th>Pregnancy duration 5</th>\n",
              "      <th>Age in 5-year groups</th>\n",
              "      <th>Number of living children</th>\n",
              "      <th>Highest educational level</th>\n",
              "      <th>Region</th>\n",
              "      <th>Type of place of residence</th>\n",
              "      <th>Religion</th>\n",
              "      <th>Husband/partner's education level</th>\n",
              "      <th>Respondent's occupation</th>\n",
              "      <th>Current marital status</th>\n",
              "    </tr>\n",
              "  </thead>\n",
              "  <tbody>\n",
              "    <tr>\n",
              "      <th>0</th>\n",
              "      <td>NaN</td>\n",
              "      <td>None</td>\n",
              "      <td>NaN</td>\n",
              "      <td>NaN</td>\n",
              "      <td>NaN</td>\n",
              "      <td>NaN</td>\n",
              "      <td>NaN</td>\n",
              "      <td>NaN</td>\n",
              "      <td>No</td>\n",
              "      <td>No</td>\n",
              "      <td>No</td>\n",
              "      <td>No</td>\n",
              "      <td>No</td>\n",
              "      <td>No</td>\n",
              "      <td>No</td>\n",
              "      <td>No</td>\n",
              "      <td>No</td>\n",
              "      <td>NaN</td>\n",
              "      <td>No</td>\n",
              "      <td>No</td>\n",
              "      <td>No</td>\n",
              "      <td>No</td>\n",
              "      <td>No</td>\n",
              "      <td>No</td>\n",
              "      <td>No</td>\n",
              "      <td>No</td>\n",
              "      <td>No</td>\n",
              "      <td>No</td>\n",
              "      <td>No</td>\n",
              "      <td>NaN</td>\n",
              "      <td>NaN</td>\n",
              "      <td>NaN</td>\n",
              "      <td>None</td>\n",
              "      <td>NaN</td>\n",
              "      <td>NaN</td>\n",
              "      <td>NaN</td>\n",
              "      <td>NaN</td>\n",
              "      <td>NaN</td>\n",
              "      <td>NaN</td>\n",
              "      <td>15-19</td>\n",
              "      <td>0.0</td>\n",
              "      <td>Secondary</td>\n",
              "      <td>Sud</td>\n",
              "      <td>Rural</td>\n",
              "      <td>Protestant</td>\n",
              "      <td>NaN</td>\n",
              "      <td>Not working and didn't work in last 12 months</td>\n",
              "      <td>Never in union</td>\n",
              "    </tr>\n",
              "    <tr>\n",
              "      <th>1</th>\n",
              "      <td>NaN</td>\n",
              "      <td>None</td>\n",
              "      <td>NaN</td>\n",
              "      <td>NaN</td>\n",
              "      <td>NaN</td>\n",
              "      <td>NaN</td>\n",
              "      <td>NaN</td>\n",
              "      <td>NaN</td>\n",
              "      <td>No</td>\n",
              "      <td>No</td>\n",
              "      <td>No</td>\n",
              "      <td>No</td>\n",
              "      <td>No</td>\n",
              "      <td>No</td>\n",
              "      <td>No</td>\n",
              "      <td>No</td>\n",
              "      <td>No</td>\n",
              "      <td>NaN</td>\n",
              "      <td>No</td>\n",
              "      <td>No</td>\n",
              "      <td>No</td>\n",
              "      <td>No</td>\n",
              "      <td>No</td>\n",
              "      <td>No</td>\n",
              "      <td>No</td>\n",
              "      <td>No</td>\n",
              "      <td>No</td>\n",
              "      <td>No</td>\n",
              "      <td>No</td>\n",
              "      <td>NaN</td>\n",
              "      <td>NaN</td>\n",
              "      <td>NaN</td>\n",
              "      <td>None</td>\n",
              "      <td>NaN</td>\n",
              "      <td>NaN</td>\n",
              "      <td>NaN</td>\n",
              "      <td>NaN</td>\n",
              "      <td>NaN</td>\n",
              "      <td>NaN</td>\n",
              "      <td>25-29</td>\n",
              "      <td>0.0</td>\n",
              "      <td>Secondary</td>\n",
              "      <td>Sud</td>\n",
              "      <td>Rural</td>\n",
              "      <td>Catholic</td>\n",
              "      <td>NaN</td>\n",
              "      <td>Commercant et assimilï¿½</td>\n",
              "      <td>Never in union</td>\n",
              "    </tr>\n",
              "    <tr>\n",
              "      <th>2</th>\n",
              "      <td>NaN</td>\n",
              "      <td>None</td>\n",
              "      <td>NaN</td>\n",
              "      <td>NaN</td>\n",
              "      <td>NaN</td>\n",
              "      <td>NaN</td>\n",
              "      <td>NaN</td>\n",
              "      <td>NaN</td>\n",
              "      <td>No</td>\n",
              "      <td>No</td>\n",
              "      <td>No</td>\n",
              "      <td>No</td>\n",
              "      <td>No</td>\n",
              "      <td>No</td>\n",
              "      <td>No</td>\n",
              "      <td>No</td>\n",
              "      <td>No</td>\n",
              "      <td>NaN</td>\n",
              "      <td>No</td>\n",
              "      <td>No</td>\n",
              "      <td>No</td>\n",
              "      <td>No</td>\n",
              "      <td>No</td>\n",
              "      <td>No</td>\n",
              "      <td>No</td>\n",
              "      <td>No</td>\n",
              "      <td>No</td>\n",
              "      <td>No</td>\n",
              "      <td>No</td>\n",
              "      <td>NaN</td>\n",
              "      <td>NaN</td>\n",
              "      <td>NaN</td>\n",
              "      <td>None</td>\n",
              "      <td>NaN</td>\n",
              "      <td>NaN</td>\n",
              "      <td>NaN</td>\n",
              "      <td>NaN</td>\n",
              "      <td>NaN</td>\n",
              "      <td>NaN</td>\n",
              "      <td>15-19</td>\n",
              "      <td>0.0</td>\n",
              "      <td>Primary</td>\n",
              "      <td>Sud</td>\n",
              "      <td>Rural</td>\n",
              "      <td>Catholic</td>\n",
              "      <td>NaN</td>\n",
              "      <td>Not working and didn't work in last 12 months</td>\n",
              "      <td>Never in union</td>\n",
              "    </tr>\n",
              "    <tr>\n",
              "      <th>3</th>\n",
              "      <td>NaN</td>\n",
              "      <td>None</td>\n",
              "      <td>NaN</td>\n",
              "      <td>NaN</td>\n",
              "      <td>NaN</td>\n",
              "      <td>NaN</td>\n",
              "      <td>NaN</td>\n",
              "      <td>NaN</td>\n",
              "      <td>No</td>\n",
              "      <td>No</td>\n",
              "      <td>No</td>\n",
              "      <td>No</td>\n",
              "      <td>No</td>\n",
              "      <td>No</td>\n",
              "      <td>No</td>\n",
              "      <td>No</td>\n",
              "      <td>No</td>\n",
              "      <td>NaN</td>\n",
              "      <td>No</td>\n",
              "      <td>No</td>\n",
              "      <td>No</td>\n",
              "      <td>No</td>\n",
              "      <td>No</td>\n",
              "      <td>No</td>\n",
              "      <td>No</td>\n",
              "      <td>No</td>\n",
              "      <td>No</td>\n",
              "      <td>No</td>\n",
              "      <td>No</td>\n",
              "      <td>NaN</td>\n",
              "      <td>NaN</td>\n",
              "      <td>NaN</td>\n",
              "      <td>None</td>\n",
              "      <td>NaN</td>\n",
              "      <td>NaN</td>\n",
              "      <td>NaN</td>\n",
              "      <td>NaN</td>\n",
              "      <td>NaN</td>\n",
              "      <td>NaN</td>\n",
              "      <td>30-34</td>\n",
              "      <td>1.0</td>\n",
              "      <td>Secondary</td>\n",
              "      <td>Sud</td>\n",
              "      <td>Rural</td>\n",
              "      <td>Protestant</td>\n",
              "      <td>Higher</td>\n",
              "      <td>Insituteur et assimilï¿½s</td>\n",
              "      <td>Married</td>\n",
              "    </tr>\n",
              "    <tr>\n",
              "      <th>4</th>\n",
              "      <td>NaN</td>\n",
              "      <td>None</td>\n",
              "      <td>NaN</td>\n",
              "      <td>NaN</td>\n",
              "      <td>NaN</td>\n",
              "      <td>NaN</td>\n",
              "      <td>NaN</td>\n",
              "      <td>NaN</td>\n",
              "      <td>No</td>\n",
              "      <td>No</td>\n",
              "      <td>No</td>\n",
              "      <td>No</td>\n",
              "      <td>No</td>\n",
              "      <td>No</td>\n",
              "      <td>No</td>\n",
              "      <td>No</td>\n",
              "      <td>No</td>\n",
              "      <td>NaN</td>\n",
              "      <td>No</td>\n",
              "      <td>No</td>\n",
              "      <td>No</td>\n",
              "      <td>No</td>\n",
              "      <td>No</td>\n",
              "      <td>No</td>\n",
              "      <td>No</td>\n",
              "      <td>No</td>\n",
              "      <td>No</td>\n",
              "      <td>No</td>\n",
              "      <td>No</td>\n",
              "      <td>NaN</td>\n",
              "      <td>NaN</td>\n",
              "      <td>NaN</td>\n",
              "      <td>None</td>\n",
              "      <td>NaN</td>\n",
              "      <td>NaN</td>\n",
              "      <td>NaN</td>\n",
              "      <td>NaN</td>\n",
              "      <td>NaN</td>\n",
              "      <td>NaN</td>\n",
              "      <td>25-29</td>\n",
              "      <td>0.0</td>\n",
              "      <td>Secondary</td>\n",
              "      <td>Sud</td>\n",
              "      <td>Rural</td>\n",
              "      <td>Protestant</td>\n",
              "      <td>Higher</td>\n",
              "      <td>Insituteur et assimilï¿½s</td>\n",
              "      <td>Married</td>\n",
              "    </tr>\n",
              "    <tr>\n",
              "      <th>...</th>\n",
              "      <td>...</td>\n",
              "      <td>...</td>\n",
              "      <td>...</td>\n",
              "      <td>...</td>\n",
              "      <td>...</td>\n",
              "      <td>...</td>\n",
              "      <td>...</td>\n",
              "      <td>...</td>\n",
              "      <td>...</td>\n",
              "      <td>...</td>\n",
              "      <td>...</td>\n",
              "      <td>...</td>\n",
              "      <td>...</td>\n",
              "      <td>...</td>\n",
              "      <td>...</td>\n",
              "      <td>...</td>\n",
              "      <td>...</td>\n",
              "      <td>...</td>\n",
              "      <td>...</td>\n",
              "      <td>...</td>\n",
              "      <td>...</td>\n",
              "      <td>...</td>\n",
              "      <td>...</td>\n",
              "      <td>...</td>\n",
              "      <td>...</td>\n",
              "      <td>...</td>\n",
              "      <td>...</td>\n",
              "      <td>...</td>\n",
              "      <td>...</td>\n",
              "      <td>...</td>\n",
              "      <td>...</td>\n",
              "      <td>...</td>\n",
              "      <td>...</td>\n",
              "      <td>...</td>\n",
              "      <td>...</td>\n",
              "      <td>...</td>\n",
              "      <td>...</td>\n",
              "      <td>...</td>\n",
              "      <td>...</td>\n",
              "      <td>...</td>\n",
              "      <td>...</td>\n",
              "      <td>...</td>\n",
              "      <td>...</td>\n",
              "      <td>...</td>\n",
              "      <td>...</td>\n",
              "      <td>...</td>\n",
              "      <td>...</td>\n",
              "      <td>...</td>\n",
              "    </tr>\n",
              "    <tr>\n",
              "      <th>15508</th>\n",
              "      <td>NaN</td>\n",
              "      <td>NaN</td>\n",
              "      <td>NaN</td>\n",
              "      <td>NaN</td>\n",
              "      <td>NaN</td>\n",
              "      <td>NaN</td>\n",
              "      <td>NaN</td>\n",
              "      <td>NaN</td>\n",
              "      <td>NaN</td>\n",
              "      <td>NaN</td>\n",
              "      <td>NaN</td>\n",
              "      <td>NaN</td>\n",
              "      <td>NaN</td>\n",
              "      <td>NaN</td>\n",
              "      <td>NaN</td>\n",
              "      <td>NaN</td>\n",
              "      <td>NaN</td>\n",
              "      <td>NaN</td>\n",
              "      <td>NaN</td>\n",
              "      <td>NaN</td>\n",
              "      <td>NaN</td>\n",
              "      <td>NaN</td>\n",
              "      <td>NaN</td>\n",
              "      <td>NaN</td>\n",
              "      <td>NaN</td>\n",
              "      <td>NaN</td>\n",
              "      <td>NaN</td>\n",
              "      <td>NaN</td>\n",
              "      <td>NaN</td>\n",
              "      <td>NaN</td>\n",
              "      <td>NaN</td>\n",
              "      <td>NaN</td>\n",
              "      <td>NaN</td>\n",
              "      <td>NaN</td>\n",
              "      <td>NaN</td>\n",
              "      <td>NaN</td>\n",
              "      <td>NaN</td>\n",
              "      <td>NaN</td>\n",
              "      <td>NaN</td>\n",
              "      <td>50+</td>\n",
              "      <td>NaN</td>\n",
              "      <td>Primary</td>\n",
              "      <td>Aire Metropolitaine</td>\n",
              "      <td>Urban</td>\n",
              "      <td>Protestant</td>\n",
              "      <td>NaN</td>\n",
              "      <td>NaN</td>\n",
              "      <td>NaN</td>\n",
              "    </tr>\n",
              "    <tr>\n",
              "      <th>15509</th>\n",
              "      <td>NaN</td>\n",
              "      <td>None</td>\n",
              "      <td>NaN</td>\n",
              "      <td>NaN</td>\n",
              "      <td>NaN</td>\n",
              "      <td>NaN</td>\n",
              "      <td>NaN</td>\n",
              "      <td>NaN</td>\n",
              "      <td>No</td>\n",
              "      <td>No</td>\n",
              "      <td>No</td>\n",
              "      <td>No</td>\n",
              "      <td>No</td>\n",
              "      <td>No</td>\n",
              "      <td>No</td>\n",
              "      <td>No</td>\n",
              "      <td>No</td>\n",
              "      <td>NaN</td>\n",
              "      <td>No</td>\n",
              "      <td>No</td>\n",
              "      <td>No</td>\n",
              "      <td>No</td>\n",
              "      <td>No</td>\n",
              "      <td>No</td>\n",
              "      <td>No</td>\n",
              "      <td>No</td>\n",
              "      <td>No</td>\n",
              "      <td>No</td>\n",
              "      <td>No</td>\n",
              "      <td>NaN</td>\n",
              "      <td>NaN</td>\n",
              "      <td>NaN</td>\n",
              "      <td>None</td>\n",
              "      <td>NaN</td>\n",
              "      <td>NaN</td>\n",
              "      <td>NaN</td>\n",
              "      <td>NaN</td>\n",
              "      <td>NaN</td>\n",
              "      <td>NaN</td>\n",
              "      <td>25-29</td>\n",
              "      <td>0.0</td>\n",
              "      <td>Higher</td>\n",
              "      <td>Aire Metropolitaine</td>\n",
              "      <td>Urban</td>\n",
              "      <td>Protestant</td>\n",
              "      <td>NaN</td>\n",
              "      <td>Not working and didn't work in last 12 months</td>\n",
              "      <td>Never in union</td>\n",
              "    </tr>\n",
              "    <tr>\n",
              "      <th>15510</th>\n",
              "      <td>NaN</td>\n",
              "      <td>None</td>\n",
              "      <td>NaN</td>\n",
              "      <td>NaN</td>\n",
              "      <td>NaN</td>\n",
              "      <td>NaN</td>\n",
              "      <td>NaN</td>\n",
              "      <td>NaN</td>\n",
              "      <td>No</td>\n",
              "      <td>No</td>\n",
              "      <td>No</td>\n",
              "      <td>No</td>\n",
              "      <td>No</td>\n",
              "      <td>No</td>\n",
              "      <td>No</td>\n",
              "      <td>No</td>\n",
              "      <td>No</td>\n",
              "      <td>NaN</td>\n",
              "      <td>No</td>\n",
              "      <td>No</td>\n",
              "      <td>No</td>\n",
              "      <td>No</td>\n",
              "      <td>No</td>\n",
              "      <td>No</td>\n",
              "      <td>No</td>\n",
              "      <td>No</td>\n",
              "      <td>No</td>\n",
              "      <td>No</td>\n",
              "      <td>No</td>\n",
              "      <td>NaN</td>\n",
              "      <td>NaN</td>\n",
              "      <td>NaN</td>\n",
              "      <td>None</td>\n",
              "      <td>NaN</td>\n",
              "      <td>NaN</td>\n",
              "      <td>NaN</td>\n",
              "      <td>NaN</td>\n",
              "      <td>NaN</td>\n",
              "      <td>NaN</td>\n",
              "      <td>30-34</td>\n",
              "      <td>0.0</td>\n",
              "      <td>Higher</td>\n",
              "      <td>Aire Metropolitaine</td>\n",
              "      <td>Urban</td>\n",
              "      <td>Protestant</td>\n",
              "      <td>NaN</td>\n",
              "      <td>Employï¿½ administratif du secteur privï¿½</td>\n",
              "      <td>Never in union</td>\n",
              "    </tr>\n",
              "    <tr>\n",
              "      <th>15511</th>\n",
              "      <td>NaN</td>\n",
              "      <td>None</td>\n",
              "      <td>NaN</td>\n",
              "      <td>NaN</td>\n",
              "      <td>NaN</td>\n",
              "      <td>NaN</td>\n",
              "      <td>NaN</td>\n",
              "      <td>NaN</td>\n",
              "      <td>No</td>\n",
              "      <td>No</td>\n",
              "      <td>No</td>\n",
              "      <td>No</td>\n",
              "      <td>No</td>\n",
              "      <td>No</td>\n",
              "      <td>No</td>\n",
              "      <td>No</td>\n",
              "      <td>No</td>\n",
              "      <td>NaN</td>\n",
              "      <td>No</td>\n",
              "      <td>No</td>\n",
              "      <td>No</td>\n",
              "      <td>No</td>\n",
              "      <td>No</td>\n",
              "      <td>No</td>\n",
              "      <td>No</td>\n",
              "      <td>No</td>\n",
              "      <td>No</td>\n",
              "      <td>No</td>\n",
              "      <td>No</td>\n",
              "      <td>NaN</td>\n",
              "      <td>NaN</td>\n",
              "      <td>NaN</td>\n",
              "      <td>None</td>\n",
              "      <td>NaN</td>\n",
              "      <td>NaN</td>\n",
              "      <td>NaN</td>\n",
              "      <td>NaN</td>\n",
              "      <td>NaN</td>\n",
              "      <td>NaN</td>\n",
              "      <td>30-34</td>\n",
              "      <td>0.0</td>\n",
              "      <td>Higher</td>\n",
              "      <td>Aire Metropolitaine</td>\n",
              "      <td>Urban</td>\n",
              "      <td>Protestant</td>\n",
              "      <td>NaN</td>\n",
              "      <td>Commercant et assimilï¿½</td>\n",
              "      <td>Never in union</td>\n",
              "    </tr>\n",
              "    <tr>\n",
              "      <th>15512</th>\n",
              "      <td>NaN</td>\n",
              "      <td>None</td>\n",
              "      <td>NaN</td>\n",
              "      <td>NaN</td>\n",
              "      <td>NaN</td>\n",
              "      <td>NaN</td>\n",
              "      <td>NaN</td>\n",
              "      <td>NaN</td>\n",
              "      <td>No</td>\n",
              "      <td>No</td>\n",
              "      <td>No</td>\n",
              "      <td>No</td>\n",
              "      <td>No</td>\n",
              "      <td>No</td>\n",
              "      <td>No</td>\n",
              "      <td>No</td>\n",
              "      <td>No</td>\n",
              "      <td>NaN</td>\n",
              "      <td>No</td>\n",
              "      <td>No</td>\n",
              "      <td>No</td>\n",
              "      <td>No</td>\n",
              "      <td>No</td>\n",
              "      <td>No</td>\n",
              "      <td>No</td>\n",
              "      <td>No</td>\n",
              "      <td>No</td>\n",
              "      <td>No</td>\n",
              "      <td>No</td>\n",
              "      <td>NaN</td>\n",
              "      <td>NaN</td>\n",
              "      <td>NaN</td>\n",
              "      <td>None</td>\n",
              "      <td>NaN</td>\n",
              "      <td>NaN</td>\n",
              "      <td>NaN</td>\n",
              "      <td>NaN</td>\n",
              "      <td>NaN</td>\n",
              "      <td>NaN</td>\n",
              "      <td>20-24</td>\n",
              "      <td>0.0</td>\n",
              "      <td>Higher</td>\n",
              "      <td>Aire Metropolitaine</td>\n",
              "      <td>Urban</td>\n",
              "      <td>Protestant</td>\n",
              "      <td>NaN</td>\n",
              "      <td>Personnel des services directs au particulier</td>\n",
              "      <td>Never in union</td>\n",
              "    </tr>\n",
              "  </tbody>\n",
              "</table>\n",
              "<p>15513 rows × 48 columns</p>\n",
              "</div>"
            ],
            "text/plain": [
              "      Last source for current users  ... Current marital status\n",
              "0                               NaN  ...         Never in union\n",
              "1                               NaN  ...         Never in union\n",
              "2                               NaN  ...         Never in union\n",
              "3                               NaN  ...                Married\n",
              "4                               NaN  ...                Married\n",
              "...                             ...  ...                    ...\n",
              "15508                           NaN  ...                    NaN\n",
              "15509                           NaN  ...         Never in union\n",
              "15510                           NaN  ...         Never in union\n",
              "15511                           NaN  ...         Never in union\n",
              "15512                           NaN  ...         Never in union\n",
              "\n",
              "[15513 rows x 48 columns]"
            ]
          },
          "metadata": {},
          "execution_count": 11
        }
      ]
    },
    {
      "cell_type": "code",
      "metadata": {
        "id": "d43z7hpPbdTF",
        "colab": {
          "base_uri": "https://localhost:8080/"
        },
        "outputId": "f49debfe-ed97-404e-c761-cd1a488aa0e9"
      },
      "source": [
        "df1.columns"
      ],
      "execution_count": null,
      "outputs": [
        {
          "output_type": "execute_result",
          "data": {
            "text/plain": [
              "Index(['Last source for current users',\n",
              "       'How many pregnancy losses during her live',\n",
              "       'Pregnancy outcome of termination',\n",
              "       'How many induced abortions during her live',\n",
              "       'How many miscarriages during her live',\n",
              "       'How many children were born dead during her live',\n",
              "       'Did decide herself on abortion or was forced by someone',\n",
              "       'Who forced her to do the abortion',\n",
              "       'What was used to end the pregnancy - dilatation and curettage',\n",
              "       'What was used to end the pregnancy - aspiration',\n",
              "       'What was used to end the pregnancy - sonde',\n",
              "       'What was used to end the pregnancy - Cytotek (Misoprostol)',\n",
              "       'What was used to end the pregnancy - injections',\n",
              "       'What was used to end the pregnancy - comprimï¿½s',\n",
              "       'What was used to end the pregnancy - plants/ dï¿½coction',\n",
              "       'What was used to end the pregnancy - other',\n",
              "       'What was used to end the pregnancy - don't know',\n",
              "       'Where did the abortion take place',\n",
              "       'Who assisted during this abortion - doctor',\n",
              "       'Who assisted during this abortion - nurse',\n",
              "       'Who assisted during this abortion - auxiliary',\n",
              "       'Who assisted during this abortion - health agent',\n",
              "       'Who assisted during this abortion - birth attendant/ matrone avec boï¿½te',\n",
              "       'Who assisted during this abortion - traditional birth attendant/ matrone sans bo',\n",
              "       'Who assisted during this abortion - guï¿½risseur/mï¿½decin-feuille',\n",
              "       'Who assisted during this abortion - Ougan/mambo',\n",
              "       'Who assisted during this abortion - relatives/ friends',\n",
              "       'Who assisted during this abortion - other',\n",
              "       'Who assisted during this abortion - nobody',\n",
              "       'Did suffer complication from this abortion',\n",
              "       'Would consider another abortion with unwanted pregnancy',\n",
              "       'Tried to abort more pregnancies, but failed',\n",
              "       'How many such tentative abortions failed', 'Pregnancy duration',\n",
              "       'Pregnancy duration 1', 'Pregnancy duration 2', 'Pregnancy duration 3',\n",
              "       'Pregnancy duration 4', 'Pregnancy duration 5', 'Age in 5-year groups',\n",
              "       'Number of living children', 'Highest educational level', 'Region',\n",
              "       'Type of place of residence', 'Religion',\n",
              "       'Husband/partner's education level', 'Respondent's occupation',\n",
              "       'Current marital status'],\n",
              "      dtype='object')"
            ]
          },
          "metadata": {},
          "execution_count": 12
        }
      ]
    },
    {
      "cell_type": "code",
      "metadata": {
        "id": "A8IA-QTobdTG",
        "colab": {
          "base_uri": "https://localhost:8080/",
          "height": 424
        },
        "outputId": "a544a3d9-d60c-49a1-ae34-2495ae7d7bae"
      },
      "source": [
        "df1.loc[~(df1['How many induced abortions during her live'].isna()),['How many induced abortions during her live','How many miscarriages during her live']]"
      ],
      "execution_count": null,
      "outputs": [
        {
          "output_type": "execute_result",
          "data": {
            "text/html": [
              "<div>\n",
              "<style scoped>\n",
              "    .dataframe tbody tr th:only-of-type {\n",
              "        vertical-align: middle;\n",
              "    }\n",
              "\n",
              "    .dataframe tbody tr th {\n",
              "        vertical-align: top;\n",
              "    }\n",
              "\n",
              "    .dataframe thead th {\n",
              "        text-align: right;\n",
              "    }\n",
              "</style>\n",
              "<table border=\"1\" class=\"dataframe\">\n",
              "  <thead>\n",
              "    <tr style=\"text-align: right;\">\n",
              "      <th></th>\n",
              "      <th>How many induced abortions during her live</th>\n",
              "      <th>How many miscarriages during her live</th>\n",
              "    </tr>\n",
              "  </thead>\n",
              "  <tbody>\n",
              "    <tr>\n",
              "      <th>10</th>\n",
              "      <td>1.0</td>\n",
              "      <td>0.0</td>\n",
              "    </tr>\n",
              "    <tr>\n",
              "      <th>13</th>\n",
              "      <td>0.0</td>\n",
              "      <td>1.0</td>\n",
              "    </tr>\n",
              "    <tr>\n",
              "      <th>17</th>\n",
              "      <td>0.0</td>\n",
              "      <td>1.0</td>\n",
              "    </tr>\n",
              "    <tr>\n",
              "      <th>27</th>\n",
              "      <td>1.0</td>\n",
              "      <td>0.0</td>\n",
              "    </tr>\n",
              "    <tr>\n",
              "      <th>30</th>\n",
              "      <td>1.0</td>\n",
              "      <td>0.0</td>\n",
              "    </tr>\n",
              "    <tr>\n",
              "      <th>...</th>\n",
              "      <td>...</td>\n",
              "      <td>...</td>\n",
              "    </tr>\n",
              "    <tr>\n",
              "      <th>15436</th>\n",
              "      <td>0.0</td>\n",
              "      <td>0.0</td>\n",
              "    </tr>\n",
              "    <tr>\n",
              "      <th>15450</th>\n",
              "      <td>0.0</td>\n",
              "      <td>1.0</td>\n",
              "    </tr>\n",
              "    <tr>\n",
              "      <th>15460</th>\n",
              "      <td>0.0</td>\n",
              "      <td>0.0</td>\n",
              "    </tr>\n",
              "    <tr>\n",
              "      <th>15499</th>\n",
              "      <td>0.0</td>\n",
              "      <td>1.0</td>\n",
              "    </tr>\n",
              "    <tr>\n",
              "      <th>15505</th>\n",
              "      <td>0.0</td>\n",
              "      <td>1.0</td>\n",
              "    </tr>\n",
              "  </tbody>\n",
              "</table>\n",
              "<p>1753 rows × 2 columns</p>\n",
              "</div>"
            ],
            "text/plain": [
              "       How many induced abortions during her live  How many miscarriages during her live\n",
              "10                                            1.0                                    0.0\n",
              "13                                            0.0                                    1.0\n",
              "17                                            0.0                                    1.0\n",
              "27                                            1.0                                    0.0\n",
              "30                                            1.0                                    0.0\n",
              "...                                           ...                                    ...\n",
              "15436                                         0.0                                    0.0\n",
              "15450                                         0.0                                    1.0\n",
              "15460                                         0.0                                    0.0\n",
              "15499                                         0.0                                    1.0\n",
              "15505                                         0.0                                    1.0\n",
              "\n",
              "[1753 rows x 2 columns]"
            ]
          },
          "metadata": {},
          "execution_count": 13
        }
      ]
    },
    {
      "cell_type": "code",
      "metadata": {
        "id": "1WwkmBVzbdTG",
        "colab": {
          "base_uri": "https://localhost:8080/"
        },
        "outputId": "06900d4d-9cfb-4279-c76d-c77ed163e744"
      },
      "source": [
        "df1['How many miscarriages during her live'].unique()"
      ],
      "execution_count": null,
      "outputs": [
        {
          "output_type": "execute_result",
          "data": {
            "text/plain": [
              "array([nan,  0.,  1.,  2.,  5.,  3.,  4.,  8.,  6.])"
            ]
          },
          "metadata": {},
          "execution_count": 14
        }
      ]
    },
    {
      "cell_type": "code",
      "metadata": {
        "id": "53Pdo5ebbdTG"
      },
      "source": [
        "df1['How many induced abortions during her live'].fillna(0,inplace=True)\n",
        "#df1['How many miscarriages during her live'].fillna(0,inplace=True)"
      ],
      "execution_count": null,
      "outputs": []
    },
    {
      "cell_type": "code",
      "metadata": {
        "id": "iyHjCF3bbdTH",
        "colab": {
          "base_uri": "https://localhost:8080/"
        },
        "outputId": "e7260ce9-2629-4295-fcd3-8a4f57450b97"
      },
      "source": [
        "df1[['How many induced abortions during her live','How many miscarriages during her live']].isna().sum()"
      ],
      "execution_count": null,
      "outputs": [
        {
          "output_type": "execute_result",
          "data": {
            "text/plain": [
              "How many induced abortions during her live        0\n",
              "How many miscarriages during her live         13760\n",
              "dtype: int64"
            ]
          },
          "metadata": {},
          "execution_count": 16
        }
      ]
    },
    {
      "cell_type": "code",
      "metadata": {
        "id": "0OZXUCU0bdTH"
      },
      "source": [
        "df1['target'] = 'No Abortion'\n",
        "df1.loc[(df1['How many induced abortions during her live']!=0) ,'target'] = 'Abortion'"
      ],
      "execution_count": null,
      "outputs": []
    },
    {
      "cell_type": "code",
      "metadata": {
        "id": "6L6fcrNdbdTH",
        "colab": {
          "base_uri": "https://localhost:8080/"
        },
        "outputId": "a9095aba-42fc-46bf-ec41-e9a9a0ad2815"
      },
      "source": [
        "df1['target'].value_counts(normalize=False)"
      ],
      "execution_count": null,
      "outputs": [
        {
          "output_type": "execute_result",
          "data": {
            "text/plain": [
              "No Abortion    15033\n",
              "Abortion         480\n",
              "Name: target, dtype: int64"
            ]
          },
          "metadata": {},
          "execution_count": 18
        }
      ]
    },
    {
      "cell_type": "markdown",
      "metadata": {
        "id": "7P5Cw-brbdTH"
      },
      "source": [
        "df1['Number of living children']=churn['ToNumber of living childrentalCharges'].replace({'NaN': 0})\n",
        "df1['Number of living children']=churn['ToNumber of living childrentalCharges'].astype('float')"
      ]
    },
    {
      "cell_type": "code",
      "metadata": {
        "id": "U_6Q41ZClog2",
        "colab": {
          "base_uri": "https://localhost:8080/"
        },
        "outputId": "59f13af5-c59d-442f-affd-e3118a2c9fff"
      },
      "source": [
        "df1.info()"
      ],
      "execution_count": null,
      "outputs": [
        {
          "output_type": "stream",
          "name": "stdout",
          "text": [
            "<class 'pandas.core.frame.DataFrame'>\n",
            "RangeIndex: 15513 entries, 0 to 15512\n",
            "Data columns (total 49 columns):\n",
            " #   Column                                                                            Non-Null Count  Dtype  \n",
            "---  ------                                                                            --------------  -----  \n",
            " 0   Last source for current users                                                     3151 non-null   object \n",
            " 1   How many pregnancy losses during her live                                         14371 non-null  object \n",
            " 2   Pregnancy outcome of termination                                                  1013 non-null   object \n",
            " 3   How many induced abortions during her live                                        15513 non-null  float64\n",
            " 4   How many miscarriages during her live                                             1753 non-null   float64\n",
            " 5   How many children were born dead during her live                                  1753 non-null   float64\n",
            " 6   Did decide herself on abortion or was forced by someone                           259 non-null    object \n",
            " 7   Who forced her to do the abortion                                                 65 non-null     object \n",
            " 8   What was used to end the pregnancy - dilatation and curettage                     14371 non-null  object \n",
            " 9   What was used to end the pregnancy - aspiration                                   14371 non-null  object \n",
            " 10  What was used to end the pregnancy - sonde                                        14371 non-null  object \n",
            " 11  What was used to end the pregnancy - Cytotek (Misoprostol)                        14371 non-null  object \n",
            " 12  What was used to end the pregnancy - injections                                   14371 non-null  object \n",
            " 13  What was used to end the pregnancy - comprimï¿½s                                  14371 non-null  object \n",
            " 14  What was used to end the pregnancy - plants/ dï¿½coction                          14371 non-null  object \n",
            " 15  What was used to end the pregnancy - other                                        14371 non-null  object \n",
            " 16  What was used to end the pregnancy - don't know                                   14371 non-null  object \n",
            " 17  Where did the abortion take place                                                 259 non-null    object \n",
            " 18  Who assisted during this abortion - doctor                                        14371 non-null  object \n",
            " 19  Who assisted during this abortion - nurse                                         14371 non-null  object \n",
            " 20  Who assisted during this abortion - auxiliary                                     14371 non-null  object \n",
            " 21  Who assisted during this abortion - health agent                                  14371 non-null  object \n",
            " 22  Who assisted during this abortion - birth attendant/ matrone avec boï¿½te         14371 non-null  object \n",
            " 23  Who assisted during this abortion - traditional birth attendant/ matrone sans bo  14371 non-null  object \n",
            " 24  Who assisted during this abortion - guï¿½risseur/mï¿½decin-feuille                14371 non-null  object \n",
            " 25  Who assisted during this abortion - Ougan/mambo                                   14371 non-null  object \n",
            " 26  Who assisted during this abortion - relatives/ friends                            14371 non-null  object \n",
            " 27  Who assisted during this abortion - other                                         14371 non-null  object \n",
            " 28  Who assisted during this abortion - nobody                                        14371 non-null  object \n",
            " 29  Did suffer complication from this abortion                                        259 non-null    object \n",
            " 30  Would consider another abortion with unwanted pregnancy                           259 non-null    object \n",
            " 31  Tried to abort more pregnancies, but failed                                       480 non-null    object \n",
            " 32  How many such tentative abortions failed                                          14371 non-null  object \n",
            " 33  Pregnancy duration                                                                843 non-null    float64\n",
            " 34  Pregnancy duration 1                                                              71 non-null     float64\n",
            " 35  Pregnancy duration 2                                                              12 non-null     float64\n",
            " 36  Pregnancy duration 3                                                              3 non-null      float64\n",
            " 37  Pregnancy duration 4                                                              0 non-null      float64\n",
            " 38  Pregnancy duration 5                                                              0 non-null      float64\n",
            " 39  Age in 5-year groups                                                              15513 non-null  object \n",
            " 40  Number of living children                                                         14371 non-null  float64\n",
            " 41  Highest educational level                                                         15513 non-null  object \n",
            " 42  Region                                                                            15513 non-null  object \n",
            " 43  Type of place of residence                                                        15513 non-null  object \n",
            " 44  Religion                                                                          15513 non-null  object \n",
            " 45  Husband/partner's education level                                                 7563 non-null   object \n",
            " 46  Respondent's occupation                                                           14371 non-null  object \n",
            " 47  Current marital status                                                            14371 non-null  object \n",
            " 48  target                                                                            15513 non-null  object \n",
            "dtypes: float64(10), object(39)\n",
            "memory usage: 5.8+ MB\n"
          ]
        }
      ]
    },
    {
      "cell_type": "code",
      "metadata": {
        "id": "06jppSS0bdTJ"
      },
      "source": [
        "df1= df1.drop('Last source for current users', axis=1)"
      ],
      "execution_count": null,
      "outputs": []
    },
    {
      "cell_type": "code",
      "metadata": {
        "id": "wqjhKGsgbdTJ",
        "colab": {
          "base_uri": "https://localhost:8080/",
          "height": 600
        },
        "outputId": "f6c3fc13-ddcd-4197-dd92-a04b4cca2755"
      },
      "source": [
        "df1.isnull()"
      ],
      "execution_count": null,
      "outputs": [
        {
          "output_type": "execute_result",
          "data": {
            "text/html": [
              "<div>\n",
              "<style scoped>\n",
              "    .dataframe tbody tr th:only-of-type {\n",
              "        vertical-align: middle;\n",
              "    }\n",
              "\n",
              "    .dataframe tbody tr th {\n",
              "        vertical-align: top;\n",
              "    }\n",
              "\n",
              "    .dataframe thead th {\n",
              "        text-align: right;\n",
              "    }\n",
              "</style>\n",
              "<table border=\"1\" class=\"dataframe\">\n",
              "  <thead>\n",
              "    <tr style=\"text-align: right;\">\n",
              "      <th></th>\n",
              "      <th>How many pregnancy losses during her live</th>\n",
              "      <th>Pregnancy outcome of termination</th>\n",
              "      <th>How many induced abortions during her live</th>\n",
              "      <th>How many miscarriages during her live</th>\n",
              "      <th>How many children were born dead during her live</th>\n",
              "      <th>Did decide herself on abortion or was forced by someone</th>\n",
              "      <th>Who forced her to do the abortion</th>\n",
              "      <th>What was used to end the pregnancy - dilatation and curettage</th>\n",
              "      <th>What was used to end the pregnancy - aspiration</th>\n",
              "      <th>What was used to end the pregnancy - sonde</th>\n",
              "      <th>What was used to end the pregnancy - Cytotek (Misoprostol)</th>\n",
              "      <th>What was used to end the pregnancy - injections</th>\n",
              "      <th>What was used to end the pregnancy - comprimï¿½s</th>\n",
              "      <th>What was used to end the pregnancy - plants/ dï¿½coction</th>\n",
              "      <th>What was used to end the pregnancy - other</th>\n",
              "      <th>What was used to end the pregnancy - don't know</th>\n",
              "      <th>Where did the abortion take place</th>\n",
              "      <th>Who assisted during this abortion - doctor</th>\n",
              "      <th>Who assisted during this abortion - nurse</th>\n",
              "      <th>Who assisted during this abortion - auxiliary</th>\n",
              "      <th>Who assisted during this abortion - health agent</th>\n",
              "      <th>Who assisted during this abortion - birth attendant/ matrone avec boï¿½te</th>\n",
              "      <th>Who assisted during this abortion - traditional birth attendant/ matrone sans bo</th>\n",
              "      <th>Who assisted during this abortion - guï¿½risseur/mï¿½decin-feuille</th>\n",
              "      <th>Who assisted during this abortion - Ougan/mambo</th>\n",
              "      <th>Who assisted during this abortion - relatives/ friends</th>\n",
              "      <th>Who assisted during this abortion - other</th>\n",
              "      <th>Who assisted during this abortion - nobody</th>\n",
              "      <th>Did suffer complication from this abortion</th>\n",
              "      <th>Would consider another abortion with unwanted pregnancy</th>\n",
              "      <th>Tried to abort more pregnancies, but failed</th>\n",
              "      <th>How many such tentative abortions failed</th>\n",
              "      <th>Pregnancy duration</th>\n",
              "      <th>Pregnancy duration 1</th>\n",
              "      <th>Pregnancy duration 2</th>\n",
              "      <th>Pregnancy duration 3</th>\n",
              "      <th>Pregnancy duration 4</th>\n",
              "      <th>Pregnancy duration 5</th>\n",
              "      <th>Age in 5-year groups</th>\n",
              "      <th>Number of living children</th>\n",
              "      <th>Highest educational level</th>\n",
              "      <th>Region</th>\n",
              "      <th>Type of place of residence</th>\n",
              "      <th>Religion</th>\n",
              "      <th>Husband/partner's education level</th>\n",
              "      <th>Respondent's occupation</th>\n",
              "      <th>Current marital status</th>\n",
              "      <th>target</th>\n",
              "    </tr>\n",
              "  </thead>\n",
              "  <tbody>\n",
              "    <tr>\n",
              "      <th>0</th>\n",
              "      <td>False</td>\n",
              "      <td>True</td>\n",
              "      <td>False</td>\n",
              "      <td>True</td>\n",
              "      <td>True</td>\n",
              "      <td>True</td>\n",
              "      <td>True</td>\n",
              "      <td>False</td>\n",
              "      <td>False</td>\n",
              "      <td>False</td>\n",
              "      <td>False</td>\n",
              "      <td>False</td>\n",
              "      <td>False</td>\n",
              "      <td>False</td>\n",
              "      <td>False</td>\n",
              "      <td>False</td>\n",
              "      <td>True</td>\n",
              "      <td>False</td>\n",
              "      <td>False</td>\n",
              "      <td>False</td>\n",
              "      <td>False</td>\n",
              "      <td>False</td>\n",
              "      <td>False</td>\n",
              "      <td>False</td>\n",
              "      <td>False</td>\n",
              "      <td>False</td>\n",
              "      <td>False</td>\n",
              "      <td>False</td>\n",
              "      <td>True</td>\n",
              "      <td>True</td>\n",
              "      <td>True</td>\n",
              "      <td>False</td>\n",
              "      <td>True</td>\n",
              "      <td>True</td>\n",
              "      <td>True</td>\n",
              "      <td>True</td>\n",
              "      <td>True</td>\n",
              "      <td>True</td>\n",
              "      <td>False</td>\n",
              "      <td>False</td>\n",
              "      <td>False</td>\n",
              "      <td>False</td>\n",
              "      <td>False</td>\n",
              "      <td>False</td>\n",
              "      <td>True</td>\n",
              "      <td>False</td>\n",
              "      <td>False</td>\n",
              "      <td>False</td>\n",
              "    </tr>\n",
              "    <tr>\n",
              "      <th>1</th>\n",
              "      <td>False</td>\n",
              "      <td>True</td>\n",
              "      <td>False</td>\n",
              "      <td>True</td>\n",
              "      <td>True</td>\n",
              "      <td>True</td>\n",
              "      <td>True</td>\n",
              "      <td>False</td>\n",
              "      <td>False</td>\n",
              "      <td>False</td>\n",
              "      <td>False</td>\n",
              "      <td>False</td>\n",
              "      <td>False</td>\n",
              "      <td>False</td>\n",
              "      <td>False</td>\n",
              "      <td>False</td>\n",
              "      <td>True</td>\n",
              "      <td>False</td>\n",
              "      <td>False</td>\n",
              "      <td>False</td>\n",
              "      <td>False</td>\n",
              "      <td>False</td>\n",
              "      <td>False</td>\n",
              "      <td>False</td>\n",
              "      <td>False</td>\n",
              "      <td>False</td>\n",
              "      <td>False</td>\n",
              "      <td>False</td>\n",
              "      <td>True</td>\n",
              "      <td>True</td>\n",
              "      <td>True</td>\n",
              "      <td>False</td>\n",
              "      <td>True</td>\n",
              "      <td>True</td>\n",
              "      <td>True</td>\n",
              "      <td>True</td>\n",
              "      <td>True</td>\n",
              "      <td>True</td>\n",
              "      <td>False</td>\n",
              "      <td>False</td>\n",
              "      <td>False</td>\n",
              "      <td>False</td>\n",
              "      <td>False</td>\n",
              "      <td>False</td>\n",
              "      <td>True</td>\n",
              "      <td>False</td>\n",
              "      <td>False</td>\n",
              "      <td>False</td>\n",
              "    </tr>\n",
              "    <tr>\n",
              "      <th>2</th>\n",
              "      <td>False</td>\n",
              "      <td>True</td>\n",
              "      <td>False</td>\n",
              "      <td>True</td>\n",
              "      <td>True</td>\n",
              "      <td>True</td>\n",
              "      <td>True</td>\n",
              "      <td>False</td>\n",
              "      <td>False</td>\n",
              "      <td>False</td>\n",
              "      <td>False</td>\n",
              "      <td>False</td>\n",
              "      <td>False</td>\n",
              "      <td>False</td>\n",
              "      <td>False</td>\n",
              "      <td>False</td>\n",
              "      <td>True</td>\n",
              "      <td>False</td>\n",
              "      <td>False</td>\n",
              "      <td>False</td>\n",
              "      <td>False</td>\n",
              "      <td>False</td>\n",
              "      <td>False</td>\n",
              "      <td>False</td>\n",
              "      <td>False</td>\n",
              "      <td>False</td>\n",
              "      <td>False</td>\n",
              "      <td>False</td>\n",
              "      <td>True</td>\n",
              "      <td>True</td>\n",
              "      <td>True</td>\n",
              "      <td>False</td>\n",
              "      <td>True</td>\n",
              "      <td>True</td>\n",
              "      <td>True</td>\n",
              "      <td>True</td>\n",
              "      <td>True</td>\n",
              "      <td>True</td>\n",
              "      <td>False</td>\n",
              "      <td>False</td>\n",
              "      <td>False</td>\n",
              "      <td>False</td>\n",
              "      <td>False</td>\n",
              "      <td>False</td>\n",
              "      <td>True</td>\n",
              "      <td>False</td>\n",
              "      <td>False</td>\n",
              "      <td>False</td>\n",
              "    </tr>\n",
              "    <tr>\n",
              "      <th>3</th>\n",
              "      <td>False</td>\n",
              "      <td>True</td>\n",
              "      <td>False</td>\n",
              "      <td>True</td>\n",
              "      <td>True</td>\n",
              "      <td>True</td>\n",
              "      <td>True</td>\n",
              "      <td>False</td>\n",
              "      <td>False</td>\n",
              "      <td>False</td>\n",
              "      <td>False</td>\n",
              "      <td>False</td>\n",
              "      <td>False</td>\n",
              "      <td>False</td>\n",
              "      <td>False</td>\n",
              "      <td>False</td>\n",
              "      <td>True</td>\n",
              "      <td>False</td>\n",
              "      <td>False</td>\n",
              "      <td>False</td>\n",
              "      <td>False</td>\n",
              "      <td>False</td>\n",
              "      <td>False</td>\n",
              "      <td>False</td>\n",
              "      <td>False</td>\n",
              "      <td>False</td>\n",
              "      <td>False</td>\n",
              "      <td>False</td>\n",
              "      <td>True</td>\n",
              "      <td>True</td>\n",
              "      <td>True</td>\n",
              "      <td>False</td>\n",
              "      <td>True</td>\n",
              "      <td>True</td>\n",
              "      <td>True</td>\n",
              "      <td>True</td>\n",
              "      <td>True</td>\n",
              "      <td>True</td>\n",
              "      <td>False</td>\n",
              "      <td>False</td>\n",
              "      <td>False</td>\n",
              "      <td>False</td>\n",
              "      <td>False</td>\n",
              "      <td>False</td>\n",
              "      <td>False</td>\n",
              "      <td>False</td>\n",
              "      <td>False</td>\n",
              "      <td>False</td>\n",
              "    </tr>\n",
              "    <tr>\n",
              "      <th>4</th>\n",
              "      <td>False</td>\n",
              "      <td>True</td>\n",
              "      <td>False</td>\n",
              "      <td>True</td>\n",
              "      <td>True</td>\n",
              "      <td>True</td>\n",
              "      <td>True</td>\n",
              "      <td>False</td>\n",
              "      <td>False</td>\n",
              "      <td>False</td>\n",
              "      <td>False</td>\n",
              "      <td>False</td>\n",
              "      <td>False</td>\n",
              "      <td>False</td>\n",
              "      <td>False</td>\n",
              "      <td>False</td>\n",
              "      <td>True</td>\n",
              "      <td>False</td>\n",
              "      <td>False</td>\n",
              "      <td>False</td>\n",
              "      <td>False</td>\n",
              "      <td>False</td>\n",
              "      <td>False</td>\n",
              "      <td>False</td>\n",
              "      <td>False</td>\n",
              "      <td>False</td>\n",
              "      <td>False</td>\n",
              "      <td>False</td>\n",
              "      <td>True</td>\n",
              "      <td>True</td>\n",
              "      <td>True</td>\n",
              "      <td>False</td>\n",
              "      <td>True</td>\n",
              "      <td>True</td>\n",
              "      <td>True</td>\n",
              "      <td>True</td>\n",
              "      <td>True</td>\n",
              "      <td>True</td>\n",
              "      <td>False</td>\n",
              "      <td>False</td>\n",
              "      <td>False</td>\n",
              "      <td>False</td>\n",
              "      <td>False</td>\n",
              "      <td>False</td>\n",
              "      <td>False</td>\n",
              "      <td>False</td>\n",
              "      <td>False</td>\n",
              "      <td>False</td>\n",
              "    </tr>\n",
              "    <tr>\n",
              "      <th>...</th>\n",
              "      <td>...</td>\n",
              "      <td>...</td>\n",
              "      <td>...</td>\n",
              "      <td>...</td>\n",
              "      <td>...</td>\n",
              "      <td>...</td>\n",
              "      <td>...</td>\n",
              "      <td>...</td>\n",
              "      <td>...</td>\n",
              "      <td>...</td>\n",
              "      <td>...</td>\n",
              "      <td>...</td>\n",
              "      <td>...</td>\n",
              "      <td>...</td>\n",
              "      <td>...</td>\n",
              "      <td>...</td>\n",
              "      <td>...</td>\n",
              "      <td>...</td>\n",
              "      <td>...</td>\n",
              "      <td>...</td>\n",
              "      <td>...</td>\n",
              "      <td>...</td>\n",
              "      <td>...</td>\n",
              "      <td>...</td>\n",
              "      <td>...</td>\n",
              "      <td>...</td>\n",
              "      <td>...</td>\n",
              "      <td>...</td>\n",
              "      <td>...</td>\n",
              "      <td>...</td>\n",
              "      <td>...</td>\n",
              "      <td>...</td>\n",
              "      <td>...</td>\n",
              "      <td>...</td>\n",
              "      <td>...</td>\n",
              "      <td>...</td>\n",
              "      <td>...</td>\n",
              "      <td>...</td>\n",
              "      <td>...</td>\n",
              "      <td>...</td>\n",
              "      <td>...</td>\n",
              "      <td>...</td>\n",
              "      <td>...</td>\n",
              "      <td>...</td>\n",
              "      <td>...</td>\n",
              "      <td>...</td>\n",
              "      <td>...</td>\n",
              "      <td>...</td>\n",
              "    </tr>\n",
              "    <tr>\n",
              "      <th>15508</th>\n",
              "      <td>True</td>\n",
              "      <td>True</td>\n",
              "      <td>False</td>\n",
              "      <td>True</td>\n",
              "      <td>True</td>\n",
              "      <td>True</td>\n",
              "      <td>True</td>\n",
              "      <td>True</td>\n",
              "      <td>True</td>\n",
              "      <td>True</td>\n",
              "      <td>True</td>\n",
              "      <td>True</td>\n",
              "      <td>True</td>\n",
              "      <td>True</td>\n",
              "      <td>True</td>\n",
              "      <td>True</td>\n",
              "      <td>True</td>\n",
              "      <td>True</td>\n",
              "      <td>True</td>\n",
              "      <td>True</td>\n",
              "      <td>True</td>\n",
              "      <td>True</td>\n",
              "      <td>True</td>\n",
              "      <td>True</td>\n",
              "      <td>True</td>\n",
              "      <td>True</td>\n",
              "      <td>True</td>\n",
              "      <td>True</td>\n",
              "      <td>True</td>\n",
              "      <td>True</td>\n",
              "      <td>True</td>\n",
              "      <td>True</td>\n",
              "      <td>True</td>\n",
              "      <td>True</td>\n",
              "      <td>True</td>\n",
              "      <td>True</td>\n",
              "      <td>True</td>\n",
              "      <td>True</td>\n",
              "      <td>False</td>\n",
              "      <td>True</td>\n",
              "      <td>False</td>\n",
              "      <td>False</td>\n",
              "      <td>False</td>\n",
              "      <td>False</td>\n",
              "      <td>True</td>\n",
              "      <td>True</td>\n",
              "      <td>True</td>\n",
              "      <td>False</td>\n",
              "    </tr>\n",
              "    <tr>\n",
              "      <th>15509</th>\n",
              "      <td>False</td>\n",
              "      <td>True</td>\n",
              "      <td>False</td>\n",
              "      <td>True</td>\n",
              "      <td>True</td>\n",
              "      <td>True</td>\n",
              "      <td>True</td>\n",
              "      <td>False</td>\n",
              "      <td>False</td>\n",
              "      <td>False</td>\n",
              "      <td>False</td>\n",
              "      <td>False</td>\n",
              "      <td>False</td>\n",
              "      <td>False</td>\n",
              "      <td>False</td>\n",
              "      <td>False</td>\n",
              "      <td>True</td>\n",
              "      <td>False</td>\n",
              "      <td>False</td>\n",
              "      <td>False</td>\n",
              "      <td>False</td>\n",
              "      <td>False</td>\n",
              "      <td>False</td>\n",
              "      <td>False</td>\n",
              "      <td>False</td>\n",
              "      <td>False</td>\n",
              "      <td>False</td>\n",
              "      <td>False</td>\n",
              "      <td>True</td>\n",
              "      <td>True</td>\n",
              "      <td>True</td>\n",
              "      <td>False</td>\n",
              "      <td>True</td>\n",
              "      <td>True</td>\n",
              "      <td>True</td>\n",
              "      <td>True</td>\n",
              "      <td>True</td>\n",
              "      <td>True</td>\n",
              "      <td>False</td>\n",
              "      <td>False</td>\n",
              "      <td>False</td>\n",
              "      <td>False</td>\n",
              "      <td>False</td>\n",
              "      <td>False</td>\n",
              "      <td>True</td>\n",
              "      <td>False</td>\n",
              "      <td>False</td>\n",
              "      <td>False</td>\n",
              "    </tr>\n",
              "    <tr>\n",
              "      <th>15510</th>\n",
              "      <td>False</td>\n",
              "      <td>True</td>\n",
              "      <td>False</td>\n",
              "      <td>True</td>\n",
              "      <td>True</td>\n",
              "      <td>True</td>\n",
              "      <td>True</td>\n",
              "      <td>False</td>\n",
              "      <td>False</td>\n",
              "      <td>False</td>\n",
              "      <td>False</td>\n",
              "      <td>False</td>\n",
              "      <td>False</td>\n",
              "      <td>False</td>\n",
              "      <td>False</td>\n",
              "      <td>False</td>\n",
              "      <td>True</td>\n",
              "      <td>False</td>\n",
              "      <td>False</td>\n",
              "      <td>False</td>\n",
              "      <td>False</td>\n",
              "      <td>False</td>\n",
              "      <td>False</td>\n",
              "      <td>False</td>\n",
              "      <td>False</td>\n",
              "      <td>False</td>\n",
              "      <td>False</td>\n",
              "      <td>False</td>\n",
              "      <td>True</td>\n",
              "      <td>True</td>\n",
              "      <td>True</td>\n",
              "      <td>False</td>\n",
              "      <td>True</td>\n",
              "      <td>True</td>\n",
              "      <td>True</td>\n",
              "      <td>True</td>\n",
              "      <td>True</td>\n",
              "      <td>True</td>\n",
              "      <td>False</td>\n",
              "      <td>False</td>\n",
              "      <td>False</td>\n",
              "      <td>False</td>\n",
              "      <td>False</td>\n",
              "      <td>False</td>\n",
              "      <td>True</td>\n",
              "      <td>False</td>\n",
              "      <td>False</td>\n",
              "      <td>False</td>\n",
              "    </tr>\n",
              "    <tr>\n",
              "      <th>15511</th>\n",
              "      <td>False</td>\n",
              "      <td>True</td>\n",
              "      <td>False</td>\n",
              "      <td>True</td>\n",
              "      <td>True</td>\n",
              "      <td>True</td>\n",
              "      <td>True</td>\n",
              "      <td>False</td>\n",
              "      <td>False</td>\n",
              "      <td>False</td>\n",
              "      <td>False</td>\n",
              "      <td>False</td>\n",
              "      <td>False</td>\n",
              "      <td>False</td>\n",
              "      <td>False</td>\n",
              "      <td>False</td>\n",
              "      <td>True</td>\n",
              "      <td>False</td>\n",
              "      <td>False</td>\n",
              "      <td>False</td>\n",
              "      <td>False</td>\n",
              "      <td>False</td>\n",
              "      <td>False</td>\n",
              "      <td>False</td>\n",
              "      <td>False</td>\n",
              "      <td>False</td>\n",
              "      <td>False</td>\n",
              "      <td>False</td>\n",
              "      <td>True</td>\n",
              "      <td>True</td>\n",
              "      <td>True</td>\n",
              "      <td>False</td>\n",
              "      <td>True</td>\n",
              "      <td>True</td>\n",
              "      <td>True</td>\n",
              "      <td>True</td>\n",
              "      <td>True</td>\n",
              "      <td>True</td>\n",
              "      <td>False</td>\n",
              "      <td>False</td>\n",
              "      <td>False</td>\n",
              "      <td>False</td>\n",
              "      <td>False</td>\n",
              "      <td>False</td>\n",
              "      <td>True</td>\n",
              "      <td>False</td>\n",
              "      <td>False</td>\n",
              "      <td>False</td>\n",
              "    </tr>\n",
              "    <tr>\n",
              "      <th>15512</th>\n",
              "      <td>False</td>\n",
              "      <td>True</td>\n",
              "      <td>False</td>\n",
              "      <td>True</td>\n",
              "      <td>True</td>\n",
              "      <td>True</td>\n",
              "      <td>True</td>\n",
              "      <td>False</td>\n",
              "      <td>False</td>\n",
              "      <td>False</td>\n",
              "      <td>False</td>\n",
              "      <td>False</td>\n",
              "      <td>False</td>\n",
              "      <td>False</td>\n",
              "      <td>False</td>\n",
              "      <td>False</td>\n",
              "      <td>True</td>\n",
              "      <td>False</td>\n",
              "      <td>False</td>\n",
              "      <td>False</td>\n",
              "      <td>False</td>\n",
              "      <td>False</td>\n",
              "      <td>False</td>\n",
              "      <td>False</td>\n",
              "      <td>False</td>\n",
              "      <td>False</td>\n",
              "      <td>False</td>\n",
              "      <td>False</td>\n",
              "      <td>True</td>\n",
              "      <td>True</td>\n",
              "      <td>True</td>\n",
              "      <td>False</td>\n",
              "      <td>True</td>\n",
              "      <td>True</td>\n",
              "      <td>True</td>\n",
              "      <td>True</td>\n",
              "      <td>True</td>\n",
              "      <td>True</td>\n",
              "      <td>False</td>\n",
              "      <td>False</td>\n",
              "      <td>False</td>\n",
              "      <td>False</td>\n",
              "      <td>False</td>\n",
              "      <td>False</td>\n",
              "      <td>True</td>\n",
              "      <td>False</td>\n",
              "      <td>False</td>\n",
              "      <td>False</td>\n",
              "    </tr>\n",
              "  </tbody>\n",
              "</table>\n",
              "<p>15513 rows × 48 columns</p>\n",
              "</div>"
            ],
            "text/plain": [
              "       How many pregnancy losses during her live  ...  target\n",
              "0                                          False  ...   False\n",
              "1                                          False  ...   False\n",
              "2                                          False  ...   False\n",
              "3                                          False  ...   False\n",
              "4                                          False  ...   False\n",
              "...                                          ...  ...     ...\n",
              "15508                                       True  ...   False\n",
              "15509                                      False  ...   False\n",
              "15510                                      False  ...   False\n",
              "15511                                      False  ...   False\n",
              "15512                                      False  ...   False\n",
              "\n",
              "[15513 rows x 48 columns]"
            ]
          },
          "metadata": {},
          "execution_count": 21
        }
      ]
    },
    {
      "cell_type": "code",
      "metadata": {
        "id": "PeyBAfHJbdTJ",
        "colab": {
          "base_uri": "https://localhost:8080/"
        },
        "outputId": "f5e7f6f1-852f-41a0-dc28-47e8efbc0700"
      },
      "source": [
        "#df1['How many pregnancy losses during her live'].unique\n",
        "df1['How many pregnancy losses during her live'].nunique\n"
      ],
      "execution_count": null,
      "outputs": [
        {
          "output_type": "execute_result",
          "data": {
            "text/plain": [
              "<bound method IndexOpsMixin.nunique of 0        None\n",
              "1        None\n",
              "2        None\n",
              "3        None\n",
              "4        None\n",
              "         ... \n",
              "15508     NaN\n",
              "15509    None\n",
              "15510    None\n",
              "15511    None\n",
              "15512    None\n",
              "Name: How many pregnancy losses during her live, Length: 15513, dtype: object>"
            ]
          },
          "metadata": {},
          "execution_count": 22
        }
      ]
    },
    {
      "cell_type": "code",
      "metadata": {
        "id": "Pt4WthE2bdTK"
      },
      "source": [
        "df1['Number of living children']= df1['Number of living children'].apply(lambda x : str(x).replace(\"nan\" ,\"0\"))\n"
      ],
      "execution_count": null,
      "outputs": []
    },
    {
      "cell_type": "code",
      "metadata": {
        "id": "7aAFkz4bbdTK"
      },
      "source": [
        "df1['Number of living children']=df1['Number of living children'].astype(float)"
      ],
      "execution_count": null,
      "outputs": []
    },
    {
      "cell_type": "code",
      "metadata": {
        "id": "eyZL3ifRbdTK",
        "colab": {
          "base_uri": "https://localhost:8080/"
        },
        "outputId": "e39e27dd-9700-416c-bb47-b9fb586209fc"
      },
      "source": [
        "df1['Number of living children'].dtypes"
      ],
      "execution_count": null,
      "outputs": [
        {
          "output_type": "execute_result",
          "data": {
            "text/plain": [
              "dtype('float64')"
            ]
          },
          "metadata": {},
          "execution_count": 25
        }
      ]
    },
    {
      "cell_type": "code",
      "metadata": {
        "id": "_-rIDQQCbdTK"
      },
      "source": [
        "#df1['Pregnancy duration'].nunique()"
      ],
      "execution_count": null,
      "outputs": []
    },
    {
      "cell_type": "code",
      "metadata": {
        "id": "XboG1CwmbdTK",
        "colab": {
          "base_uri": "https://localhost:8080/",
          "height": 539
        },
        "outputId": "23210a06-26e3-4a4e-a845-0d451dc84a3a"
      },
      "source": [
        "df1.head()"
      ],
      "execution_count": null,
      "outputs": [
        {
          "output_type": "execute_result",
          "data": {
            "text/html": [
              "<div>\n",
              "<style scoped>\n",
              "    .dataframe tbody tr th:only-of-type {\n",
              "        vertical-align: middle;\n",
              "    }\n",
              "\n",
              "    .dataframe tbody tr th {\n",
              "        vertical-align: top;\n",
              "    }\n",
              "\n",
              "    .dataframe thead th {\n",
              "        text-align: right;\n",
              "    }\n",
              "</style>\n",
              "<table border=\"1\" class=\"dataframe\">\n",
              "  <thead>\n",
              "    <tr style=\"text-align: right;\">\n",
              "      <th></th>\n",
              "      <th>How many pregnancy losses during her live</th>\n",
              "      <th>Pregnancy outcome of termination</th>\n",
              "      <th>How many induced abortions during her live</th>\n",
              "      <th>How many miscarriages during her live</th>\n",
              "      <th>How many children were born dead during her live</th>\n",
              "      <th>Did decide herself on abortion or was forced by someone</th>\n",
              "      <th>Who forced her to do the abortion</th>\n",
              "      <th>What was used to end the pregnancy - dilatation and curettage</th>\n",
              "      <th>What was used to end the pregnancy - aspiration</th>\n",
              "      <th>What was used to end the pregnancy - sonde</th>\n",
              "      <th>What was used to end the pregnancy - Cytotek (Misoprostol)</th>\n",
              "      <th>What was used to end the pregnancy - injections</th>\n",
              "      <th>What was used to end the pregnancy - comprimï¿½s</th>\n",
              "      <th>What was used to end the pregnancy - plants/ dï¿½coction</th>\n",
              "      <th>What was used to end the pregnancy - other</th>\n",
              "      <th>What was used to end the pregnancy - don't know</th>\n",
              "      <th>Where did the abortion take place</th>\n",
              "      <th>Who assisted during this abortion - doctor</th>\n",
              "      <th>Who assisted during this abortion - nurse</th>\n",
              "      <th>Who assisted during this abortion - auxiliary</th>\n",
              "      <th>Who assisted during this abortion - health agent</th>\n",
              "      <th>Who assisted during this abortion - birth attendant/ matrone avec boï¿½te</th>\n",
              "      <th>Who assisted during this abortion - traditional birth attendant/ matrone sans bo</th>\n",
              "      <th>Who assisted during this abortion - guï¿½risseur/mï¿½decin-feuille</th>\n",
              "      <th>Who assisted during this abortion - Ougan/mambo</th>\n",
              "      <th>Who assisted during this abortion - relatives/ friends</th>\n",
              "      <th>Who assisted during this abortion - other</th>\n",
              "      <th>Who assisted during this abortion - nobody</th>\n",
              "      <th>Did suffer complication from this abortion</th>\n",
              "      <th>Would consider another abortion with unwanted pregnancy</th>\n",
              "      <th>Tried to abort more pregnancies, but failed</th>\n",
              "      <th>How many such tentative abortions failed</th>\n",
              "      <th>Pregnancy duration</th>\n",
              "      <th>Pregnancy duration 1</th>\n",
              "      <th>Pregnancy duration 2</th>\n",
              "      <th>Pregnancy duration 3</th>\n",
              "      <th>Pregnancy duration 4</th>\n",
              "      <th>Pregnancy duration 5</th>\n",
              "      <th>Age in 5-year groups</th>\n",
              "      <th>Number of living children</th>\n",
              "      <th>Highest educational level</th>\n",
              "      <th>Region</th>\n",
              "      <th>Type of place of residence</th>\n",
              "      <th>Religion</th>\n",
              "      <th>Husband/partner's education level</th>\n",
              "      <th>Respondent's occupation</th>\n",
              "      <th>Current marital status</th>\n",
              "      <th>target</th>\n",
              "    </tr>\n",
              "  </thead>\n",
              "  <tbody>\n",
              "    <tr>\n",
              "      <th>0</th>\n",
              "      <td>None</td>\n",
              "      <td>NaN</td>\n",
              "      <td>0.0</td>\n",
              "      <td>NaN</td>\n",
              "      <td>NaN</td>\n",
              "      <td>NaN</td>\n",
              "      <td>NaN</td>\n",
              "      <td>No</td>\n",
              "      <td>No</td>\n",
              "      <td>No</td>\n",
              "      <td>No</td>\n",
              "      <td>No</td>\n",
              "      <td>No</td>\n",
              "      <td>No</td>\n",
              "      <td>No</td>\n",
              "      <td>No</td>\n",
              "      <td>NaN</td>\n",
              "      <td>No</td>\n",
              "      <td>No</td>\n",
              "      <td>No</td>\n",
              "      <td>No</td>\n",
              "      <td>No</td>\n",
              "      <td>No</td>\n",
              "      <td>No</td>\n",
              "      <td>No</td>\n",
              "      <td>No</td>\n",
              "      <td>No</td>\n",
              "      <td>No</td>\n",
              "      <td>NaN</td>\n",
              "      <td>NaN</td>\n",
              "      <td>NaN</td>\n",
              "      <td>None</td>\n",
              "      <td>NaN</td>\n",
              "      <td>NaN</td>\n",
              "      <td>NaN</td>\n",
              "      <td>NaN</td>\n",
              "      <td>NaN</td>\n",
              "      <td>NaN</td>\n",
              "      <td>15-19</td>\n",
              "      <td>0.0</td>\n",
              "      <td>Secondary</td>\n",
              "      <td>Sud</td>\n",
              "      <td>Rural</td>\n",
              "      <td>Protestant</td>\n",
              "      <td>NaN</td>\n",
              "      <td>Not working and didn't work in last 12 months</td>\n",
              "      <td>Never in union</td>\n",
              "      <td>No Abortion</td>\n",
              "    </tr>\n",
              "    <tr>\n",
              "      <th>1</th>\n",
              "      <td>None</td>\n",
              "      <td>NaN</td>\n",
              "      <td>0.0</td>\n",
              "      <td>NaN</td>\n",
              "      <td>NaN</td>\n",
              "      <td>NaN</td>\n",
              "      <td>NaN</td>\n",
              "      <td>No</td>\n",
              "      <td>No</td>\n",
              "      <td>No</td>\n",
              "      <td>No</td>\n",
              "      <td>No</td>\n",
              "      <td>No</td>\n",
              "      <td>No</td>\n",
              "      <td>No</td>\n",
              "      <td>No</td>\n",
              "      <td>NaN</td>\n",
              "      <td>No</td>\n",
              "      <td>No</td>\n",
              "      <td>No</td>\n",
              "      <td>No</td>\n",
              "      <td>No</td>\n",
              "      <td>No</td>\n",
              "      <td>No</td>\n",
              "      <td>No</td>\n",
              "      <td>No</td>\n",
              "      <td>No</td>\n",
              "      <td>No</td>\n",
              "      <td>NaN</td>\n",
              "      <td>NaN</td>\n",
              "      <td>NaN</td>\n",
              "      <td>None</td>\n",
              "      <td>NaN</td>\n",
              "      <td>NaN</td>\n",
              "      <td>NaN</td>\n",
              "      <td>NaN</td>\n",
              "      <td>NaN</td>\n",
              "      <td>NaN</td>\n",
              "      <td>25-29</td>\n",
              "      <td>0.0</td>\n",
              "      <td>Secondary</td>\n",
              "      <td>Sud</td>\n",
              "      <td>Rural</td>\n",
              "      <td>Catholic</td>\n",
              "      <td>NaN</td>\n",
              "      <td>Commercant et assimilï¿½</td>\n",
              "      <td>Never in union</td>\n",
              "      <td>No Abortion</td>\n",
              "    </tr>\n",
              "    <tr>\n",
              "      <th>2</th>\n",
              "      <td>None</td>\n",
              "      <td>NaN</td>\n",
              "      <td>0.0</td>\n",
              "      <td>NaN</td>\n",
              "      <td>NaN</td>\n",
              "      <td>NaN</td>\n",
              "      <td>NaN</td>\n",
              "      <td>No</td>\n",
              "      <td>No</td>\n",
              "      <td>No</td>\n",
              "      <td>No</td>\n",
              "      <td>No</td>\n",
              "      <td>No</td>\n",
              "      <td>No</td>\n",
              "      <td>No</td>\n",
              "      <td>No</td>\n",
              "      <td>NaN</td>\n",
              "      <td>No</td>\n",
              "      <td>No</td>\n",
              "      <td>No</td>\n",
              "      <td>No</td>\n",
              "      <td>No</td>\n",
              "      <td>No</td>\n",
              "      <td>No</td>\n",
              "      <td>No</td>\n",
              "      <td>No</td>\n",
              "      <td>No</td>\n",
              "      <td>No</td>\n",
              "      <td>NaN</td>\n",
              "      <td>NaN</td>\n",
              "      <td>NaN</td>\n",
              "      <td>None</td>\n",
              "      <td>NaN</td>\n",
              "      <td>NaN</td>\n",
              "      <td>NaN</td>\n",
              "      <td>NaN</td>\n",
              "      <td>NaN</td>\n",
              "      <td>NaN</td>\n",
              "      <td>15-19</td>\n",
              "      <td>0.0</td>\n",
              "      <td>Primary</td>\n",
              "      <td>Sud</td>\n",
              "      <td>Rural</td>\n",
              "      <td>Catholic</td>\n",
              "      <td>NaN</td>\n",
              "      <td>Not working and didn't work in last 12 months</td>\n",
              "      <td>Never in union</td>\n",
              "      <td>No Abortion</td>\n",
              "    </tr>\n",
              "    <tr>\n",
              "      <th>3</th>\n",
              "      <td>None</td>\n",
              "      <td>NaN</td>\n",
              "      <td>0.0</td>\n",
              "      <td>NaN</td>\n",
              "      <td>NaN</td>\n",
              "      <td>NaN</td>\n",
              "      <td>NaN</td>\n",
              "      <td>No</td>\n",
              "      <td>No</td>\n",
              "      <td>No</td>\n",
              "      <td>No</td>\n",
              "      <td>No</td>\n",
              "      <td>No</td>\n",
              "      <td>No</td>\n",
              "      <td>No</td>\n",
              "      <td>No</td>\n",
              "      <td>NaN</td>\n",
              "      <td>No</td>\n",
              "      <td>No</td>\n",
              "      <td>No</td>\n",
              "      <td>No</td>\n",
              "      <td>No</td>\n",
              "      <td>No</td>\n",
              "      <td>No</td>\n",
              "      <td>No</td>\n",
              "      <td>No</td>\n",
              "      <td>No</td>\n",
              "      <td>No</td>\n",
              "      <td>NaN</td>\n",
              "      <td>NaN</td>\n",
              "      <td>NaN</td>\n",
              "      <td>None</td>\n",
              "      <td>NaN</td>\n",
              "      <td>NaN</td>\n",
              "      <td>NaN</td>\n",
              "      <td>NaN</td>\n",
              "      <td>NaN</td>\n",
              "      <td>NaN</td>\n",
              "      <td>30-34</td>\n",
              "      <td>1.0</td>\n",
              "      <td>Secondary</td>\n",
              "      <td>Sud</td>\n",
              "      <td>Rural</td>\n",
              "      <td>Protestant</td>\n",
              "      <td>Higher</td>\n",
              "      <td>Insituteur et assimilï¿½s</td>\n",
              "      <td>Married</td>\n",
              "      <td>No Abortion</td>\n",
              "    </tr>\n",
              "    <tr>\n",
              "      <th>4</th>\n",
              "      <td>None</td>\n",
              "      <td>NaN</td>\n",
              "      <td>0.0</td>\n",
              "      <td>NaN</td>\n",
              "      <td>NaN</td>\n",
              "      <td>NaN</td>\n",
              "      <td>NaN</td>\n",
              "      <td>No</td>\n",
              "      <td>No</td>\n",
              "      <td>No</td>\n",
              "      <td>No</td>\n",
              "      <td>No</td>\n",
              "      <td>No</td>\n",
              "      <td>No</td>\n",
              "      <td>No</td>\n",
              "      <td>No</td>\n",
              "      <td>NaN</td>\n",
              "      <td>No</td>\n",
              "      <td>No</td>\n",
              "      <td>No</td>\n",
              "      <td>No</td>\n",
              "      <td>No</td>\n",
              "      <td>No</td>\n",
              "      <td>No</td>\n",
              "      <td>No</td>\n",
              "      <td>No</td>\n",
              "      <td>No</td>\n",
              "      <td>No</td>\n",
              "      <td>NaN</td>\n",
              "      <td>NaN</td>\n",
              "      <td>NaN</td>\n",
              "      <td>None</td>\n",
              "      <td>NaN</td>\n",
              "      <td>NaN</td>\n",
              "      <td>NaN</td>\n",
              "      <td>NaN</td>\n",
              "      <td>NaN</td>\n",
              "      <td>NaN</td>\n",
              "      <td>25-29</td>\n",
              "      <td>0.0</td>\n",
              "      <td>Secondary</td>\n",
              "      <td>Sud</td>\n",
              "      <td>Rural</td>\n",
              "      <td>Protestant</td>\n",
              "      <td>Higher</td>\n",
              "      <td>Insituteur et assimilï¿½s</td>\n",
              "      <td>Married</td>\n",
              "      <td>No Abortion</td>\n",
              "    </tr>\n",
              "  </tbody>\n",
              "</table>\n",
              "</div>"
            ],
            "text/plain": [
              "  How many pregnancy losses during her live  ...       target\n",
              "0                                      None  ...  No Abortion\n",
              "1                                      None  ...  No Abortion\n",
              "2                                      None  ...  No Abortion\n",
              "3                                      None  ...  No Abortion\n",
              "4                                      None  ...  No Abortion\n",
              "\n",
              "[5 rows x 48 columns]"
            ]
          },
          "metadata": {},
          "execution_count": 27
        }
      ]
    },
    {
      "cell_type": "code",
      "metadata": {
        "id": "b_kYCTk4bdTL",
        "colab": {
          "base_uri": "https://localhost:8080/"
        },
        "outputId": "a84ebca7-9a16-4315-96b9-aad0bb714bd2"
      },
      "source": [
        "df1.values"
      ],
      "execution_count": null,
      "outputs": [
        {
          "output_type": "execute_result",
          "data": {
            "text/plain": [
              "array([['None', nan, 0.0, ...,\n",
              "        \"Not working and didn't work in last 12 months\",\n",
              "        'Never in union', 'No Abortion'],\n",
              "       ['None', nan, 0.0, ..., 'Commercant et assimilï¿½',\n",
              "        'Never in union', 'No Abortion'],\n",
              "       ['None', nan, 0.0, ...,\n",
              "        \"Not working and didn't work in last 12 months\",\n",
              "        'Never in union', 'No Abortion'],\n",
              "       ...,\n",
              "       ['None', nan, 0.0, ...,\n",
              "        'Employï¿½ administratif du secteur privï¿½', 'Never in union',\n",
              "        'No Abortion'],\n",
              "       ['None', nan, 0.0, ..., 'Commercant et assimilï¿½',\n",
              "        'Never in union', 'No Abortion'],\n",
              "       ['None', nan, 0.0, ...,\n",
              "        'Personnel des services directs au particulier',\n",
              "        'Never in union', 'No Abortion']], dtype=object)"
            ]
          },
          "metadata": {},
          "execution_count": 28
        }
      ]
    },
    {
      "cell_type": "code",
      "metadata": {
        "id": "dNXSLl5pbdTL"
      },
      "source": [
        "#cols = ['Pregnancy duration 5']\n",
        "#df1.drop(cols, axis=1, inplace=True)"
      ],
      "execution_count": null,
      "outputs": []
    },
    {
      "cell_type": "code",
      "metadata": {
        "id": "EGGMu4z0bdTL",
        "colab": {
          "base_uri": "https://localhost:8080/",
          "height": 298
        },
        "outputId": "905fe923-3036-4e81-d192-b48c3579e853"
      },
      "source": [
        "df1[\"How many pregnancy losses during her live\"].value_counts().plot.bar()"
      ],
      "execution_count": null,
      "outputs": [
        {
          "output_type": "execute_result",
          "data": {
            "text/plain": [
              "<matplotlib.axes._subplots.AxesSubplot at 0x7f7879eb3490>"
            ]
          },
          "metadata": {},
          "execution_count": 30
        },
        {
          "output_type": "display_data",
          "data": {
            "image/png": "[encoded data removed]",
            "text/plain": [
              "<Figure size 432x288 with 1 Axes>"
            ]
          },
          "metadata": {
            "needs_background": "light"
          }
        }
      ]
    },
    {
      "cell_type": "code",
      "metadata": {
        "id": "iyJOeWKBbdTL"
      },
      "source": [
        "df1['How many pregnancy losses during her live'] = df1['How many pregnancy losses during her live'].apply(lambda x : str(x).replace(\"None\" ,\"0\"))\n",
        "df1['How many pregnancy losses during her live'] = df1['How many pregnancy losses during her live'].astype(float)"
      ],
      "execution_count": null,
      "outputs": []
    },
    {
      "cell_type": "code",
      "metadata": {
        "id": "1IfD3aWWbdTM",
        "colab": {
          "base_uri": "https://localhost:8080/"
        },
        "outputId": "0a0b1330-0f32-4238-d191-88e31974429d"
      },
      "source": [
        "df1[\"How many pregnancy losses during her live\"].value_counts()"
      ],
      "execution_count": null,
      "outputs": [
        {
          "output_type": "execute_result",
          "data": {
            "text/plain": [
              "0.0     12618\n",
              "1.0      1356\n",
              "2.0       275\n",
              "3.0        85\n",
              "4.0        24\n",
              "5.0         6\n",
              "8.0         2\n",
              "6.0         2\n",
              "10.0        2\n",
              "9.0         1\n",
              "Name: How many pregnancy losses during her live, dtype: int64"
            ]
          },
          "metadata": {},
          "execution_count": 32
        }
      ]
    },
    {
      "cell_type": "code",
      "metadata": {
        "id": "T_PkGORDbdTM",
        "colab": {
          "base_uri": "https://localhost:8080/"
        },
        "outputId": "92d971c9-15cb-443f-8b12-f429a533fc4c"
      },
      "source": [
        "df1[\"Respondent's occupation\"].unique()"
      ],
      "execution_count": null,
      "outputs": [
        {
          "output_type": "execute_result",
          "data": {
            "text/plain": [
              "array([\"Not working and didn't work in last 12 months\",\n",
              "       'Commercant et assimilï¿½', 'Insituteur et assimilï¿½s', nan,\n",
              "       'Personnel des services directs au particulier',\n",
              "       \"Profession de l'information des arts et spectacles\",\n",
              "       'Technicien (sauf technicien du tertiaire)',\n",
              "       'Employï¿½ du commerce', 'Ouvrier qualifiï¿½ de type industriel',\n",
              "       'Profession intermediare de la sante et du travail social',\n",
              "       'Agriculteur', 'Ouvrier qualifiï¿½ de type artisanal',\n",
              "       'Professeur, Profession Scientifque',\n",
              "       'Employï¿½ administratif du secteur privï¿½',\n",
              "       'Cadre de la fonction publique', 'Artisan',\n",
              "       'Policier ou militaire',\n",
              "       \"Cadres adminsitratifs ou commercial d'entreperise\",\n",
              "       'Profession intermediare/administrative du privï¿½',\n",
              "       \"Chef d'entreprise\", 'Other', 'Profession libï¿½rale',\n",
              "       'Clerge, regligieux', 'Chaffeur',\n",
              "       'Contremaitre, agent de maitrise',\n",
              "       'Employï¿½ ou agent de service du secteur public',\n",
              "       \"Ingenieur ou cadre technique d'entreprise\",\n",
              "       'Ouvrier agricole ou assimilï¿½',\n",
              "       'Ouvrier non qualifiï¿½ de type artisanal'], dtype=object)"
            ]
          },
          "metadata": {},
          "execution_count": 33
        }
      ]
    },
    {
      "cell_type": "code",
      "metadata": {
        "id": "FKrftR8jbdTM",
        "colab": {
          "base_uri": "https://localhost:8080/"
        },
        "outputId": "dba03516-2096-4509-bbf6-6506779b6e7c"
      },
      "source": [
        "df1['Region'].unique()"
      ],
      "execution_count": null,
      "outputs": [
        {
          "output_type": "execute_result",
          "data": {
            "text/plain": [
              "array(['Sud', 'Aire Metropolitaine', 'Artibonite', \"Grand'Anse\", 'Nippes',\n",
              "       'Nord', 'Rest-Ouest', 'Nord-Ouest', 'Centre', 'Nord-Est',\n",
              "       'Sud-Est'], dtype=object)"
            ]
          },
          "metadata": {},
          "execution_count": 34
        }
      ]
    },
    {
      "cell_type": "code",
      "metadata": {
        "id": "E7RqRbfzbdTM"
      },
      "source": [
        "df1['Region'] = df1['Region'].apply(lambda x : str(x).replace(\"Aire Metropolitaine\" ,\"Ouest\"))\n",
        "df1['Region'] = df1['Region'].apply(lambda x : str(x).replace(\"Rest-Ouest\" ,\"Ouest\"))"
      ],
      "execution_count": null,
      "outputs": []
    },
    {
      "cell_type": "code",
      "metadata": {
        "id": "ToLYx_mbbdTM",
        "colab": {
          "base_uri": "https://localhost:8080/"
        },
        "outputId": "ea485aec-875d-4440-f241-3db7487303dc"
      },
      "source": [
        "df1['Region'].unique()"
      ],
      "execution_count": null,
      "outputs": [
        {
          "output_type": "execute_result",
          "data": {
            "text/plain": [
              "array(['Sud', 'Ouest', 'Artibonite', \"Grand'Anse\", 'Nippes', 'Nord',\n",
              "       'Nord-Ouest', 'Centre', 'Nord-Est', 'Sud-Est'], dtype=object)"
            ]
          },
          "metadata": {},
          "execution_count": 36
        }
      ]
    },
    {
      "cell_type": "code",
      "metadata": {
        "id": "OSlSfXGrbdTN"
      },
      "source": [
        "df1[\"Respondent's occupation\"] = np.where(df1[\"Respondent's occupation\"] == \"Not working and didn't work in last 12 months\",\"Not working\", 'working')\n",
        " "
      ],
      "execution_count": null,
      "outputs": []
    },
    {
      "cell_type": "code",
      "metadata": {
        "id": "dQDyXxV9bdTN",
        "colab": {
          "base_uri": "https://localhost:8080/"
        },
        "outputId": "4cf842b1-e6f6-4cd6-f036-e87f395a8814"
      },
      "source": [
        "df1['How many such tentative abortions failed'].unique()"
      ],
      "execution_count": null,
      "outputs": [
        {
          "output_type": "execute_result",
          "data": {
            "text/plain": [
              "array(['None', nan, '2', '1', '9', '3', '5', '4', '8', '7'], dtype=object)"
            ]
          },
          "metadata": {},
          "execution_count": 38
        }
      ]
    },
    {
      "cell_type": "code",
      "metadata": {
        "id": "BRmSVgiObdTN"
      },
      "source": [
        "df1['How many such tentative abortions failed'] = df1['How many such tentative abortions failed'].apply(lambda x : str(x).replace(\"None\" ,\"0\"))\n",
        "df1['How many such tentative abortions failed'] = df1['How many such tentative abortions failed'].astype(float)"
      ],
      "execution_count": null,
      "outputs": []
    },
    {
      "cell_type": "code",
      "metadata": {
        "id": "Oh5Bwv_CbdTN",
        "colab": {
          "base_uri": "https://localhost:8080/"
        },
        "outputId": "433f82ba-0a6e-48b4-def4-0bef90469f85"
      },
      "source": [
        "df1[\"Respondent's occupation\"].value_counts()"
      ],
      "execution_count": null,
      "outputs": [
        {
          "output_type": "execute_result",
          "data": {
            "text/plain": [
              "working        9151\n",
              "Not working    6362\n",
              "Name: Respondent's occupation, dtype: int64"
            ]
          },
          "metadata": {},
          "execution_count": 40
        }
      ]
    },
    {
      "cell_type": "code",
      "metadata": {
        "id": "msJRbSJHbdTN",
        "colab": {
          "base_uri": "https://localhost:8080/"
        },
        "outputId": "ba29d395-7c9d-484e-b4ba-c6c5468f8d8a"
      },
      "source": [
        "df1.info()"
      ],
      "execution_count": null,
      "outputs": [
        {
          "output_type": "stream",
          "name": "stdout",
          "text": [
            "<class 'pandas.core.frame.DataFrame'>\n",
            "RangeIndex: 15513 entries, 0 to 15512\n",
            "Data columns (total 48 columns):\n",
            " #   Column                                                                            Non-Null Count  Dtype  \n",
            "---  ------                                                                            --------------  -----  \n",
            " 0   How many pregnancy losses during her live                                         14371 non-null  float64\n",
            " 1   Pregnancy outcome of termination                                                  1013 non-null   object \n",
            " 2   How many induced abortions during her live                                        15513 non-null  float64\n",
            " 3   How many miscarriages during her live                                             1753 non-null   float64\n",
            " 4   How many children were born dead during her live                                  1753 non-null   float64\n",
            " 5   Did decide herself on abortion or was forced by someone                           259 non-null    object \n",
            " 6   Who forced her to do the abortion                                                 65 non-null     object \n",
            " 7   What was used to end the pregnancy - dilatation and curettage                     14371 non-null  object \n",
            " 8   What was used to end the pregnancy - aspiration                                   14371 non-null  object \n",
            " 9   What was used to end the pregnancy - sonde                                        14371 non-null  object \n",
            " 10  What was used to end the pregnancy - Cytotek (Misoprostol)                        14371 non-null  object \n",
            " 11  What was used to end the pregnancy - injections                                   14371 non-null  object \n",
            " 12  What was used to end the pregnancy - comprimï¿½s                                  14371 non-null  object \n",
            " 13  What was used to end the pregnancy - plants/ dï¿½coction                          14371 non-null  object \n",
            " 14  What was used to end the pregnancy - other                                        14371 non-null  object \n",
            " 15  What was used to end the pregnancy - don't know                                   14371 non-null  object \n",
            " 16  Where did the abortion take place                                                 259 non-null    object \n",
            " 17  Who assisted during this abortion - doctor                                        14371 non-null  object \n",
            " 18  Who assisted during this abortion - nurse                                         14371 non-null  object \n",
            " 19  Who assisted during this abortion - auxiliary                                     14371 non-null  object \n",
            " 20  Who assisted during this abortion - health agent                                  14371 non-null  object \n",
            " 21  Who assisted during this abortion - birth attendant/ matrone avec boï¿½te         14371 non-null  object \n",
            " 22  Who assisted during this abortion - traditional birth attendant/ matrone sans bo  14371 non-null  object \n",
            " 23  Who assisted during this abortion - guï¿½risseur/mï¿½decin-feuille                14371 non-null  object \n",
            " 24  Who assisted during this abortion - Ougan/mambo                                   14371 non-null  object \n",
            " 25  Who assisted during this abortion - relatives/ friends                            14371 non-null  object \n",
            " 26  Who assisted during this abortion - other                                         14371 non-null  object \n",
            " 27  Who assisted during this abortion - nobody                                        14371 non-null  object \n",
            " 28  Did suffer complication from this abortion                                        259 non-null    object \n",
            " 29  Would consider another abortion with unwanted pregnancy                           259 non-null    object \n",
            " 30  Tried to abort more pregnancies, but failed                                       480 non-null    object \n",
            " 31  How many such tentative abortions failed                                          14371 non-null  float64\n",
            " 32  Pregnancy duration                                                                843 non-null    float64\n",
            " 33  Pregnancy duration 1                                                              71 non-null     float64\n",
            " 34  Pregnancy duration 2                                                              12 non-null     float64\n",
            " 35  Pregnancy duration 3                                                              3 non-null      float64\n",
            " 36  Pregnancy duration 4                                                              0 non-null      float64\n",
            " 37  Pregnancy duration 5                                                              0 non-null      float64\n",
            " 38  Age in 5-year groups                                                              15513 non-null  object \n",
            " 39  Number of living children                                                         15513 non-null  float64\n",
            " 40  Highest educational level                                                         15513 non-null  object \n",
            " 41  Region                                                                            15513 non-null  object \n",
            " 42  Type of place of residence                                                        15513 non-null  object \n",
            " 43  Religion                                                                          15513 non-null  object \n",
            " 44  Husband/partner's education level                                                 7563 non-null   object \n",
            " 45  Respondent's occupation                                                           15513 non-null  object \n",
            " 46  Current marital status                                                            14371 non-null  object \n",
            " 47  target                                                                            15513 non-null  object \n",
            "dtypes: float64(12), object(36)\n",
            "memory usage: 5.7+ MB\n"
          ]
        }
      ]
    },
    {
      "cell_type": "code",
      "metadata": {
        "id": "GN9IDisKbdTN",
        "colab": {
          "base_uri": "https://localhost:8080/"
        },
        "outputId": "220145ae-15a4-4892-be52-54b720e719b2"
      },
      "source": [
        "df1['Current marital status'].unique()"
      ],
      "execution_count": null,
      "outputs": [
        {
          "output_type": "execute_result",
          "data": {
            "text/plain": [
              "array(['Never in union', 'Married', 'Living with partner', nan,\n",
              "       'No longer living together/separated', 'Widowed', 'Divorced'],\n",
              "      dtype=object)"
            ]
          },
          "metadata": {},
          "execution_count": 42
        }
      ]
    },
    {
      "cell_type": "code",
      "metadata": {
        "id": "g6_0nLaGbdTN",
        "colab": {
          "base_uri": "https://localhost:8080/"
        },
        "outputId": "c2e4fb44-2c93-403a-fb66-51c869d07f7e"
      },
      "source": [
        "df1[\"How many induced abortions during her live\"].unique()\n"
      ],
      "execution_count": null,
      "outputs": [
        {
          "output_type": "execute_result",
          "data": {
            "text/plain": [
              "array([ 0.,  1.,  2.,  4.,  3.,  5., 10.])"
            ]
          },
          "metadata": {},
          "execution_count": 43
        }
      ]
    },
    {
      "cell_type": "code",
      "metadata": {
        "id": "N9LJYEk3bdTO"
      },
      "source": [
        "#df1[\"How many induced abortions during her live\"]."
      ],
      "execution_count": null,
      "outputs": []
    },
    {
      "cell_type": "code",
      "metadata": {
        "id": "PnMIbZFZbdTO",
        "colab": {
          "base_uri": "https://localhost:8080/"
        },
        "outputId": "a3afa0e7-1c25-4e12-a331-5b293f26244a"
      },
      "source": [
        "percent_missing = df1.isnull().sum() * 100 / len(df1)\n",
        "percent_missing"
      ],
      "execution_count": null,
      "outputs": [
        {
          "output_type": "execute_result",
          "data": {
            "text/plain": [
              "How many pregnancy losses during her live                                             7.361568\n",
              "Pregnancy outcome of termination                                                     93.469993\n",
              "How many induced abortions during her live                                            0.000000\n",
              "How many miscarriages during her live                                                88.699800\n",
              "How many children were born dead during her live                                     88.699800\n",
              "Did decide herself on abortion or was forced by someone                              98.330433\n",
              "Who forced her to do the abortion                                                    99.580997\n",
              "What was used to end the pregnancy - dilatation and curettage                         7.361568\n",
              "What was used to end the pregnancy - aspiration                                       7.361568\n",
              "What was used to end the pregnancy - sonde                                            7.361568\n",
              "What was used to end the pregnancy - Cytotek (Misoprostol)                            7.361568\n",
              "What was used to end the pregnancy - injections                                       7.361568\n",
              "What was used to end the pregnancy - comprimï¿½s                                      7.361568\n",
              "What was used to end the pregnancy - plants/ dï¿½coction                              7.361568\n",
              "What was used to end the pregnancy - other                                            7.361568\n",
              "What was used to end the pregnancy - don't know                                       7.361568\n",
              "Where did the abortion take place                                                    98.330433\n",
              "Who assisted during this abortion - doctor                                            7.361568\n",
              "Who assisted during this abortion - nurse                                             7.361568\n",
              "Who assisted during this abortion - auxiliary                                         7.361568\n",
              "Who assisted during this abortion - health agent                                      7.361568\n",
              "Who assisted during this abortion - birth attendant/ matrone avec boï¿½te             7.361568\n",
              "Who assisted during this abortion - traditional birth attendant/ matrone sans bo      7.361568\n",
              "Who assisted during this abortion - guï¿½risseur/mï¿½decin-feuille                    7.361568\n",
              "Who assisted during this abortion - Ougan/mambo                                       7.361568\n",
              "Who assisted during this abortion - relatives/ friends                                7.361568\n",
              "Who assisted during this abortion - other                                             7.361568\n",
              "Who assisted during this abortion - nobody                                            7.361568\n",
              "Did suffer complication from this abortion                                           98.330433\n",
              "Would consider another abortion with unwanted pregnancy                              98.330433\n",
              "Tried to abort more pregnancies, but failed                                          96.905821\n",
              "How many such tentative abortions failed                                              7.361568\n",
              "Pregnancy duration                                                                   94.565848\n",
              "Pregnancy duration 1                                                                 99.542319\n",
              "Pregnancy duration 2                                                                 99.922646\n",
              "Pregnancy duration 3                                                                 99.980661\n",
              "Pregnancy duration 4                                                                100.000000\n",
              "Pregnancy duration 5                                                                100.000000\n",
              "Age in 5-year groups                                                                  0.000000\n",
              "Number of living children                                                             0.000000\n",
              "Highest educational level                                                             0.000000\n",
              "Region                                                                                0.000000\n",
              "Type of place of residence                                                            0.000000\n",
              "Religion                                                                              0.000000\n",
              "Husband/partner's education level                                                    51.247341\n",
              "Respondent's occupation                                                               0.000000\n",
              "Current marital status                                                                7.361568\n",
              "target                                                                                0.000000\n",
              "dtype: float64"
            ]
          },
          "metadata": {},
          "execution_count": 45
        }
      ]
    },
    {
      "cell_type": "code",
      "metadata": {
        "id": "osbVpdClbdTO",
        "colab": {
          "base_uri": "https://localhost:8080/",
          "height": 1000
        },
        "outputId": "f9dc8724-c287-46b3-92ff-6b3934d66bc9"
      },
      "source": [
        "missing_value_df = pd.DataFrame({'column_name': df1.columns,\n",
        "                                 'percent_missing': percent_missing})\n",
        "missing_value_df.sort_values('percent_missing', inplace=True)\n",
        "missing_value_df"
      ],
      "execution_count": null,
      "outputs": [
        {
          "output_type": "execute_result",
          "data": {
            "text/html": [
              "<div>\n",
              "<style scoped>\n",
              "    .dataframe tbody tr th:only-of-type {\n",
              "        vertical-align: middle;\n",
              "    }\n",
              "\n",
              "    .dataframe tbody tr th {\n",
              "        vertical-align: top;\n",
              "    }\n",
              "\n",
              "    .dataframe thead th {\n",
              "        text-align: right;\n",
              "    }\n",
              "</style>\n",
              "<table border=\"1\" class=\"dataframe\">\n",
              "  <thead>\n",
              "    <tr style=\"text-align: right;\">\n",
              "      <th></th>\n",
              "      <th>column_name</th>\n",
              "      <th>percent_missing</th>\n",
              "    </tr>\n",
              "  </thead>\n",
              "  <tbody>\n",
              "    <tr>\n",
              "      <th>target</th>\n",
              "      <td>target</td>\n",
              "      <td>0.000000</td>\n",
              "    </tr>\n",
              "    <tr>\n",
              "      <th>Respondent's occupation</th>\n",
              "      <td>Respondent's occupation</td>\n",
              "      <td>0.000000</td>\n",
              "    </tr>\n",
              "    <tr>\n",
              "      <th>How many induced abortions during her live</th>\n",
              "      <td>How many induced abortions during her live</td>\n",
              "      <td>0.000000</td>\n",
              "    </tr>\n",
              "    <tr>\n",
              "      <th>Religion</th>\n",
              "      <td>Religion</td>\n",
              "      <td>0.000000</td>\n",
              "    </tr>\n",
              "    <tr>\n",
              "      <th>Type of place of residence</th>\n",
              "      <td>Type of place of residence</td>\n",
              "      <td>0.000000</td>\n",
              "    </tr>\n",
              "    <tr>\n",
              "      <th>Region</th>\n",
              "      <td>Region</td>\n",
              "      <td>0.000000</td>\n",
              "    </tr>\n",
              "    <tr>\n",
              "      <th>Highest educational level</th>\n",
              "      <td>Highest educational level</td>\n",
              "      <td>0.000000</td>\n",
              "    </tr>\n",
              "    <tr>\n",
              "      <th>Number of living children</th>\n",
              "      <td>Number of living children</td>\n",
              "      <td>0.000000</td>\n",
              "    </tr>\n",
              "    <tr>\n",
              "      <th>Age in 5-year groups</th>\n",
              "      <td>Age in 5-year groups</td>\n",
              "      <td>0.000000</td>\n",
              "    </tr>\n",
              "    <tr>\n",
              "      <th>Who assisted during this abortion - birth attendant/ matrone avec boï¿½te</th>\n",
              "      <td>Who assisted during this abortion - birth atte...</td>\n",
              "      <td>7.361568</td>\n",
              "    </tr>\n",
              "    <tr>\n",
              "      <th>Who assisted during this abortion - traditional birth attendant/ matrone sans bo</th>\n",
              "      <td>Who assisted during this abortion - traditiona...</td>\n",
              "      <td>7.361568</td>\n",
              "    </tr>\n",
              "    <tr>\n",
              "      <th>Current marital status</th>\n",
              "      <td>Current marital status</td>\n",
              "      <td>7.361568</td>\n",
              "    </tr>\n",
              "    <tr>\n",
              "      <th>Who assisted during this abortion - Ougan/mambo</th>\n",
              "      <td>Who assisted during this abortion - Ougan/mambo</td>\n",
              "      <td>7.361568</td>\n",
              "    </tr>\n",
              "    <tr>\n",
              "      <th>How many such tentative abortions failed</th>\n",
              "      <td>How many such tentative abortions failed</td>\n",
              "      <td>7.361568</td>\n",
              "    </tr>\n",
              "    <tr>\n",
              "      <th>Who assisted during this abortion - other</th>\n",
              "      <td>Who assisted during this abortion - other</td>\n",
              "      <td>7.361568</td>\n",
              "    </tr>\n",
              "    <tr>\n",
              "      <th>Who assisted during this abortion - nobody</th>\n",
              "      <td>Who assisted during this abortion - nobody</td>\n",
              "      <td>7.361568</td>\n",
              "    </tr>\n",
              "    <tr>\n",
              "      <th>Who assisted during this abortion - health agent</th>\n",
              "      <td>Who assisted during this abortion - health agent</td>\n",
              "      <td>7.361568</td>\n",
              "    </tr>\n",
              "    <tr>\n",
              "      <th>Who assisted during this abortion - relatives/ friends</th>\n",
              "      <td>Who assisted during this abortion - relatives/...</td>\n",
              "      <td>7.361568</td>\n",
              "    </tr>\n",
              "    <tr>\n",
              "      <th>Who assisted during this abortion - auxiliary</th>\n",
              "      <td>Who assisted during this abortion - auxiliary</td>\n",
              "      <td>7.361568</td>\n",
              "    </tr>\n",
              "    <tr>\n",
              "      <th>How many pregnancy losses during her live</th>\n",
              "      <td>How many pregnancy losses during her live</td>\n",
              "      <td>7.361568</td>\n",
              "    </tr>\n",
              "    <tr>\n",
              "      <th>Who assisted during this abortion - doctor</th>\n",
              "      <td>Who assisted during this abortion - doctor</td>\n",
              "      <td>7.361568</td>\n",
              "    </tr>\n",
              "    <tr>\n",
              "      <th>What was used to end the pregnancy - dilatation and curettage</th>\n",
              "      <td>What was used to end the pregnancy - dilatatio...</td>\n",
              "      <td>7.361568</td>\n",
              "    </tr>\n",
              "    <tr>\n",
              "      <th>What was used to end the pregnancy - aspiration</th>\n",
              "      <td>What was used to end the pregnancy - aspiration</td>\n",
              "      <td>7.361568</td>\n",
              "    </tr>\n",
              "    <tr>\n",
              "      <th>Who assisted during this abortion - nurse</th>\n",
              "      <td>Who assisted during this abortion - nurse</td>\n",
              "      <td>7.361568</td>\n",
              "    </tr>\n",
              "    <tr>\n",
              "      <th>What was used to end the pregnancy - sonde</th>\n",
              "      <td>What was used to end the pregnancy - sonde</td>\n",
              "      <td>7.361568</td>\n",
              "    </tr>\n",
              "    <tr>\n",
              "      <th>What was used to end the pregnancy - Cytotek (Misoprostol)</th>\n",
              "      <td>What was used to end the pregnancy - Cytotek (...</td>\n",
              "      <td>7.361568</td>\n",
              "    </tr>\n",
              "    <tr>\n",
              "      <th>Who assisted during this abortion - guï¿½risseur/mï¿½decin-feuille</th>\n",
              "      <td>Who assisted during this abortion - guï¿½risse...</td>\n",
              "      <td>7.361568</td>\n",
              "    </tr>\n",
              "    <tr>\n",
              "      <th>What was used to end the pregnancy - comprimï¿½s</th>\n",
              "      <td>What was used to end the pregnancy - comprimï¿½s</td>\n",
              "      <td>7.361568</td>\n",
              "    </tr>\n",
              "    <tr>\n",
              "      <th>What was used to end the pregnancy - plants/ dï¿½coction</th>\n",
              "      <td>What was used to end the pregnancy - plants/ d...</td>\n",
              "      <td>7.361568</td>\n",
              "    </tr>\n",
              "    <tr>\n",
              "      <th>What was used to end the pregnancy - other</th>\n",
              "      <td>What was used to end the pregnancy - other</td>\n",
              "      <td>7.361568</td>\n",
              "    </tr>\n",
              "    <tr>\n",
              "      <th>What was used to end the pregnancy - injections</th>\n",
              "      <td>What was used to end the pregnancy - injections</td>\n",
              "      <td>7.361568</td>\n",
              "    </tr>\n",
              "    <tr>\n",
              "      <th>What was used to end the pregnancy - don't know</th>\n",
              "      <td>What was used to end the pregnancy - don't know</td>\n",
              "      <td>7.361568</td>\n",
              "    </tr>\n",
              "    <tr>\n",
              "      <th>Husband/partner's education level</th>\n",
              "      <td>Husband/partner's education level</td>\n",
              "      <td>51.247341</td>\n",
              "    </tr>\n",
              "    <tr>\n",
              "      <th>How many miscarriages during her live</th>\n",
              "      <td>How many miscarriages during her live</td>\n",
              "      <td>88.699800</td>\n",
              "    </tr>\n",
              "    <tr>\n",
              "      <th>How many children were born dead during her live</th>\n",
              "      <td>How many children were born dead during her live</td>\n",
              "      <td>88.699800</td>\n",
              "    </tr>\n",
              "    <tr>\n",
              "      <th>Pregnancy outcome of termination</th>\n",
              "      <td>Pregnancy outcome of termination</td>\n",
              "      <td>93.469993</td>\n",
              "    </tr>\n",
              "    <tr>\n",
              "      <th>Pregnancy duration</th>\n",
              "      <td>Pregnancy duration</td>\n",
              "      <td>94.565848</td>\n",
              "    </tr>\n",
              "    <tr>\n",
              "      <th>Tried to abort more pregnancies, but failed</th>\n",
              "      <td>Tried to abort more pregnancies, but failed</td>\n",
              "      <td>96.905821</td>\n",
              "    </tr>\n",
              "    <tr>\n",
              "      <th>Did suffer complication from this abortion</th>\n",
              "      <td>Did suffer complication from this abortion</td>\n",
              "      <td>98.330433</td>\n",
              "    </tr>\n",
              "    <tr>\n",
              "      <th>Would consider another abortion with unwanted pregnancy</th>\n",
              "      <td>Would consider another abortion with unwanted ...</td>\n",
              "      <td>98.330433</td>\n",
              "    </tr>\n",
              "    <tr>\n",
              "      <th>Where did the abortion take place</th>\n",
              "      <td>Where did the abortion take place</td>\n",
              "      <td>98.330433</td>\n",
              "    </tr>\n",
              "    <tr>\n",
              "      <th>Did decide herself on abortion or was forced by someone</th>\n",
              "      <td>Did decide herself on abortion or was forced b...</td>\n",
              "      <td>98.330433</td>\n",
              "    </tr>\n",
              "    <tr>\n",
              "      <th>Pregnancy duration 1</th>\n",
              "      <td>Pregnancy duration 1</td>\n",
              "      <td>99.542319</td>\n",
              "    </tr>\n",
              "    <tr>\n",
              "      <th>Who forced her to do the abortion</th>\n",
              "      <td>Who forced her to do the abortion</td>\n",
              "      <td>99.580997</td>\n",
              "    </tr>\n",
              "    <tr>\n",
              "      <th>Pregnancy duration 2</th>\n",
              "      <td>Pregnancy duration 2</td>\n",
              "      <td>99.922646</td>\n",
              "    </tr>\n",
              "    <tr>\n",
              "      <th>Pregnancy duration 3</th>\n",
              "      <td>Pregnancy duration 3</td>\n",
              "      <td>99.980661</td>\n",
              "    </tr>\n",
              "    <tr>\n",
              "      <th>Pregnancy duration 4</th>\n",
              "      <td>Pregnancy duration 4</td>\n",
              "      <td>100.000000</td>\n",
              "    </tr>\n",
              "    <tr>\n",
              "      <th>Pregnancy duration 5</th>\n",
              "      <td>Pregnancy duration 5</td>\n",
              "      <td>100.000000</td>\n",
              "    </tr>\n",
              "  </tbody>\n",
              "</table>\n",
              "</div>"
            ],
            "text/plain": [
              "                                                                                          column_name  percent_missing\n",
              "target                                                                                         target         0.000000\n",
              "Respondent's occupation                                                       Respondent's occupation         0.000000\n",
              "How many induced abortions during her live                 How many induced abortions during her live         0.000000\n",
              "Religion                                                                                     Religion         0.000000\n",
              "Type of place of residence                                                 Type of place of residence         0.000000\n",
              "Region                                                                                         Region         0.000000\n",
              "Highest educational level                                                   Highest educational level         0.000000\n",
              "Number of living children                                                   Number of living children         0.000000\n",
              "Age in 5-year groups                                                             Age in 5-year groups         0.000000\n",
              "Who assisted during this abortion - birth atten...  Who assisted during this abortion - birth atte...         7.361568\n",
              "Who assisted during this abortion - traditional...  Who assisted during this abortion - traditiona...         7.361568\n",
              "Current marital status                                                         Current marital status         7.361568\n",
              "Who assisted during this abortion - Ougan/mambo       Who assisted during this abortion - Ougan/mambo         7.361568\n",
              "How many such tentative abortions failed                     How many such tentative abortions failed         7.361568\n",
              "Who assisted during this abortion - other                   Who assisted during this abortion - other         7.361568\n",
              "Who assisted during this abortion - nobody                 Who assisted during this abortion - nobody         7.361568\n",
              "Who assisted during this abortion - health agent     Who assisted during this abortion - health agent         7.361568\n",
              "Who assisted during this abortion - relatives/ ...  Who assisted during this abortion - relatives/...         7.361568\n",
              "Who assisted during this abortion - auxiliary           Who assisted during this abortion - auxiliary         7.361568\n",
              "How many pregnancy losses during her live                   How many pregnancy losses during her live         7.361568\n",
              "Who assisted during this abortion - doctor                 Who assisted during this abortion - doctor         7.361568\n",
              "What was used to end the pregnancy - dilatation...  What was used to end the pregnancy - dilatatio...         7.361568\n",
              "What was used to end the pregnancy - aspiration       What was used to end the pregnancy - aspiration         7.361568\n",
              "Who assisted during this abortion - nurse                   Who assisted during this abortion - nurse         7.361568\n",
              "What was used to end the pregnancy - sonde                 What was used to end the pregnancy - sonde         7.361568\n",
              "What was used to end the pregnancy - Cytotek (M...  What was used to end the pregnancy - Cytotek (...         7.361568\n",
              "Who assisted during this abortion - guï¿½risseu...  Who assisted during this abortion - guï¿½risse...         7.361568\n",
              "What was used to end the pregnancy - comprimï¿½s     What was used to end the pregnancy - comprimï¿½s         7.361568\n",
              "What was used to end the pregnancy - plants/ dï...  What was used to end the pregnancy - plants/ d...         7.361568\n",
              "What was used to end the pregnancy - other                 What was used to end the pregnancy - other         7.361568\n",
              "What was used to end the pregnancy - injections       What was used to end the pregnancy - injections         7.361568\n",
              "What was used to end the pregnancy - don't know       What was used to end the pregnancy - don't know         7.361568\n",
              "Husband/partner's education level                                   Husband/partner's education level        51.247341\n",
              "How many miscarriages during her live                           How many miscarriages during her live        88.699800\n",
              "How many children were born dead during her live     How many children were born dead during her live        88.699800\n",
              "Pregnancy outcome of termination                                     Pregnancy outcome of termination        93.469993\n",
              "Pregnancy duration                                                                 Pregnancy duration        94.565848\n",
              "Tried to abort more pregnancies, but failed               Tried to abort more pregnancies, but failed        96.905821\n",
              "Did suffer complication from this abortion                 Did suffer complication from this abortion        98.330433\n",
              "Would consider another abortion with unwanted p...  Would consider another abortion with unwanted ...        98.330433\n",
              "Where did the abortion take place                                   Where did the abortion take place        98.330433\n",
              "Did decide herself on abortion or was forced by...  Did decide herself on abortion or was forced b...        98.330433\n",
              "Pregnancy duration 1                                                             Pregnancy duration 1        99.542319\n",
              "Who forced her to do the abortion                                   Who forced her to do the abortion        99.580997\n",
              "Pregnancy duration 2                                                             Pregnancy duration 2        99.922646\n",
              "Pregnancy duration 3                                                             Pregnancy duration 3        99.980661\n",
              "Pregnancy duration 4                                                             Pregnancy duration 4       100.000000\n",
              "Pregnancy duration 5                                                             Pregnancy duration 5       100.000000"
            ]
          },
          "metadata": {},
          "execution_count": 46
        }
      ]
    },
    {
      "cell_type": "code",
      "metadata": {
        "id": "LHT1_TXcbdTO"
      },
      "source": [
        "#df1[df1.columns[df1.isnull().mean() < 0.8]]\n",
        "limitPer = len(df1) * .80\n",
        "df1 = df1.dropna(thresh=limitPer,axis=1)\n",
        "\n"
      ],
      "execution_count": null,
      "outputs": []
    },
    {
      "cell_type": "code",
      "metadata": {
        "id": "l6W_1mRRbdTO",
        "colab": {
          "base_uri": "https://localhost:8080/",
          "height": 774
        },
        "outputId": "60fdaa01-5384-4014-ae21-ab73760d87fe"
      },
      "source": [
        "df1"
      ],
      "execution_count": null,
      "outputs": [
        {
          "output_type": "execute_result",
          "data": {
            "text/html": [
              "<div>\n",
              "<style scoped>\n",
              "    .dataframe tbody tr th:only-of-type {\n",
              "        vertical-align: middle;\n",
              "    }\n",
              "\n",
              "    .dataframe tbody tr th {\n",
              "        vertical-align: top;\n",
              "    }\n",
              "\n",
              "    .dataframe thead th {\n",
              "        text-align: right;\n",
              "    }\n",
              "</style>\n",
              "<table border=\"1\" class=\"dataframe\">\n",
              "  <thead>\n",
              "    <tr style=\"text-align: right;\">\n",
              "      <th></th>\n",
              "      <th>How many pregnancy losses during her live</th>\n",
              "      <th>How many induced abortions during her live</th>\n",
              "      <th>What was used to end the pregnancy - dilatation and curettage</th>\n",
              "      <th>What was used to end the pregnancy - aspiration</th>\n",
              "      <th>What was used to end the pregnancy - sonde</th>\n",
              "      <th>What was used to end the pregnancy - Cytotek (Misoprostol)</th>\n",
              "      <th>What was used to end the pregnancy - injections</th>\n",
              "      <th>What was used to end the pregnancy - comprimï¿½s</th>\n",
              "      <th>What was used to end the pregnancy - plants/ dï¿½coction</th>\n",
              "      <th>What was used to end the pregnancy - other</th>\n",
              "      <th>What was used to end the pregnancy - don't know</th>\n",
              "      <th>Who assisted during this abortion - doctor</th>\n",
              "      <th>Who assisted during this abortion - nurse</th>\n",
              "      <th>Who assisted during this abortion - auxiliary</th>\n",
              "      <th>Who assisted during this abortion - health agent</th>\n",
              "      <th>Who assisted during this abortion - birth attendant/ matrone avec boï¿½te</th>\n",
              "      <th>Who assisted during this abortion - traditional birth attendant/ matrone sans bo</th>\n",
              "      <th>Who assisted during this abortion - guï¿½risseur/mï¿½decin-feuille</th>\n",
              "      <th>Who assisted during this abortion - Ougan/mambo</th>\n",
              "      <th>Who assisted during this abortion - relatives/ friends</th>\n",
              "      <th>Who assisted during this abortion - other</th>\n",
              "      <th>Who assisted during this abortion - nobody</th>\n",
              "      <th>How many such tentative abortions failed</th>\n",
              "      <th>Age in 5-year groups</th>\n",
              "      <th>Number of living children</th>\n",
              "      <th>Highest educational level</th>\n",
              "      <th>Region</th>\n",
              "      <th>Type of place of residence</th>\n",
              "      <th>Religion</th>\n",
              "      <th>Respondent's occupation</th>\n",
              "      <th>Current marital status</th>\n",
              "      <th>target</th>\n",
              "    </tr>\n",
              "  </thead>\n",
              "  <tbody>\n",
              "    <tr>\n",
              "      <th>0</th>\n",
              "      <td>0.0</td>\n",
              "      <td>0.0</td>\n",
              "      <td>No</td>\n",
              "      <td>No</td>\n",
              "      <td>No</td>\n",
              "      <td>No</td>\n",
              "      <td>No</td>\n",
              "      <td>No</td>\n",
              "      <td>No</td>\n",
              "      <td>No</td>\n",
              "      <td>No</td>\n",
              "      <td>No</td>\n",
              "      <td>No</td>\n",
              "      <td>No</td>\n",
              "      <td>No</td>\n",
              "      <td>No</td>\n",
              "      <td>No</td>\n",
              "      <td>No</td>\n",
              "      <td>No</td>\n",
              "      <td>No</td>\n",
              "      <td>No</td>\n",
              "      <td>No</td>\n",
              "      <td>0.0</td>\n",
              "      <td>15-19</td>\n",
              "      <td>0.0</td>\n",
              "      <td>Secondary</td>\n",
              "      <td>Sud</td>\n",
              "      <td>Rural</td>\n",
              "      <td>Protestant</td>\n",
              "      <td>Not working</td>\n",
              "      <td>Never in union</td>\n",
              "      <td>No Abortion</td>\n",
              "    </tr>\n",
              "    <tr>\n",
              "      <th>1</th>\n",
              "      <td>0.0</td>\n",
              "      <td>0.0</td>\n",
              "      <td>No</td>\n",
              "      <td>No</td>\n",
              "      <td>No</td>\n",
              "      <td>No</td>\n",
              "      <td>No</td>\n",
              "      <td>No</td>\n",
              "      <td>No</td>\n",
              "      <td>No</td>\n",
              "      <td>No</td>\n",
              "      <td>No</td>\n",
              "      <td>No</td>\n",
              "      <td>No</td>\n",
              "      <td>No</td>\n",
              "      <td>No</td>\n",
              "      <td>No</td>\n",
              "      <td>No</td>\n",
              "      <td>No</td>\n",
              "      <td>No</td>\n",
              "      <td>No</td>\n",
              "      <td>No</td>\n",
              "      <td>0.0</td>\n",
              "      <td>25-29</td>\n",
              "      <td>0.0</td>\n",
              "      <td>Secondary</td>\n",
              "      <td>Sud</td>\n",
              "      <td>Rural</td>\n",
              "      <td>Catholic</td>\n",
              "      <td>working</td>\n",
              "      <td>Never in union</td>\n",
              "      <td>No Abortion</td>\n",
              "    </tr>\n",
              "    <tr>\n",
              "      <th>2</th>\n",
              "      <td>0.0</td>\n",
              "      <td>0.0</td>\n",
              "      <td>No</td>\n",
              "      <td>No</td>\n",
              "      <td>No</td>\n",
              "      <td>No</td>\n",
              "      <td>No</td>\n",
              "      <td>No</td>\n",
              "      <td>No</td>\n",
              "      <td>No</td>\n",
              "      <td>No</td>\n",
              "      <td>No</td>\n",
              "      <td>No</td>\n",
              "      <td>No</td>\n",
              "      <td>No</td>\n",
              "      <td>No</td>\n",
              "      <td>No</td>\n",
              "      <td>No</td>\n",
              "      <td>No</td>\n",
              "      <td>No</td>\n",
              "      <td>No</td>\n",
              "      <td>No</td>\n",
              "      <td>0.0</td>\n",
              "      <td>15-19</td>\n",
              "      <td>0.0</td>\n",
              "      <td>Primary</td>\n",
              "      <td>Sud</td>\n",
              "      <td>Rural</td>\n",
              "      <td>Catholic</td>\n",
              "      <td>Not working</td>\n",
              "      <td>Never in union</td>\n",
              "      <td>No Abortion</td>\n",
              "    </tr>\n",
              "    <tr>\n",
              "      <th>3</th>\n",
              "      <td>0.0</td>\n",
              "      <td>0.0</td>\n",
              "      <td>No</td>\n",
              "      <td>No</td>\n",
              "      <td>No</td>\n",
              "      <td>No</td>\n",
              "      <td>No</td>\n",
              "      <td>No</td>\n",
              "      <td>No</td>\n",
              "      <td>No</td>\n",
              "      <td>No</td>\n",
              "      <td>No</td>\n",
              "      <td>No</td>\n",
              "      <td>No</td>\n",
              "      <td>No</td>\n",
              "      <td>No</td>\n",
              "      <td>No</td>\n",
              "      <td>No</td>\n",
              "      <td>No</td>\n",
              "      <td>No</td>\n",
              "      <td>No</td>\n",
              "      <td>No</td>\n",
              "      <td>0.0</td>\n",
              "      <td>30-34</td>\n",
              "      <td>1.0</td>\n",
              "      <td>Secondary</td>\n",
              "      <td>Sud</td>\n",
              "      <td>Rural</td>\n",
              "      <td>Protestant</td>\n",
              "      <td>working</td>\n",
              "      <td>Married</td>\n",
              "      <td>No Abortion</td>\n",
              "    </tr>\n",
              "    <tr>\n",
              "      <th>4</th>\n",
              "      <td>0.0</td>\n",
              "      <td>0.0</td>\n",
              "      <td>No</td>\n",
              "      <td>No</td>\n",
              "      <td>No</td>\n",
              "      <td>No</td>\n",
              "      <td>No</td>\n",
              "      <td>No</td>\n",
              "      <td>No</td>\n",
              "      <td>No</td>\n",
              "      <td>No</td>\n",
              "      <td>No</td>\n",
              "      <td>No</td>\n",
              "      <td>No</td>\n",
              "      <td>No</td>\n",
              "      <td>No</td>\n",
              "      <td>No</td>\n",
              "      <td>No</td>\n",
              "      <td>No</td>\n",
              "      <td>No</td>\n",
              "      <td>No</td>\n",
              "      <td>No</td>\n",
              "      <td>0.0</td>\n",
              "      <td>25-29</td>\n",
              "      <td>0.0</td>\n",
              "      <td>Secondary</td>\n",
              "      <td>Sud</td>\n",
              "      <td>Rural</td>\n",
              "      <td>Protestant</td>\n",
              "      <td>working</td>\n",
              "      <td>Married</td>\n",
              "      <td>No Abortion</td>\n",
              "    </tr>\n",
              "    <tr>\n",
              "      <th>...</th>\n",
              "      <td>...</td>\n",
              "      <td>...</td>\n",
              "      <td>...</td>\n",
              "      <td>...</td>\n",
              "      <td>...</td>\n",
              "      <td>...</td>\n",
              "      <td>...</td>\n",
              "      <td>...</td>\n",
              "      <td>...</td>\n",
              "      <td>...</td>\n",
              "      <td>...</td>\n",
              "      <td>...</td>\n",
              "      <td>...</td>\n",
              "      <td>...</td>\n",
              "      <td>...</td>\n",
              "      <td>...</td>\n",
              "      <td>...</td>\n",
              "      <td>...</td>\n",
              "      <td>...</td>\n",
              "      <td>...</td>\n",
              "      <td>...</td>\n",
              "      <td>...</td>\n",
              "      <td>...</td>\n",
              "      <td>...</td>\n",
              "      <td>...</td>\n",
              "      <td>...</td>\n",
              "      <td>...</td>\n",
              "      <td>...</td>\n",
              "      <td>...</td>\n",
              "      <td>...</td>\n",
              "      <td>...</td>\n",
              "      <td>...</td>\n",
              "    </tr>\n",
              "    <tr>\n",
              "      <th>15508</th>\n",
              "      <td>NaN</td>\n",
              "      <td>0.0</td>\n",
              "      <td>NaN</td>\n",
              "      <td>NaN</td>\n",
              "      <td>NaN</td>\n",
              "      <td>NaN</td>\n",
              "      <td>NaN</td>\n",
              "      <td>NaN</td>\n",
              "      <td>NaN</td>\n",
              "      <td>NaN</td>\n",
              "      <td>NaN</td>\n",
              "      <td>NaN</td>\n",
              "      <td>NaN</td>\n",
              "      <td>NaN</td>\n",
              "      <td>NaN</td>\n",
              "      <td>NaN</td>\n",
              "      <td>NaN</td>\n",
              "      <td>NaN</td>\n",
              "      <td>NaN</td>\n",
              "      <td>NaN</td>\n",
              "      <td>NaN</td>\n",
              "      <td>NaN</td>\n",
              "      <td>NaN</td>\n",
              "      <td>50+</td>\n",
              "      <td>0.0</td>\n",
              "      <td>Primary</td>\n",
              "      <td>Ouest</td>\n",
              "      <td>Urban</td>\n",
              "      <td>Protestant</td>\n",
              "      <td>working</td>\n",
              "      <td>NaN</td>\n",
              "      <td>No Abortion</td>\n",
              "    </tr>\n",
              "    <tr>\n",
              "      <th>15509</th>\n",
              "      <td>0.0</td>\n",
              "      <td>0.0</td>\n",
              "      <td>No</td>\n",
              "      <td>No</td>\n",
              "      <td>No</td>\n",
              "      <td>No</td>\n",
              "      <td>No</td>\n",
              "      <td>No</td>\n",
              "      <td>No</td>\n",
              "      <td>No</td>\n",
              "      <td>No</td>\n",
              "      <td>No</td>\n",
              "      <td>No</td>\n",
              "      <td>No</td>\n",
              "      <td>No</td>\n",
              "      <td>No</td>\n",
              "      <td>No</td>\n",
              "      <td>No</td>\n",
              "      <td>No</td>\n",
              "      <td>No</td>\n",
              "      <td>No</td>\n",
              "      <td>No</td>\n",
              "      <td>0.0</td>\n",
              "      <td>25-29</td>\n",
              "      <td>0.0</td>\n",
              "      <td>Higher</td>\n",
              "      <td>Ouest</td>\n",
              "      <td>Urban</td>\n",
              "      <td>Protestant</td>\n",
              "      <td>Not working</td>\n",
              "      <td>Never in union</td>\n",
              "      <td>No Abortion</td>\n",
              "    </tr>\n",
              "    <tr>\n",
              "      <th>15510</th>\n",
              "      <td>0.0</td>\n",
              "      <td>0.0</td>\n",
              "      <td>No</td>\n",
              "      <td>No</td>\n",
              "      <td>No</td>\n",
              "      <td>No</td>\n",
              "      <td>No</td>\n",
              "      <td>No</td>\n",
              "      <td>No</td>\n",
              "      <td>No</td>\n",
              "      <td>No</td>\n",
              "      <td>No</td>\n",
              "      <td>No</td>\n",
              "      <td>No</td>\n",
              "      <td>No</td>\n",
              "      <td>No</td>\n",
              "      <td>No</td>\n",
              "      <td>No</td>\n",
              "      <td>No</td>\n",
              "      <td>No</td>\n",
              "      <td>No</td>\n",
              "      <td>No</td>\n",
              "      <td>0.0</td>\n",
              "      <td>30-34</td>\n",
              "      <td>0.0</td>\n",
              "      <td>Higher</td>\n",
              "      <td>Ouest</td>\n",
              "      <td>Urban</td>\n",
              "      <td>Protestant</td>\n",
              "      <td>working</td>\n",
              "      <td>Never in union</td>\n",
              "      <td>No Abortion</td>\n",
              "    </tr>\n",
              "    <tr>\n",
              "      <th>15511</th>\n",
              "      <td>0.0</td>\n",
              "      <td>0.0</td>\n",
              "      <td>No</td>\n",
              "      <td>No</td>\n",
              "      <td>No</td>\n",
              "      <td>No</td>\n",
              "      <td>No</td>\n",
              "      <td>No</td>\n",
              "      <td>No</td>\n",
              "      <td>No</td>\n",
              "      <td>No</td>\n",
              "      <td>No</td>\n",
              "      <td>No</td>\n",
              "      <td>No</td>\n",
              "      <td>No</td>\n",
              "      <td>No</td>\n",
              "      <td>No</td>\n",
              "      <td>No</td>\n",
              "      <td>No</td>\n",
              "      <td>No</td>\n",
              "      <td>No</td>\n",
              "      <td>No</td>\n",
              "      <td>0.0</td>\n",
              "      <td>30-34</td>\n",
              "      <td>0.0</td>\n",
              "      <td>Higher</td>\n",
              "      <td>Ouest</td>\n",
              "      <td>Urban</td>\n",
              "      <td>Protestant</td>\n",
              "      <td>working</td>\n",
              "      <td>Never in union</td>\n",
              "      <td>No Abortion</td>\n",
              "    </tr>\n",
              "    <tr>\n",
              "      <th>15512</th>\n",
              "      <td>0.0</td>\n",
              "      <td>0.0</td>\n",
              "      <td>No</td>\n",
              "      <td>No</td>\n",
              "      <td>No</td>\n",
              "      <td>No</td>\n",
              "      <td>No</td>\n",
              "      <td>No</td>\n",
              "      <td>No</td>\n",
              "      <td>No</td>\n",
              "      <td>No</td>\n",
              "      <td>No</td>\n",
              "      <td>No</td>\n",
              "      <td>No</td>\n",
              "      <td>No</td>\n",
              "      <td>No</td>\n",
              "      <td>No</td>\n",
              "      <td>No</td>\n",
              "      <td>No</td>\n",
              "      <td>No</td>\n",
              "      <td>No</td>\n",
              "      <td>No</td>\n",
              "      <td>0.0</td>\n",
              "      <td>20-24</td>\n",
              "      <td>0.0</td>\n",
              "      <td>Higher</td>\n",
              "      <td>Ouest</td>\n",
              "      <td>Urban</td>\n",
              "      <td>Protestant</td>\n",
              "      <td>working</td>\n",
              "      <td>Never in union</td>\n",
              "      <td>No Abortion</td>\n",
              "    </tr>\n",
              "  </tbody>\n",
              "</table>\n",
              "<p>15513 rows × 32 columns</p>\n",
              "</div>"
            ],
            "text/plain": [
              "       How many pregnancy losses during her live  ...       target\n",
              "0                                            0.0  ...  No Abortion\n",
              "1                                            0.0  ...  No Abortion\n",
              "2                                            0.0  ...  No Abortion\n",
              "3                                            0.0  ...  No Abortion\n",
              "4                                            0.0  ...  No Abortion\n",
              "...                                          ...  ...          ...\n",
              "15508                                        NaN  ...  No Abortion\n",
              "15509                                        0.0  ...  No Abortion\n",
              "15510                                        0.0  ...  No Abortion\n",
              "15511                                        0.0  ...  No Abortion\n",
              "15512                                        0.0  ...  No Abortion\n",
              "\n",
              "[15513 rows x 32 columns]"
            ]
          },
          "metadata": {},
          "execution_count": 48
        }
      ]
    },
    {
      "cell_type": "code",
      "metadata": {
        "id": "DrJTDjBdbdTO"
      },
      "source": [
        "abortion = df1.dropna(axis = 0)"
      ],
      "execution_count": null,
      "outputs": []
    },
    {
      "cell_type": "code",
      "metadata": {
        "id": "wXcwsTDZbdTO",
        "colab": {
          "base_uri": "https://localhost:8080/"
        },
        "outputId": "622e606b-f451-4363-e96d-c45f4a5ece20"
      },
      "source": [
        "abortion.info()"
      ],
      "execution_count": null,
      "outputs": [
        {
          "output_type": "stream",
          "name": "stdout",
          "text": [
            "<class 'pandas.core.frame.DataFrame'>\n",
            "Int64Index: 14371 entries, 0 to 15512\n",
            "Data columns (total 32 columns):\n",
            " #   Column                                                                            Non-Null Count  Dtype  \n",
            "---  ------                                                                            --------------  -----  \n",
            " 0   How many pregnancy losses during her live                                         14371 non-null  float64\n",
            " 1   How many induced abortions during her live                                        14371 non-null  float64\n",
            " 2   What was used to end the pregnancy - dilatation and curettage                     14371 non-null  object \n",
            " 3   What was used to end the pregnancy - aspiration                                   14371 non-null  object \n",
            " 4   What was used to end the pregnancy - sonde                                        14371 non-null  object \n",
            " 5   What was used to end the pregnancy - Cytotek (Misoprostol)                        14371 non-null  object \n",
            " 6   What was used to end the pregnancy - injections                                   14371 non-null  object \n",
            " 7   What was used to end the pregnancy - comprimï¿½s                                  14371 non-null  object \n",
            " 8   What was used to end the pregnancy - plants/ dï¿½coction                          14371 non-null  object \n",
            " 9   What was used to end the pregnancy - other                                        14371 non-null  object \n",
            " 10  What was used to end the pregnancy - don't know                                   14371 non-null  object \n",
            " 11  Who assisted during this abortion - doctor                                        14371 non-null  object \n",
            " 12  Who assisted during this abortion - nurse                                         14371 non-null  object \n",
            " 13  Who assisted during this abortion - auxiliary                                     14371 non-null  object \n",
            " 14  Who assisted during this abortion - health agent                                  14371 non-null  object \n",
            " 15  Who assisted during this abortion - birth attendant/ matrone avec boï¿½te         14371 non-null  object \n",
            " 16  Who assisted during this abortion - traditional birth attendant/ matrone sans bo  14371 non-null  object \n",
            " 17  Who assisted during this abortion - guï¿½risseur/mï¿½decin-feuille                14371 non-null  object \n",
            " 18  Who assisted during this abortion - Ougan/mambo                                   14371 non-null  object \n",
            " 19  Who assisted during this abortion - relatives/ friends                            14371 non-null  object \n",
            " 20  Who assisted during this abortion - other                                         14371 non-null  object \n",
            " 21  Who assisted during this abortion - nobody                                        14371 non-null  object \n",
            " 22  How many such tentative abortions failed                                          14371 non-null  float64\n",
            " 23  Age in 5-year groups                                                              14371 non-null  object \n",
            " 24  Number of living children                                                         14371 non-null  float64\n",
            " 25  Highest educational level                                                         14371 non-null  object \n",
            " 26  Region                                                                            14371 non-null  object \n",
            " 27  Type of place of residence                                                        14371 non-null  object \n",
            " 28  Religion                                                                          14371 non-null  object \n",
            " 29  Respondent's occupation                                                           14371 non-null  object \n",
            " 30  Current marital status                                                            14371 non-null  object \n",
            " 31  target                                                                            14371 non-null  object \n",
            "dtypes: float64(4), object(28)\n",
            "memory usage: 3.6+ MB\n"
          ]
        }
      ]
    },
    {
      "cell_type": "code",
      "metadata": {
        "id": "qEf-t_uabdTP",
        "colab": {
          "base_uri": "https://localhost:8080/",
          "height": 774
        },
        "outputId": "2130b0ff-93fb-406f-da34-fae8cc17eba2"
      },
      "source": [
        "abortion = abortion.rename(columns = {'What was used to end the pregnancy - dilatation and curettage': 'dilatation and curettage', 'What was used to end the pregnancy - aspiration': 'aspiration', 'What was used to end the pregnancy - sonde': 'sonde', 'What was used to end the pregnancy - Cytotek (Misoprostol)': 'Cytotek_(Misoprostol)', 'What was used to end the pregnancy - injections': 'injections', 'What was used to end the pregnancy - comprimï¿½s': 'pill', 'What was used to end the pregnancy - plants/ dï¿½coction': 'plants/decoction', 'What was used to end the pregnancy - other': 'other', \"What was used to end the pregnancy - don't know\": 'dont_know' }, inplace = False)\n",
        "abortion\n"
      ],
      "execution_count": null,
      "outputs": [
        {
          "output_type": "execute_result",
          "data": {
            "text/html": [
              "<div>\n",
              "<style scoped>\n",
              "    .dataframe tbody tr th:only-of-type {\n",
              "        vertical-align: middle;\n",
              "    }\n",
              "\n",
              "    .dataframe tbody tr th {\n",
              "        vertical-align: top;\n",
              "    }\n",
              "\n",
              "    .dataframe thead th {\n",
              "        text-align: right;\n",
              "    }\n",
              "</style>\n",
              "<table border=\"1\" class=\"dataframe\">\n",
              "  <thead>\n",
              "    <tr style=\"text-align: right;\">\n",
              "      <th></th>\n",
              "      <th>How many pregnancy losses during her live</th>\n",
              "      <th>How many induced abortions during her live</th>\n",
              "      <th>dilatation and curettage</th>\n",
              "      <th>aspiration</th>\n",
              "      <th>sonde</th>\n",
              "      <th>Cytotek_(Misoprostol)</th>\n",
              "      <th>injections</th>\n",
              "      <th>pill</th>\n",
              "      <th>plants/decoction</th>\n",
              "      <th>other</th>\n",
              "      <th>dont_know</th>\n",
              "      <th>Who assisted during this abortion - doctor</th>\n",
              "      <th>Who assisted during this abortion - nurse</th>\n",
              "      <th>Who assisted during this abortion - auxiliary</th>\n",
              "      <th>Who assisted during this abortion - health agent</th>\n",
              "      <th>Who assisted during this abortion - birth attendant/ matrone avec boï¿½te</th>\n",
              "      <th>Who assisted during this abortion - traditional birth attendant/ matrone sans bo</th>\n",
              "      <th>Who assisted during this abortion - guï¿½risseur/mï¿½decin-feuille</th>\n",
              "      <th>Who assisted during this abortion - Ougan/mambo</th>\n",
              "      <th>Who assisted during this abortion - relatives/ friends</th>\n",
              "      <th>Who assisted during this abortion - other</th>\n",
              "      <th>Who assisted during this abortion - nobody</th>\n",
              "      <th>How many such tentative abortions failed</th>\n",
              "      <th>Age in 5-year groups</th>\n",
              "      <th>Number of living children</th>\n",
              "      <th>Highest educational level</th>\n",
              "      <th>Region</th>\n",
              "      <th>Type of place of residence</th>\n",
              "      <th>Religion</th>\n",
              "      <th>Respondent's occupation</th>\n",
              "      <th>Current marital status</th>\n",
              "      <th>target</th>\n",
              "    </tr>\n",
              "  </thead>\n",
              "  <tbody>\n",
              "    <tr>\n",
              "      <th>0</th>\n",
              "      <td>0.0</td>\n",
              "      <td>0.0</td>\n",
              "      <td>No</td>\n",
              "      <td>No</td>\n",
              "      <td>No</td>\n",
              "      <td>No</td>\n",
              "      <td>No</td>\n",
              "      <td>No</td>\n",
              "      <td>No</td>\n",
              "      <td>No</td>\n",
              "      <td>No</td>\n",
              "      <td>No</td>\n",
              "      <td>No</td>\n",
              "      <td>No</td>\n",
              "      <td>No</td>\n",
              "      <td>No</td>\n",
              "      <td>No</td>\n",
              "      <td>No</td>\n",
              "      <td>No</td>\n",
              "      <td>No</td>\n",
              "      <td>No</td>\n",
              "      <td>No</td>\n",
              "      <td>0.0</td>\n",
              "      <td>15-19</td>\n",
              "      <td>0.0</td>\n",
              "      <td>Secondary</td>\n",
              "      <td>Sud</td>\n",
              "      <td>Rural</td>\n",
              "      <td>Protestant</td>\n",
              "      <td>Not working</td>\n",
              "      <td>Never in union</td>\n",
              "      <td>No Abortion</td>\n",
              "    </tr>\n",
              "    <tr>\n",
              "      <th>1</th>\n",
              "      <td>0.0</td>\n",
              "      <td>0.0</td>\n",
              "      <td>No</td>\n",
              "      <td>No</td>\n",
              "      <td>No</td>\n",
              "      <td>No</td>\n",
              "      <td>No</td>\n",
              "      <td>No</td>\n",
              "      <td>No</td>\n",
              "      <td>No</td>\n",
              "      <td>No</td>\n",
              "      <td>No</td>\n",
              "      <td>No</td>\n",
              "      <td>No</td>\n",
              "      <td>No</td>\n",
              "      <td>No</td>\n",
              "      <td>No</td>\n",
              "      <td>No</td>\n",
              "      <td>No</td>\n",
              "      <td>No</td>\n",
              "      <td>No</td>\n",
              "      <td>No</td>\n",
              "      <td>0.0</td>\n",
              "      <td>25-29</td>\n",
              "      <td>0.0</td>\n",
              "      <td>Secondary</td>\n",
              "      <td>Sud</td>\n",
              "      <td>Rural</td>\n",
              "      <td>Catholic</td>\n",
              "      <td>working</td>\n",
              "      <td>Never in union</td>\n",
              "      <td>No Abortion</td>\n",
              "    </tr>\n",
              "    <tr>\n",
              "      <th>2</th>\n",
              "      <td>0.0</td>\n",
              "      <td>0.0</td>\n",
              "      <td>No</td>\n",
              "      <td>No</td>\n",
              "      <td>No</td>\n",
              "      <td>No</td>\n",
              "      <td>No</td>\n",
              "      <td>No</td>\n",
              "      <td>No</td>\n",
              "      <td>No</td>\n",
              "      <td>No</td>\n",
              "      <td>No</td>\n",
              "      <td>No</td>\n",
              "      <td>No</td>\n",
              "      <td>No</td>\n",
              "      <td>No</td>\n",
              "      <td>No</td>\n",
              "      <td>No</td>\n",
              "      <td>No</td>\n",
              "      <td>No</td>\n",
              "      <td>No</td>\n",
              "      <td>No</td>\n",
              "      <td>0.0</td>\n",
              "      <td>15-19</td>\n",
              "      <td>0.0</td>\n",
              "      <td>Primary</td>\n",
              "      <td>Sud</td>\n",
              "      <td>Rural</td>\n",
              "      <td>Catholic</td>\n",
              "      <td>Not working</td>\n",
              "      <td>Never in union</td>\n",
              "      <td>No Abortion</td>\n",
              "    </tr>\n",
              "    <tr>\n",
              "      <th>3</th>\n",
              "      <td>0.0</td>\n",
              "      <td>0.0</td>\n",
              "      <td>No</td>\n",
              "      <td>No</td>\n",
              "      <td>No</td>\n",
              "      <td>No</td>\n",
              "      <td>No</td>\n",
              "      <td>No</td>\n",
              "      <td>No</td>\n",
              "      <td>No</td>\n",
              "      <td>No</td>\n",
              "      <td>No</td>\n",
              "      <td>No</td>\n",
              "      <td>No</td>\n",
              "      <td>No</td>\n",
              "      <td>No</td>\n",
              "      <td>No</td>\n",
              "      <td>No</td>\n",
              "      <td>No</td>\n",
              "      <td>No</td>\n",
              "      <td>No</td>\n",
              "      <td>No</td>\n",
              "      <td>0.0</td>\n",
              "      <td>30-34</td>\n",
              "      <td>1.0</td>\n",
              "      <td>Secondary</td>\n",
              "      <td>Sud</td>\n",
              "      <td>Rural</td>\n",
              "      <td>Protestant</td>\n",
              "      <td>working</td>\n",
              "      <td>Married</td>\n",
              "      <td>No Abortion</td>\n",
              "    </tr>\n",
              "    <tr>\n",
              "      <th>4</th>\n",
              "      <td>0.0</td>\n",
              "      <td>0.0</td>\n",
              "      <td>No</td>\n",
              "      <td>No</td>\n",
              "      <td>No</td>\n",
              "      <td>No</td>\n",
              "      <td>No</td>\n",
              "      <td>No</td>\n",
              "      <td>No</td>\n",
              "      <td>No</td>\n",
              "      <td>No</td>\n",
              "      <td>No</td>\n",
              "      <td>No</td>\n",
              "      <td>No</td>\n",
              "      <td>No</td>\n",
              "      <td>No</td>\n",
              "      <td>No</td>\n",
              "      <td>No</td>\n",
              "      <td>No</td>\n",
              "      <td>No</td>\n",
              "      <td>No</td>\n",
              "      <td>No</td>\n",
              "      <td>0.0</td>\n",
              "      <td>25-29</td>\n",
              "      <td>0.0</td>\n",
              "      <td>Secondary</td>\n",
              "      <td>Sud</td>\n",
              "      <td>Rural</td>\n",
              "      <td>Protestant</td>\n",
              "      <td>working</td>\n",
              "      <td>Married</td>\n",
              "      <td>No Abortion</td>\n",
              "    </tr>\n",
              "    <tr>\n",
              "      <th>...</th>\n",
              "      <td>...</td>\n",
              "      <td>...</td>\n",
              "      <td>...</td>\n",
              "      <td>...</td>\n",
              "      <td>...</td>\n",
              "      <td>...</td>\n",
              "      <td>...</td>\n",
              "      <td>...</td>\n",
              "      <td>...</td>\n",
              "      <td>...</td>\n",
              "      <td>...</td>\n",
              "      <td>...</td>\n",
              "      <td>...</td>\n",
              "      <td>...</td>\n",
              "      <td>...</td>\n",
              "      <td>...</td>\n",
              "      <td>...</td>\n",
              "      <td>...</td>\n",
              "      <td>...</td>\n",
              "      <td>...</td>\n",
              "      <td>...</td>\n",
              "      <td>...</td>\n",
              "      <td>...</td>\n",
              "      <td>...</td>\n",
              "      <td>...</td>\n",
              "      <td>...</td>\n",
              "      <td>...</td>\n",
              "      <td>...</td>\n",
              "      <td>...</td>\n",
              "      <td>...</td>\n",
              "      <td>...</td>\n",
              "      <td>...</td>\n",
              "    </tr>\n",
              "    <tr>\n",
              "      <th>15507</th>\n",
              "      <td>0.0</td>\n",
              "      <td>0.0</td>\n",
              "      <td>No</td>\n",
              "      <td>No</td>\n",
              "      <td>No</td>\n",
              "      <td>No</td>\n",
              "      <td>No</td>\n",
              "      <td>No</td>\n",
              "      <td>No</td>\n",
              "      <td>No</td>\n",
              "      <td>No</td>\n",
              "      <td>No</td>\n",
              "      <td>No</td>\n",
              "      <td>No</td>\n",
              "      <td>No</td>\n",
              "      <td>No</td>\n",
              "      <td>No</td>\n",
              "      <td>No</td>\n",
              "      <td>No</td>\n",
              "      <td>No</td>\n",
              "      <td>No</td>\n",
              "      <td>No</td>\n",
              "      <td>0.0</td>\n",
              "      <td>15-19</td>\n",
              "      <td>0.0</td>\n",
              "      <td>Secondary</td>\n",
              "      <td>Ouest</td>\n",
              "      <td>Urban</td>\n",
              "      <td>Protestant</td>\n",
              "      <td>Not working</td>\n",
              "      <td>Never in union</td>\n",
              "      <td>No Abortion</td>\n",
              "    </tr>\n",
              "    <tr>\n",
              "      <th>15509</th>\n",
              "      <td>0.0</td>\n",
              "      <td>0.0</td>\n",
              "      <td>No</td>\n",
              "      <td>No</td>\n",
              "      <td>No</td>\n",
              "      <td>No</td>\n",
              "      <td>No</td>\n",
              "      <td>No</td>\n",
              "      <td>No</td>\n",
              "      <td>No</td>\n",
              "      <td>No</td>\n",
              "      <td>No</td>\n",
              "      <td>No</td>\n",
              "      <td>No</td>\n",
              "      <td>No</td>\n",
              "      <td>No</td>\n",
              "      <td>No</td>\n",
              "      <td>No</td>\n",
              "      <td>No</td>\n",
              "      <td>No</td>\n",
              "      <td>No</td>\n",
              "      <td>No</td>\n",
              "      <td>0.0</td>\n",
              "      <td>25-29</td>\n",
              "      <td>0.0</td>\n",
              "      <td>Higher</td>\n",
              "      <td>Ouest</td>\n",
              "      <td>Urban</td>\n",
              "      <td>Protestant</td>\n",
              "      <td>Not working</td>\n",
              "      <td>Never in union</td>\n",
              "      <td>No Abortion</td>\n",
              "    </tr>\n",
              "    <tr>\n",
              "      <th>15510</th>\n",
              "      <td>0.0</td>\n",
              "      <td>0.0</td>\n",
              "      <td>No</td>\n",
              "      <td>No</td>\n",
              "      <td>No</td>\n",
              "      <td>No</td>\n",
              "      <td>No</td>\n",
              "      <td>No</td>\n",
              "      <td>No</td>\n",
              "      <td>No</td>\n",
              "      <td>No</td>\n",
              "      <td>No</td>\n",
              "      <td>No</td>\n",
              "      <td>No</td>\n",
              "      <td>No</td>\n",
              "      <td>No</td>\n",
              "      <td>No</td>\n",
              "      <td>No</td>\n",
              "      <td>No</td>\n",
              "      <td>No</td>\n",
              "      <td>No</td>\n",
              "      <td>No</td>\n",
              "      <td>0.0</td>\n",
              "      <td>30-34</td>\n",
              "      <td>0.0</td>\n",
              "      <td>Higher</td>\n",
              "      <td>Ouest</td>\n",
              "      <td>Urban</td>\n",
              "      <td>Protestant</td>\n",
              "      <td>working</td>\n",
              "      <td>Never in union</td>\n",
              "      <td>No Abortion</td>\n",
              "    </tr>\n",
              "    <tr>\n",
              "      <th>15511</th>\n",
              "      <td>0.0</td>\n",
              "      <td>0.0</td>\n",
              "      <td>No</td>\n",
              "      <td>No</td>\n",
              "      <td>No</td>\n",
              "      <td>No</td>\n",
              "      <td>No</td>\n",
              "      <td>No</td>\n",
              "      <td>No</td>\n",
              "      <td>No</td>\n",
              "      <td>No</td>\n",
              "      <td>No</td>\n",
              "      <td>No</td>\n",
              "      <td>No</td>\n",
              "      <td>No</td>\n",
              "      <td>No</td>\n",
              "      <td>No</td>\n",
              "      <td>No</td>\n",
              "      <td>No</td>\n",
              "      <td>No</td>\n",
              "      <td>No</td>\n",
              "      <td>No</td>\n",
              "      <td>0.0</td>\n",
              "      <td>30-34</td>\n",
              "      <td>0.0</td>\n",
              "      <td>Higher</td>\n",
              "      <td>Ouest</td>\n",
              "      <td>Urban</td>\n",
              "      <td>Protestant</td>\n",
              "      <td>working</td>\n",
              "      <td>Never in union</td>\n",
              "      <td>No Abortion</td>\n",
              "    </tr>\n",
              "    <tr>\n",
              "      <th>15512</th>\n",
              "      <td>0.0</td>\n",
              "      <td>0.0</td>\n",
              "      <td>No</td>\n",
              "      <td>No</td>\n",
              "      <td>No</td>\n",
              "      <td>No</td>\n",
              "      <td>No</td>\n",
              "      <td>No</td>\n",
              "      <td>No</td>\n",
              "      <td>No</td>\n",
              "      <td>No</td>\n",
              "      <td>No</td>\n",
              "      <td>No</td>\n",
              "      <td>No</td>\n",
              "      <td>No</td>\n",
              "      <td>No</td>\n",
              "      <td>No</td>\n",
              "      <td>No</td>\n",
              "      <td>No</td>\n",
              "      <td>No</td>\n",
              "      <td>No</td>\n",
              "      <td>No</td>\n",
              "      <td>0.0</td>\n",
              "      <td>20-24</td>\n",
              "      <td>0.0</td>\n",
              "      <td>Higher</td>\n",
              "      <td>Ouest</td>\n",
              "      <td>Urban</td>\n",
              "      <td>Protestant</td>\n",
              "      <td>working</td>\n",
              "      <td>Never in union</td>\n",
              "      <td>No Abortion</td>\n",
              "    </tr>\n",
              "  </tbody>\n",
              "</table>\n",
              "<p>14371 rows × 32 columns</p>\n",
              "</div>"
            ],
            "text/plain": [
              "       How many pregnancy losses during her live  ...       target\n",
              "0                                            0.0  ...  No Abortion\n",
              "1                                            0.0  ...  No Abortion\n",
              "2                                            0.0  ...  No Abortion\n",
              "3                                            0.0  ...  No Abortion\n",
              "4                                            0.0  ...  No Abortion\n",
              "...                                          ...  ...          ...\n",
              "15507                                        0.0  ...  No Abortion\n",
              "15509                                        0.0  ...  No Abortion\n",
              "15510                                        0.0  ...  No Abortion\n",
              "15511                                        0.0  ...  No Abortion\n",
              "15512                                        0.0  ...  No Abortion\n",
              "\n",
              "[14371 rows x 32 columns]"
            ]
          },
          "metadata": {},
          "execution_count": 51
        }
      ]
    },
    {
      "cell_type": "code",
      "metadata": {
        "id": "t26JQZWRbdTP",
        "colab": {
          "base_uri": "https://localhost:8080/",
          "height": 774
        },
        "outputId": "b5a22991-d401-49f5-a2d4-8f6a7460c545"
      },
      "source": [
        "abortion = abortion.rename(columns = {'Age in 5-year groups': 'Age', ' Number of living children': 'living_children', 'How many such tentative abortions failed': 'abortion_failed', 'How many pregnancy losses during her live': 'pregnancy_loses'}, inplace = False)\n",
        "abortion\n"
      ],
      "execution_count": null,
      "outputs": [
        {
          "output_type": "execute_result",
          "data": {
            "text/html": [
              "<div>\n",
              "<style scoped>\n",
              "    .dataframe tbody tr th:only-of-type {\n",
              "        vertical-align: middle;\n",
              "    }\n",
              "\n",
              "    .dataframe tbody tr th {\n",
              "        vertical-align: top;\n",
              "    }\n",
              "\n",
              "    .dataframe thead th {\n",
              "        text-align: right;\n",
              "    }\n",
              "</style>\n",
              "<table border=\"1\" class=\"dataframe\">\n",
              "  <thead>\n",
              "    <tr style=\"text-align: right;\">\n",
              "      <th></th>\n",
              "      <th>pregnancy_loses</th>\n",
              "      <th>How many induced abortions during her live</th>\n",
              "      <th>dilatation and curettage</th>\n",
              "      <th>aspiration</th>\n",
              "      <th>sonde</th>\n",
              "      <th>Cytotek_(Misoprostol)</th>\n",
              "      <th>injections</th>\n",
              "      <th>pill</th>\n",
              "      <th>plants/decoction</th>\n",
              "      <th>other</th>\n",
              "      <th>dont_know</th>\n",
              "      <th>Who assisted during this abortion - doctor</th>\n",
              "      <th>Who assisted during this abortion - nurse</th>\n",
              "      <th>Who assisted during this abortion - auxiliary</th>\n",
              "      <th>Who assisted during this abortion - health agent</th>\n",
              "      <th>Who assisted during this abortion - birth attendant/ matrone avec boï¿½te</th>\n",
              "      <th>Who assisted during this abortion - traditional birth attendant/ matrone sans bo</th>\n",
              "      <th>Who assisted during this abortion - guï¿½risseur/mï¿½decin-feuille</th>\n",
              "      <th>Who assisted during this abortion - Ougan/mambo</th>\n",
              "      <th>Who assisted during this abortion - relatives/ friends</th>\n",
              "      <th>Who assisted during this abortion - other</th>\n",
              "      <th>Who assisted during this abortion - nobody</th>\n",
              "      <th>abortion_failed</th>\n",
              "      <th>Age</th>\n",
              "      <th>Number of living children</th>\n",
              "      <th>Highest educational level</th>\n",
              "      <th>Region</th>\n",
              "      <th>Type of place of residence</th>\n",
              "      <th>Religion</th>\n",
              "      <th>Respondent's occupation</th>\n",
              "      <th>Current marital status</th>\n",
              "      <th>target</th>\n",
              "    </tr>\n",
              "  </thead>\n",
              "  <tbody>\n",
              "    <tr>\n",
              "      <th>0</th>\n",
              "      <td>0.0</td>\n",
              "      <td>0.0</td>\n",
              "      <td>No</td>\n",
              "      <td>No</td>\n",
              "      <td>No</td>\n",
              "      <td>No</td>\n",
              "      <td>No</td>\n",
              "      <td>No</td>\n",
              "      <td>No</td>\n",
              "      <td>No</td>\n",
              "      <td>No</td>\n",
              "      <td>No</td>\n",
              "      <td>No</td>\n",
              "      <td>No</td>\n",
              "      <td>No</td>\n",
              "      <td>No</td>\n",
              "      <td>No</td>\n",
              "      <td>No</td>\n",
              "      <td>No</td>\n",
              "      <td>No</td>\n",
              "      <td>No</td>\n",
              "      <td>No</td>\n",
              "      <td>0.0</td>\n",
              "      <td>15-19</td>\n",
              "      <td>0.0</td>\n",
              "      <td>Secondary</td>\n",
              "      <td>Sud</td>\n",
              "      <td>Rural</td>\n",
              "      <td>Protestant</td>\n",
              "      <td>Not working</td>\n",
              "      <td>Never in union</td>\n",
              "      <td>No Abortion</td>\n",
              "    </tr>\n",
              "    <tr>\n",
              "      <th>1</th>\n",
              "      <td>0.0</td>\n",
              "      <td>0.0</td>\n",
              "      <td>No</td>\n",
              "      <td>No</td>\n",
              "      <td>No</td>\n",
              "      <td>No</td>\n",
              "      <td>No</td>\n",
              "      <td>No</td>\n",
              "      <td>No</td>\n",
              "      <td>No</td>\n",
              "      <td>No</td>\n",
              "      <td>No</td>\n",
              "      <td>No</td>\n",
              "      <td>No</td>\n",
              "      <td>No</td>\n",
              "      <td>No</td>\n",
              "      <td>No</td>\n",
              "      <td>No</td>\n",
              "      <td>No</td>\n",
              "      <td>No</td>\n",
              "      <td>No</td>\n",
              "      <td>No</td>\n",
              "      <td>0.0</td>\n",
              "      <td>25-29</td>\n",
              "      <td>0.0</td>\n",
              "      <td>Secondary</td>\n",
              "      <td>Sud</td>\n",
              "      <td>Rural</td>\n",
              "      <td>Catholic</td>\n",
              "      <td>working</td>\n",
              "      <td>Never in union</td>\n",
              "      <td>No Abortion</td>\n",
              "    </tr>\n",
              "    <tr>\n",
              "      <th>2</th>\n",
              "      <td>0.0</td>\n",
              "      <td>0.0</td>\n",
              "      <td>No</td>\n",
              "      <td>No</td>\n",
              "      <td>No</td>\n",
              "      <td>No</td>\n",
              "      <td>No</td>\n",
              "      <td>No</td>\n",
              "      <td>No</td>\n",
              "      <td>No</td>\n",
              "      <td>No</td>\n",
              "      <td>No</td>\n",
              "      <td>No</td>\n",
              "      <td>No</td>\n",
              "      <td>No</td>\n",
              "      <td>No</td>\n",
              "      <td>No</td>\n",
              "      <td>No</td>\n",
              "      <td>No</td>\n",
              "      <td>No</td>\n",
              "      <td>No</td>\n",
              "      <td>No</td>\n",
              "      <td>0.0</td>\n",
              "      <td>15-19</td>\n",
              "      <td>0.0</td>\n",
              "      <td>Primary</td>\n",
              "      <td>Sud</td>\n",
              "      <td>Rural</td>\n",
              "      <td>Catholic</td>\n",
              "      <td>Not working</td>\n",
              "      <td>Never in union</td>\n",
              "      <td>No Abortion</td>\n",
              "    </tr>\n",
              "    <tr>\n",
              "      <th>3</th>\n",
              "      <td>0.0</td>\n",
              "      <td>0.0</td>\n",
              "      <td>No</td>\n",
              "      <td>No</td>\n",
              "      <td>No</td>\n",
              "      <td>No</td>\n",
              "      <td>No</td>\n",
              "      <td>No</td>\n",
              "      <td>No</td>\n",
              "      <td>No</td>\n",
              "      <td>No</td>\n",
              "      <td>No</td>\n",
              "      <td>No</td>\n",
              "      <td>No</td>\n",
              "      <td>No</td>\n",
              "      <td>No</td>\n",
              "      <td>No</td>\n",
              "      <td>No</td>\n",
              "      <td>No</td>\n",
              "      <td>No</td>\n",
              "      <td>No</td>\n",
              "      <td>No</td>\n",
              "      <td>0.0</td>\n",
              "      <td>30-34</td>\n",
              "      <td>1.0</td>\n",
              "      <td>Secondary</td>\n",
              "      <td>Sud</td>\n",
              "      <td>Rural</td>\n",
              "      <td>Protestant</td>\n",
              "      <td>working</td>\n",
              "      <td>Married</td>\n",
              "      <td>No Abortion</td>\n",
              "    </tr>\n",
              "    <tr>\n",
              "      <th>4</th>\n",
              "      <td>0.0</td>\n",
              "      <td>0.0</td>\n",
              "      <td>No</td>\n",
              "      <td>No</td>\n",
              "      <td>No</td>\n",
              "      <td>No</td>\n",
              "      <td>No</td>\n",
              "      <td>No</td>\n",
              "      <td>No</td>\n",
              "      <td>No</td>\n",
              "      <td>No</td>\n",
              "      <td>No</td>\n",
              "      <td>No</td>\n",
              "      <td>No</td>\n",
              "      <td>No</td>\n",
              "      <td>No</td>\n",
              "      <td>No</td>\n",
              "      <td>No</td>\n",
              "      <td>No</td>\n",
              "      <td>No</td>\n",
              "      <td>No</td>\n",
              "      <td>No</td>\n",
              "      <td>0.0</td>\n",
              "      <td>25-29</td>\n",
              "      <td>0.0</td>\n",
              "      <td>Secondary</td>\n",
              "      <td>Sud</td>\n",
              "      <td>Rural</td>\n",
              "      <td>Protestant</td>\n",
              "      <td>working</td>\n",
              "      <td>Married</td>\n",
              "      <td>No Abortion</td>\n",
              "    </tr>\n",
              "    <tr>\n",
              "      <th>...</th>\n",
              "      <td>...</td>\n",
              "      <td>...</td>\n",
              "      <td>...</td>\n",
              "      <td>...</td>\n",
              "      <td>...</td>\n",
              "      <td>...</td>\n",
              "      <td>...</td>\n",
              "      <td>...</td>\n",
              "      <td>...</td>\n",
              "      <td>...</td>\n",
              "      <td>...</td>\n",
              "      <td>...</td>\n",
              "      <td>...</td>\n",
              "      <td>...</td>\n",
              "      <td>...</td>\n",
              "      <td>...</td>\n",
              "      <td>...</td>\n",
              "      <td>...</td>\n",
              "      <td>...</td>\n",
              "      <td>...</td>\n",
              "      <td>...</td>\n",
              "      <td>...</td>\n",
              "      <td>...</td>\n",
              "      <td>...</td>\n",
              "      <td>...</td>\n",
              "      <td>...</td>\n",
              "      <td>...</td>\n",
              "      <td>...</td>\n",
              "      <td>...</td>\n",
              "      <td>...</td>\n",
              "      <td>...</td>\n",
              "      <td>...</td>\n",
              "    </tr>\n",
              "    <tr>\n",
              "      <th>15507</th>\n",
              "      <td>0.0</td>\n",
              "      <td>0.0</td>\n",
              "      <td>No</td>\n",
              "      <td>No</td>\n",
              "      <td>No</td>\n",
              "      <td>No</td>\n",
              "      <td>No</td>\n",
              "      <td>No</td>\n",
              "      <td>No</td>\n",
              "      <td>No</td>\n",
              "      <td>No</td>\n",
              "      <td>No</td>\n",
              "      <td>No</td>\n",
              "      <td>No</td>\n",
              "      <td>No</td>\n",
              "      <td>No</td>\n",
              "      <td>No</td>\n",
              "      <td>No</td>\n",
              "      <td>No</td>\n",
              "      <td>No</td>\n",
              "      <td>No</td>\n",
              "      <td>No</td>\n",
              "      <td>0.0</td>\n",
              "      <td>15-19</td>\n",
              "      <td>0.0</td>\n",
              "      <td>Secondary</td>\n",
              "      <td>Ouest</td>\n",
              "      <td>Urban</td>\n",
              "      <td>Protestant</td>\n",
              "      <td>Not working</td>\n",
              "      <td>Never in union</td>\n",
              "      <td>No Abortion</td>\n",
              "    </tr>\n",
              "    <tr>\n",
              "      <th>15509</th>\n",
              "      <td>0.0</td>\n",
              "      <td>0.0</td>\n",
              "      <td>No</td>\n",
              "      <td>No</td>\n",
              "      <td>No</td>\n",
              "      <td>No</td>\n",
              "      <td>No</td>\n",
              "      <td>No</td>\n",
              "      <td>No</td>\n",
              "      <td>No</td>\n",
              "      <td>No</td>\n",
              "      <td>No</td>\n",
              "      <td>No</td>\n",
              "      <td>No</td>\n",
              "      <td>No</td>\n",
              "      <td>No</td>\n",
              "      <td>No</td>\n",
              "      <td>No</td>\n",
              "      <td>No</td>\n",
              "      <td>No</td>\n",
              "      <td>No</td>\n",
              "      <td>No</td>\n",
              "      <td>0.0</td>\n",
              "      <td>25-29</td>\n",
              "      <td>0.0</td>\n",
              "      <td>Higher</td>\n",
              "      <td>Ouest</td>\n",
              "      <td>Urban</td>\n",
              "      <td>Protestant</td>\n",
              "      <td>Not working</td>\n",
              "      <td>Never in union</td>\n",
              "      <td>No Abortion</td>\n",
              "    </tr>\n",
              "    <tr>\n",
              "      <th>15510</th>\n",
              "      <td>0.0</td>\n",
              "      <td>0.0</td>\n",
              "      <td>No</td>\n",
              "      <td>No</td>\n",
              "      <td>No</td>\n",
              "      <td>No</td>\n",
              "      <td>No</td>\n",
              "      <td>No</td>\n",
              "      <td>No</td>\n",
              "      <td>No</td>\n",
              "      <td>No</td>\n",
              "      <td>No</td>\n",
              "      <td>No</td>\n",
              "      <td>No</td>\n",
              "      <td>No</td>\n",
              "      <td>No</td>\n",
              "      <td>No</td>\n",
              "      <td>No</td>\n",
              "      <td>No</td>\n",
              "      <td>No</td>\n",
              "      <td>No</td>\n",
              "      <td>No</td>\n",
              "      <td>0.0</td>\n",
              "      <td>30-34</td>\n",
              "      <td>0.0</td>\n",
              "      <td>Higher</td>\n",
              "      <td>Ouest</td>\n",
              "      <td>Urban</td>\n",
              "      <td>Protestant</td>\n",
              "      <td>working</td>\n",
              "      <td>Never in union</td>\n",
              "      <td>No Abortion</td>\n",
              "    </tr>\n",
              "    <tr>\n",
              "      <th>15511</th>\n",
              "      <td>0.0</td>\n",
              "      <td>0.0</td>\n",
              "      <td>No</td>\n",
              "      <td>No</td>\n",
              "      <td>No</td>\n",
              "      <td>No</td>\n",
              "      <td>No</td>\n",
              "      <td>No</td>\n",
              "      <td>No</td>\n",
              "      <td>No</td>\n",
              "      <td>No</td>\n",
              "      <td>No</td>\n",
              "      <td>No</td>\n",
              "      <td>No</td>\n",
              "      <td>No</td>\n",
              "      <td>No</td>\n",
              "      <td>No</td>\n",
              "      <td>No</td>\n",
              "      <td>No</td>\n",
              "      <td>No</td>\n",
              "      <td>No</td>\n",
              "      <td>No</td>\n",
              "      <td>0.0</td>\n",
              "      <td>30-34</td>\n",
              "      <td>0.0</td>\n",
              "      <td>Higher</td>\n",
              "      <td>Ouest</td>\n",
              "      <td>Urban</td>\n",
              "      <td>Protestant</td>\n",
              "      <td>working</td>\n",
              "      <td>Never in union</td>\n",
              "      <td>No Abortion</td>\n",
              "    </tr>\n",
              "    <tr>\n",
              "      <th>15512</th>\n",
              "      <td>0.0</td>\n",
              "      <td>0.0</td>\n",
              "      <td>No</td>\n",
              "      <td>No</td>\n",
              "      <td>No</td>\n",
              "      <td>No</td>\n",
              "      <td>No</td>\n",
              "      <td>No</td>\n",
              "      <td>No</td>\n",
              "      <td>No</td>\n",
              "      <td>No</td>\n",
              "      <td>No</td>\n",
              "      <td>No</td>\n",
              "      <td>No</td>\n",
              "      <td>No</td>\n",
              "      <td>No</td>\n",
              "      <td>No</td>\n",
              "      <td>No</td>\n",
              "      <td>No</td>\n",
              "      <td>No</td>\n",
              "      <td>No</td>\n",
              "      <td>No</td>\n",
              "      <td>0.0</td>\n",
              "      <td>20-24</td>\n",
              "      <td>0.0</td>\n",
              "      <td>Higher</td>\n",
              "      <td>Ouest</td>\n",
              "      <td>Urban</td>\n",
              "      <td>Protestant</td>\n",
              "      <td>working</td>\n",
              "      <td>Never in union</td>\n",
              "      <td>No Abortion</td>\n",
              "    </tr>\n",
              "  </tbody>\n",
              "</table>\n",
              "<p>14371 rows × 32 columns</p>\n",
              "</div>"
            ],
            "text/plain": [
              "       pregnancy_loses  ...       target\n",
              "0                  0.0  ...  No Abortion\n",
              "1                  0.0  ...  No Abortion\n",
              "2                  0.0  ...  No Abortion\n",
              "3                  0.0  ...  No Abortion\n",
              "4                  0.0  ...  No Abortion\n",
              "...                ...  ...          ...\n",
              "15507              0.0  ...  No Abortion\n",
              "15509              0.0  ...  No Abortion\n",
              "15510              0.0  ...  No Abortion\n",
              "15511              0.0  ...  No Abortion\n",
              "15512              0.0  ...  No Abortion\n",
              "\n",
              "[14371 rows x 32 columns]"
            ]
          },
          "metadata": {},
          "execution_count": 52
        }
      ]
    },
    {
      "cell_type": "code",
      "metadata": {
        "id": "Yh5Vlbg-bdTP"
      },
      "source": [
        "abortion1 = abortion.loc[abortion['How many induced abortions during her live']==1,:]"
      ],
      "execution_count": null,
      "outputs": []
    },
    {
      "cell_type": "code",
      "metadata": {
        "id": "tOccMKrcbdTP",
        "colab": {
          "base_uri": "https://localhost:8080/"
        },
        "outputId": "30f1f15c-2344-4cd5-9584-ed934f1d0418"
      },
      "source": [
        "abortion1[\"Respondent's occupation\"].unique()"
      ],
      "execution_count": null,
      "outputs": [
        {
          "output_type": "execute_result",
          "data": {
            "text/plain": [
              "array(['Not working', 'working'], dtype=object)"
            ]
          },
          "metadata": {},
          "execution_count": 54
        }
      ]
    },
    {
      "cell_type": "code",
      "metadata": {
        "id": "Pscerz7-bdTP",
        "colab": {
          "base_uri": "https://localhost:8080/",
          "height": 282
        },
        "outputId": "dabc82af-4010-4131-d5c4-4068f2ad7642"
      },
      "source": [
        "abortion1[\"Age\"].hist()"
      ],
      "execution_count": null,
      "outputs": [
        {
          "output_type": "execute_result",
          "data": {
            "text/plain": [
              "<matplotlib.axes._subplots.AxesSubplot at 0x7f7879ddf250>"
            ]
          },
          "metadata": {},
          "execution_count": 55
        },
        {
          "output_type": "display_data",
          "data": {
            "image/png": "[encoded data removed]",
            "text/plain": [
              "<Figure size 432x288 with 1 Axes>"
            ]
          },
          "metadata": {
            "needs_background": "light"
          }
        }
      ]
    },
    {
      "cell_type": "code",
      "metadata": {
        "id": "26SxARvebdTP"
      },
      "source": [
        "abortion['abortion_failed']=abortion[\"abortion_failed\"].apply(lambda x : str(x).replace(\"None\" ,\"0\"))\n",
        "abortion['abortion_failed'] = abortion['abortion_failed'].astype(float)\n"
      ],
      "execution_count": null,
      "outputs": []
    },
    {
      "cell_type": "code",
      "metadata": {
        "id": "yOD8fxaNbdTP"
      },
      "source": [
        ""
      ],
      "execution_count": null,
      "outputs": []
    },
    {
      "cell_type": "code",
      "metadata": {
        "id": "lB2EDnz1bdTQ",
        "colab": {
          "base_uri": "https://localhost:8080/",
          "height": 363
        },
        "outputId": "4ce236f1-7609-494d-b13b-8dc22ff90b2b"
      },
      "source": [
        "abortion[\"pregnancy_loses\"].value_counts(normalize=True).to_frame()"
      ],
      "execution_count": null,
      "outputs": [
        {
          "output_type": "execute_result",
          "data": {
            "text/html": [
              "<div>\n",
              "<style scoped>\n",
              "    .dataframe tbody tr th:only-of-type {\n",
              "        vertical-align: middle;\n",
              "    }\n",
              "\n",
              "    .dataframe tbody tr th {\n",
              "        vertical-align: top;\n",
              "    }\n",
              "\n",
              "    .dataframe thead th {\n",
              "        text-align: right;\n",
              "    }\n",
              "</style>\n",
              "<table border=\"1\" class=\"dataframe\">\n",
              "  <thead>\n",
              "    <tr style=\"text-align: right;\">\n",
              "      <th></th>\n",
              "      <th>pregnancy_loses</th>\n",
              "    </tr>\n",
              "  </thead>\n",
              "  <tbody>\n",
              "    <tr>\n",
              "      <th>0.0</th>\n",
              "      <td>0.878018</td>\n",
              "    </tr>\n",
              "    <tr>\n",
              "      <th>1.0</th>\n",
              "      <td>0.094357</td>\n",
              "    </tr>\n",
              "    <tr>\n",
              "      <th>2.0</th>\n",
              "      <td>0.019136</td>\n",
              "    </tr>\n",
              "    <tr>\n",
              "      <th>3.0</th>\n",
              "      <td>0.005915</td>\n",
              "    </tr>\n",
              "    <tr>\n",
              "      <th>4.0</th>\n",
              "      <td>0.001670</td>\n",
              "    </tr>\n",
              "    <tr>\n",
              "      <th>5.0</th>\n",
              "      <td>0.000418</td>\n",
              "    </tr>\n",
              "    <tr>\n",
              "      <th>8.0</th>\n",
              "      <td>0.000139</td>\n",
              "    </tr>\n",
              "    <tr>\n",
              "      <th>6.0</th>\n",
              "      <td>0.000139</td>\n",
              "    </tr>\n",
              "    <tr>\n",
              "      <th>10.0</th>\n",
              "      <td>0.000139</td>\n",
              "    </tr>\n",
              "    <tr>\n",
              "      <th>9.0</th>\n",
              "      <td>0.000070</td>\n",
              "    </tr>\n",
              "  </tbody>\n",
              "</table>\n",
              "</div>"
            ],
            "text/plain": [
              "      pregnancy_loses\n",
              "0.0          0.878018\n",
              "1.0          0.094357\n",
              "2.0          0.019136\n",
              "3.0          0.005915\n",
              "4.0          0.001670\n",
              "5.0          0.000418\n",
              "8.0          0.000139\n",
              "6.0          0.000139\n",
              "10.0         0.000139\n",
              "9.0          0.000070"
            ]
          },
          "metadata": {},
          "execution_count": 57
        }
      ]
    },
    {
      "cell_type": "code",
      "metadata": {
        "id": "_k5ZIDvBbdTQ",
        "colab": {
          "base_uri": "https://localhost:8080/"
        },
        "outputId": "23476873-27f4-4a2f-82fd-84c8de2c4cdd"
      },
      "source": [
        "abortion.info()"
      ],
      "execution_count": null,
      "outputs": [
        {
          "output_type": "stream",
          "name": "stdout",
          "text": [
            "<class 'pandas.core.frame.DataFrame'>\n",
            "Int64Index: 14371 entries, 0 to 15512\n",
            "Data columns (total 32 columns):\n",
            " #   Column                                                                            Non-Null Count  Dtype  \n",
            "---  ------                                                                            --------------  -----  \n",
            " 0   pregnancy_loses                                                                   14371 non-null  float64\n",
            " 1   How many induced abortions during her live                                        14371 non-null  float64\n",
            " 2   dilatation and curettage                                                          14371 non-null  object \n",
            " 3   aspiration                                                                        14371 non-null  object \n",
            " 4   sonde                                                                             14371 non-null  object \n",
            " 5   Cytotek_(Misoprostol)                                                             14371 non-null  object \n",
            " 6   injections                                                                        14371 non-null  object \n",
            " 7   pill                                                                              14371 non-null  object \n",
            " 8   plants/decoction                                                                  14371 non-null  object \n",
            " 9   other                                                                             14371 non-null  object \n",
            " 10  dont_know                                                                         14371 non-null  object \n",
            " 11  Who assisted during this abortion - doctor                                        14371 non-null  object \n",
            " 12  Who assisted during this abortion - nurse                                         14371 non-null  object \n",
            " 13  Who assisted during this abortion - auxiliary                                     14371 non-null  object \n",
            " 14  Who assisted during this abortion - health agent                                  14371 non-null  object \n",
            " 15  Who assisted during this abortion - birth attendant/ matrone avec boï¿½te         14371 non-null  object \n",
            " 16  Who assisted during this abortion - traditional birth attendant/ matrone sans bo  14371 non-null  object \n",
            " 17  Who assisted during this abortion - guï¿½risseur/mï¿½decin-feuille                14371 non-null  object \n",
            " 18  Who assisted during this abortion - Ougan/mambo                                   14371 non-null  object \n",
            " 19  Who assisted during this abortion - relatives/ friends                            14371 non-null  object \n",
            " 20  Who assisted during this abortion - other                                         14371 non-null  object \n",
            " 21  Who assisted during this abortion - nobody                                        14371 non-null  object \n",
            " 22  abortion_failed                                                                   14371 non-null  float64\n",
            " 23  Age                                                                               14371 non-null  object \n",
            " 24  Number of living children                                                         14371 non-null  float64\n",
            " 25  Highest educational level                                                         14371 non-null  object \n",
            " 26  Region                                                                            14371 non-null  object \n",
            " 27  Type of place of residence                                                        14371 non-null  object \n",
            " 28  Religion                                                                          14371 non-null  object \n",
            " 29  Respondent's occupation                                                           14371 non-null  object \n",
            " 30  Current marital status                                                            14371 non-null  object \n",
            " 31  target                                                                            14371 non-null  object \n",
            "dtypes: float64(4), object(28)\n",
            "memory usage: 3.6+ MB\n"
          ]
        }
      ]
    },
    {
      "cell_type": "code",
      "metadata": {
        "id": "7pYuf-VnbdTQ",
        "colab": {
          "base_uri": "https://localhost:8080/",
          "height": 469
        },
        "outputId": "f9ab36e4-d8e6-48f2-f90d-249da20db66b"
      },
      "source": [
        "abortion.head()"
      ],
      "execution_count": null,
      "outputs": [
        {
          "output_type": "execute_result",
          "data": {
            "text/html": [
              "<div>\n",
              "<style scoped>\n",
              "    .dataframe tbody tr th:only-of-type {\n",
              "        vertical-align: middle;\n",
              "    }\n",
              "\n",
              "    .dataframe tbody tr th {\n",
              "        vertical-align: top;\n",
              "    }\n",
              "\n",
              "    .dataframe thead th {\n",
              "        text-align: right;\n",
              "    }\n",
              "</style>\n",
              "<table border=\"1\" class=\"dataframe\">\n",
              "  <thead>\n",
              "    <tr style=\"text-align: right;\">\n",
              "      <th></th>\n",
              "      <th>pregnancy_loses</th>\n",
              "      <th>How many induced abortions during her live</th>\n",
              "      <th>dilatation and curettage</th>\n",
              "      <th>aspiration</th>\n",
              "      <th>sonde</th>\n",
              "      <th>Cytotek_(Misoprostol)</th>\n",
              "      <th>injections</th>\n",
              "      <th>pill</th>\n",
              "      <th>plants/decoction</th>\n",
              "      <th>other</th>\n",
              "      <th>dont_know</th>\n",
              "      <th>Who assisted during this abortion - doctor</th>\n",
              "      <th>Who assisted during this abortion - nurse</th>\n",
              "      <th>Who assisted during this abortion - auxiliary</th>\n",
              "      <th>Who assisted during this abortion - health agent</th>\n",
              "      <th>Who assisted during this abortion - birth attendant/ matrone avec boï¿½te</th>\n",
              "      <th>Who assisted during this abortion - traditional birth attendant/ matrone sans bo</th>\n",
              "      <th>Who assisted during this abortion - guï¿½risseur/mï¿½decin-feuille</th>\n",
              "      <th>Who assisted during this abortion - Ougan/mambo</th>\n",
              "      <th>Who assisted during this abortion - relatives/ friends</th>\n",
              "      <th>Who assisted during this abortion - other</th>\n",
              "      <th>Who assisted during this abortion - nobody</th>\n",
              "      <th>abortion_failed</th>\n",
              "      <th>Age</th>\n",
              "      <th>Number of living children</th>\n",
              "      <th>Highest educational level</th>\n",
              "      <th>Region</th>\n",
              "      <th>Type of place of residence</th>\n",
              "      <th>Religion</th>\n",
              "      <th>Respondent's occupation</th>\n",
              "      <th>Current marital status</th>\n",
              "      <th>target</th>\n",
              "    </tr>\n",
              "  </thead>\n",
              "  <tbody>\n",
              "    <tr>\n",
              "      <th>0</th>\n",
              "      <td>0.0</td>\n",
              "      <td>0.0</td>\n",
              "      <td>No</td>\n",
              "      <td>No</td>\n",
              "      <td>No</td>\n",
              "      <td>No</td>\n",
              "      <td>No</td>\n",
              "      <td>No</td>\n",
              "      <td>No</td>\n",
              "      <td>No</td>\n",
              "      <td>No</td>\n",
              "      <td>No</td>\n",
              "      <td>No</td>\n",
              "      <td>No</td>\n",
              "      <td>No</td>\n",
              "      <td>No</td>\n",
              "      <td>No</td>\n",
              "      <td>No</td>\n",
              "      <td>No</td>\n",
              "      <td>No</td>\n",
              "      <td>No</td>\n",
              "      <td>No</td>\n",
              "      <td>0.0</td>\n",
              "      <td>15-19</td>\n",
              "      <td>0.0</td>\n",
              "      <td>Secondary</td>\n",
              "      <td>Sud</td>\n",
              "      <td>Rural</td>\n",
              "      <td>Protestant</td>\n",
              "      <td>Not working</td>\n",
              "      <td>Never in union</td>\n",
              "      <td>No Abortion</td>\n",
              "    </tr>\n",
              "    <tr>\n",
              "      <th>1</th>\n",
              "      <td>0.0</td>\n",
              "      <td>0.0</td>\n",
              "      <td>No</td>\n",
              "      <td>No</td>\n",
              "      <td>No</td>\n",
              "      <td>No</td>\n",
              "      <td>No</td>\n",
              "      <td>No</td>\n",
              "      <td>No</td>\n",
              "      <td>No</td>\n",
              "      <td>No</td>\n",
              "      <td>No</td>\n",
              "      <td>No</td>\n",
              "      <td>No</td>\n",
              "      <td>No</td>\n",
              "      <td>No</td>\n",
              "      <td>No</td>\n",
              "      <td>No</td>\n",
              "      <td>No</td>\n",
              "      <td>No</td>\n",
              "      <td>No</td>\n",
              "      <td>No</td>\n",
              "      <td>0.0</td>\n",
              "      <td>25-29</td>\n",
              "      <td>0.0</td>\n",
              "      <td>Secondary</td>\n",
              "      <td>Sud</td>\n",
              "      <td>Rural</td>\n",
              "      <td>Catholic</td>\n",
              "      <td>working</td>\n",
              "      <td>Never in union</td>\n",
              "      <td>No Abortion</td>\n",
              "    </tr>\n",
              "    <tr>\n",
              "      <th>2</th>\n",
              "      <td>0.0</td>\n",
              "      <td>0.0</td>\n",
              "      <td>No</td>\n",
              "      <td>No</td>\n",
              "      <td>No</td>\n",
              "      <td>No</td>\n",
              "      <td>No</td>\n",
              "      <td>No</td>\n",
              "      <td>No</td>\n",
              "      <td>No</td>\n",
              "      <td>No</td>\n",
              "      <td>No</td>\n",
              "      <td>No</td>\n",
              "      <td>No</td>\n",
              "      <td>No</td>\n",
              "      <td>No</td>\n",
              "      <td>No</td>\n",
              "      <td>No</td>\n",
              "      <td>No</td>\n",
              "      <td>No</td>\n",
              "      <td>No</td>\n",
              "      <td>No</td>\n",
              "      <td>0.0</td>\n",
              "      <td>15-19</td>\n",
              "      <td>0.0</td>\n",
              "      <td>Primary</td>\n",
              "      <td>Sud</td>\n",
              "      <td>Rural</td>\n",
              "      <td>Catholic</td>\n",
              "      <td>Not working</td>\n",
              "      <td>Never in union</td>\n",
              "      <td>No Abortion</td>\n",
              "    </tr>\n",
              "    <tr>\n",
              "      <th>3</th>\n",
              "      <td>0.0</td>\n",
              "      <td>0.0</td>\n",
              "      <td>No</td>\n",
              "      <td>No</td>\n",
              "      <td>No</td>\n",
              "      <td>No</td>\n",
              "      <td>No</td>\n",
              "      <td>No</td>\n",
              "      <td>No</td>\n",
              "      <td>No</td>\n",
              "      <td>No</td>\n",
              "      <td>No</td>\n",
              "      <td>No</td>\n",
              "      <td>No</td>\n",
              "      <td>No</td>\n",
              "      <td>No</td>\n",
              "      <td>No</td>\n",
              "      <td>No</td>\n",
              "      <td>No</td>\n",
              "      <td>No</td>\n",
              "      <td>No</td>\n",
              "      <td>No</td>\n",
              "      <td>0.0</td>\n",
              "      <td>30-34</td>\n",
              "      <td>1.0</td>\n",
              "      <td>Secondary</td>\n",
              "      <td>Sud</td>\n",
              "      <td>Rural</td>\n",
              "      <td>Protestant</td>\n",
              "      <td>working</td>\n",
              "      <td>Married</td>\n",
              "      <td>No Abortion</td>\n",
              "    </tr>\n",
              "    <tr>\n",
              "      <th>4</th>\n",
              "      <td>0.0</td>\n",
              "      <td>0.0</td>\n",
              "      <td>No</td>\n",
              "      <td>No</td>\n",
              "      <td>No</td>\n",
              "      <td>No</td>\n",
              "      <td>No</td>\n",
              "      <td>No</td>\n",
              "      <td>No</td>\n",
              "      <td>No</td>\n",
              "      <td>No</td>\n",
              "      <td>No</td>\n",
              "      <td>No</td>\n",
              "      <td>No</td>\n",
              "      <td>No</td>\n",
              "      <td>No</td>\n",
              "      <td>No</td>\n",
              "      <td>No</td>\n",
              "      <td>No</td>\n",
              "      <td>No</td>\n",
              "      <td>No</td>\n",
              "      <td>No</td>\n",
              "      <td>0.0</td>\n",
              "      <td>25-29</td>\n",
              "      <td>0.0</td>\n",
              "      <td>Secondary</td>\n",
              "      <td>Sud</td>\n",
              "      <td>Rural</td>\n",
              "      <td>Protestant</td>\n",
              "      <td>working</td>\n",
              "      <td>Married</td>\n",
              "      <td>No Abortion</td>\n",
              "    </tr>\n",
              "  </tbody>\n",
              "</table>\n",
              "</div>"
            ],
            "text/plain": [
              "   pregnancy_loses  ...       target\n",
              "0              0.0  ...  No Abortion\n",
              "1              0.0  ...  No Abortion\n",
              "2              0.0  ...  No Abortion\n",
              "3              0.0  ...  No Abortion\n",
              "4              0.0  ...  No Abortion\n",
              "\n",
              "[5 rows x 32 columns]"
            ]
          },
          "metadata": {},
          "execution_count": 59
        }
      ]
    },
    {
      "cell_type": "markdown",
      "metadata": {
        "id": "3UCFyRu9bdTQ"
      },
      "source": [
        "# Exploratory Data Analyst. \n"
      ]
    },
    {
      "cell_type": "code",
      "metadata": {
        "id": "_jXCEHdobdTQ",
        "colab": {
          "base_uri": "https://localhost:8080/",
          "height": 143
        },
        "outputId": "41a36228-0138-442c-ca69-6caa79736614"
      },
      "source": [
        "abortion[\"dilatation and curettage\"].value_counts(normalize=True).to_frame()"
      ],
      "execution_count": null,
      "outputs": [
        {
          "output_type": "execute_result",
          "data": {
            "text/html": [
              "<div>\n",
              "<style scoped>\n",
              "    .dataframe tbody tr th:only-of-type {\n",
              "        vertical-align: middle;\n",
              "    }\n",
              "\n",
              "    .dataframe tbody tr th {\n",
              "        vertical-align: top;\n",
              "    }\n",
              "\n",
              "    .dataframe thead th {\n",
              "        text-align: right;\n",
              "    }\n",
              "</style>\n",
              "<table border=\"1\" class=\"dataframe\">\n",
              "  <thead>\n",
              "    <tr style=\"text-align: right;\">\n",
              "      <th></th>\n",
              "      <th>dilatation and curettage</th>\n",
              "    </tr>\n",
              "  </thead>\n",
              "  <tbody>\n",
              "    <tr>\n",
              "      <th>No</th>\n",
              "      <td>0.991998</td>\n",
              "    </tr>\n",
              "    <tr>\n",
              "      <th>Yes</th>\n",
              "      <td>0.007933</td>\n",
              "    </tr>\n",
              "    <tr>\n",
              "      <th>Don't know</th>\n",
              "      <td>0.000070</td>\n",
              "    </tr>\n",
              "  </tbody>\n",
              "</table>\n",
              "</div>"
            ],
            "text/plain": [
              "            dilatation and curettage\n",
              "No                          0.991998\n",
              "Yes                         0.007933\n",
              "Don't know                  0.000070"
            ]
          },
          "metadata": {},
          "execution_count": 138
        }
      ]
    },
    {
      "cell_type": "code",
      "metadata": {
        "id": "LhUoyHi9bdTQ",
        "colab": {
          "base_uri": "https://localhost:8080/",
          "height": 143
        },
        "outputId": "576fc893-e808-4d06-99c2-a2199e1daf2e"
      },
      "source": [
        "abortion1[\"dilatation and curettage\"].value_counts(normalize=True).to_frame()"
      ],
      "execution_count": null,
      "outputs": [
        {
          "output_type": "execute_result",
          "data": {
            "text/html": [
              "<div>\n",
              "<style scoped>\n",
              "    .dataframe tbody tr th:only-of-type {\n",
              "        vertical-align: middle;\n",
              "    }\n",
              "\n",
              "    .dataframe tbody tr th {\n",
              "        vertical-align: top;\n",
              "    }\n",
              "\n",
              "    .dataframe thead th {\n",
              "        text-align: right;\n",
              "    }\n",
              "</style>\n",
              "<table border=\"1\" class=\"dataframe\">\n",
              "  <thead>\n",
              "    <tr style=\"text-align: right;\">\n",
              "      <th></th>\n",
              "      <th>dilatation and curettage</th>\n",
              "    </tr>\n",
              "  </thead>\n",
              "  <tbody>\n",
              "    <tr>\n",
              "      <th>No</th>\n",
              "      <td>0.788136</td>\n",
              "    </tr>\n",
              "    <tr>\n",
              "      <th>Yes</th>\n",
              "      <td>0.209040</td>\n",
              "    </tr>\n",
              "    <tr>\n",
              "      <th>Don't know</th>\n",
              "      <td>0.002825</td>\n",
              "    </tr>\n",
              "  </tbody>\n",
              "</table>\n",
              "</div>"
            ],
            "text/plain": [
              "            dilatation and curettage\n",
              "No                          0.788136\n",
              "Yes                         0.209040\n",
              "Don't know                  0.002825"
            ]
          },
          "metadata": {},
          "execution_count": 139
        }
      ]
    },
    {
      "cell_type": "code",
      "metadata": {
        "id": "tTalcx7YbdTQ",
        "colab": {
          "base_uri": "https://localhost:8080/",
          "height": 143
        },
        "outputId": "3a2030fd-8f5d-4f5f-bf2c-bec7ff33f52c"
      },
      "source": [
        "abortion1[\"aspiration\"].value_counts(normalize=True).to_frame()"
      ],
      "execution_count": null,
      "outputs": [
        {
          "output_type": "execute_result",
          "data": {
            "text/html": [
              "<div>\n",
              "<style scoped>\n",
              "    .dataframe tbody tr th:only-of-type {\n",
              "        vertical-align: middle;\n",
              "    }\n",
              "\n",
              "    .dataframe tbody tr th {\n",
              "        vertical-align: top;\n",
              "    }\n",
              "\n",
              "    .dataframe thead th {\n",
              "        text-align: right;\n",
              "    }\n",
              "</style>\n",
              "<table border=\"1\" class=\"dataframe\">\n",
              "  <thead>\n",
              "    <tr style=\"text-align: right;\">\n",
              "      <th></th>\n",
              "      <th>aspiration</th>\n",
              "    </tr>\n",
              "  </thead>\n",
              "  <tbody>\n",
              "    <tr>\n",
              "      <th>No</th>\n",
              "      <td>0.991525</td>\n",
              "    </tr>\n",
              "    <tr>\n",
              "      <th>Yes</th>\n",
              "      <td>0.005650</td>\n",
              "    </tr>\n",
              "    <tr>\n",
              "      <th>Don't know</th>\n",
              "      <td>0.002825</td>\n",
              "    </tr>\n",
              "  </tbody>\n",
              "</table>\n",
              "</div>"
            ],
            "text/plain": [
              "            aspiration\n",
              "No            0.991525\n",
              "Yes           0.005650\n",
              "Don't know    0.002825"
            ]
          },
          "metadata": {},
          "execution_count": 140
        }
      ]
    },
    {
      "cell_type": "code",
      "metadata": {
        "id": "_hmyT2-5bdTR",
        "colab": {
          "base_uri": "https://localhost:8080/",
          "height": 143
        },
        "outputId": "36806137-e02e-4e3e-d0cd-87a454308be3"
      },
      "source": [
        "abortion1[\"aspiration\"].value_counts(normalize=True).to_frame()"
      ],
      "execution_count": null,
      "outputs": [
        {
          "output_type": "execute_result",
          "data": {
            "text/html": [
              "<div>\n",
              "<style scoped>\n",
              "    .dataframe tbody tr th:only-of-type {\n",
              "        vertical-align: middle;\n",
              "    }\n",
              "\n",
              "    .dataframe tbody tr th {\n",
              "        vertical-align: top;\n",
              "    }\n",
              "\n",
              "    .dataframe thead th {\n",
              "        text-align: right;\n",
              "    }\n",
              "</style>\n",
              "<table border=\"1\" class=\"dataframe\">\n",
              "  <thead>\n",
              "    <tr style=\"text-align: right;\">\n",
              "      <th></th>\n",
              "      <th>aspiration</th>\n",
              "    </tr>\n",
              "  </thead>\n",
              "  <tbody>\n",
              "    <tr>\n",
              "      <th>No</th>\n",
              "      <td>0.991525</td>\n",
              "    </tr>\n",
              "    <tr>\n",
              "      <th>Yes</th>\n",
              "      <td>0.005650</td>\n",
              "    </tr>\n",
              "    <tr>\n",
              "      <th>Don't know</th>\n",
              "      <td>0.002825</td>\n",
              "    </tr>\n",
              "  </tbody>\n",
              "</table>\n",
              "</div>"
            ],
            "text/plain": [
              "            aspiration\n",
              "No            0.991525\n",
              "Yes           0.005650\n",
              "Don't know    0.002825"
            ]
          },
          "metadata": {},
          "execution_count": 141
        }
      ]
    },
    {
      "cell_type": "code",
      "metadata": {
        "id": "5IAG71cObdTR",
        "colab": {
          "base_uri": "https://localhost:8080/",
          "height": 112
        },
        "outputId": "6bcb8857-7f78-4367-dd49-485e24b89636"
      },
      "source": [
        "\n",
        "abortion1[\"sonde\"].value_counts(normalize=True).to_frame()"
      ],
      "execution_count": null,
      "outputs": [
        {
          "output_type": "execute_result",
          "data": {
            "text/html": [
              "<div>\n",
              "<style scoped>\n",
              "    .dataframe tbody tr th:only-of-type {\n",
              "        vertical-align: middle;\n",
              "    }\n",
              "\n",
              "    .dataframe tbody tr th {\n",
              "        vertical-align: top;\n",
              "    }\n",
              "\n",
              "    .dataframe thead th {\n",
              "        text-align: right;\n",
              "    }\n",
              "</style>\n",
              "<table border=\"1\" class=\"dataframe\">\n",
              "  <thead>\n",
              "    <tr style=\"text-align: right;\">\n",
              "      <th></th>\n",
              "      <th>sonde</th>\n",
              "    </tr>\n",
              "  </thead>\n",
              "  <tbody>\n",
              "    <tr>\n",
              "      <th>No</th>\n",
              "      <td>0.997175</td>\n",
              "    </tr>\n",
              "    <tr>\n",
              "      <th>Don't know</th>\n",
              "      <td>0.002825</td>\n",
              "    </tr>\n",
              "  </tbody>\n",
              "</table>\n",
              "</div>"
            ],
            "text/plain": [
              "               sonde\n",
              "No          0.997175\n",
              "Don't know  0.002825"
            ]
          },
          "metadata": {},
          "execution_count": 142
        }
      ]
    },
    {
      "cell_type": "code",
      "metadata": {
        "id": "6bJKL1TlbdTR",
        "colab": {
          "base_uri": "https://localhost:8080/",
          "height": 112
        },
        "outputId": "2b7d11db-5528-47a9-8aaa-60c23a9b239f"
      },
      "source": [
        "abortion[\"sonde\"].value_counts(normalize=True).to_frame()"
      ],
      "execution_count": null,
      "outputs": [
        {
          "output_type": "execute_result",
          "data": {
            "text/html": [
              "<div>\n",
              "<style scoped>\n",
              "    .dataframe tbody tr th:only-of-type {\n",
              "        vertical-align: middle;\n",
              "    }\n",
              "\n",
              "    .dataframe tbody tr th {\n",
              "        vertical-align: top;\n",
              "    }\n",
              "\n",
              "    .dataframe thead th {\n",
              "        text-align: right;\n",
              "    }\n",
              "</style>\n",
              "<table border=\"1\" class=\"dataframe\">\n",
              "  <thead>\n",
              "    <tr style=\"text-align: right;\">\n",
              "      <th></th>\n",
              "      <th>sonde</th>\n",
              "    </tr>\n",
              "  </thead>\n",
              "  <tbody>\n",
              "    <tr>\n",
              "      <th>No</th>\n",
              "      <td>0.99993</td>\n",
              "    </tr>\n",
              "    <tr>\n",
              "      <th>Don't know</th>\n",
              "      <td>0.00007</td>\n",
              "    </tr>\n",
              "  </tbody>\n",
              "</table>\n",
              "</div>"
            ],
            "text/plain": [
              "              sonde\n",
              "No          0.99993\n",
              "Don't know  0.00007"
            ]
          },
          "metadata": {},
          "execution_count": 143
        }
      ]
    },
    {
      "cell_type": "code",
      "metadata": {
        "id": "VW3cf7_dbdTR",
        "colab": {
          "base_uri": "https://localhost:8080/",
          "height": 143
        },
        "outputId": "01047add-164c-4f72-b4c0-956086f8f2d5"
      },
      "source": [
        "abortion1[\"Cytotek_(Misoprostol)\"].value_counts(normalize=True).to_frame()"
      ],
      "execution_count": null,
      "outputs": [
        {
          "output_type": "execute_result",
          "data": {
            "text/html": [
              "<div>\n",
              "<style scoped>\n",
              "    .dataframe tbody tr th:only-of-type {\n",
              "        vertical-align: middle;\n",
              "    }\n",
              "\n",
              "    .dataframe tbody tr th {\n",
              "        vertical-align: top;\n",
              "    }\n",
              "\n",
              "    .dataframe thead th {\n",
              "        text-align: right;\n",
              "    }\n",
              "</style>\n",
              "<table border=\"1\" class=\"dataframe\">\n",
              "  <thead>\n",
              "    <tr style=\"text-align: right;\">\n",
              "      <th></th>\n",
              "      <th>Cytotek_(Misoprostol)</th>\n",
              "    </tr>\n",
              "  </thead>\n",
              "  <tbody>\n",
              "    <tr>\n",
              "      <th>No</th>\n",
              "      <td>0.742938</td>\n",
              "    </tr>\n",
              "    <tr>\n",
              "      <th>Yes</th>\n",
              "      <td>0.254237</td>\n",
              "    </tr>\n",
              "    <tr>\n",
              "      <th>Don't know</th>\n",
              "      <td>0.002825</td>\n",
              "    </tr>\n",
              "  </tbody>\n",
              "</table>\n",
              "</div>"
            ],
            "text/plain": [
              "            Cytotek_(Misoprostol)\n",
              "No                       0.742938\n",
              "Yes                      0.254237\n",
              "Don't know               0.002825"
            ]
          },
          "metadata": {},
          "execution_count": 144
        }
      ]
    },
    {
      "cell_type": "code",
      "metadata": {
        "id": "3Wu49TVqbdTR",
        "colab": {
          "base_uri": "https://localhost:8080/",
          "height": 143
        },
        "outputId": "7400e617-a308-4c27-f2ab-4deb0a956f53"
      },
      "source": [
        "abortion[\"Cytotek_(Misoprostol)\"].value_counts(normalize=True).to_frame()"
      ],
      "execution_count": null,
      "outputs": [
        {
          "output_type": "execute_result",
          "data": {
            "text/html": [
              "<div>\n",
              "<style scoped>\n",
              "    .dataframe tbody tr th:only-of-type {\n",
              "        vertical-align: middle;\n",
              "    }\n",
              "\n",
              "    .dataframe tbody tr th {\n",
              "        vertical-align: top;\n",
              "    }\n",
              "\n",
              "    .dataframe thead th {\n",
              "        text-align: right;\n",
              "    }\n",
              "</style>\n",
              "<table border=\"1\" class=\"dataframe\">\n",
              "  <thead>\n",
              "    <tr style=\"text-align: right;\">\n",
              "      <th></th>\n",
              "      <th>Cytotek_(Misoprostol)</th>\n",
              "    </tr>\n",
              "  </thead>\n",
              "  <tbody>\n",
              "    <tr>\n",
              "      <th>No</th>\n",
              "      <td>0.992067</td>\n",
              "    </tr>\n",
              "    <tr>\n",
              "      <th>Yes</th>\n",
              "      <td>0.007863</td>\n",
              "    </tr>\n",
              "    <tr>\n",
              "      <th>Don't know</th>\n",
              "      <td>0.000070</td>\n",
              "    </tr>\n",
              "  </tbody>\n",
              "</table>\n",
              "</div>"
            ],
            "text/plain": [
              "            Cytotek_(Misoprostol)\n",
              "No                       0.992067\n",
              "Yes                      0.007863\n",
              "Don't know               0.000070"
            ]
          },
          "metadata": {},
          "execution_count": 145
        }
      ]
    },
    {
      "cell_type": "code",
      "metadata": {
        "id": "xP4CLq1vbdTR",
        "colab": {
          "base_uri": "https://localhost:8080/",
          "height": 143
        },
        "outputId": "46b26520-4668-4c69-dc21-ff586dde3082"
      },
      "source": [
        "abortion1[\"injections\"].value_counts(normalize=True).to_frame()\n"
      ],
      "execution_count": null,
      "outputs": [
        {
          "output_type": "execute_result",
          "data": {
            "text/html": [
              "<div>\n",
              "<style scoped>\n",
              "    .dataframe tbody tr th:only-of-type {\n",
              "        vertical-align: middle;\n",
              "    }\n",
              "\n",
              "    .dataframe tbody tr th {\n",
              "        vertical-align: top;\n",
              "    }\n",
              "\n",
              "    .dataframe thead th {\n",
              "        text-align: right;\n",
              "    }\n",
              "</style>\n",
              "<table border=\"1\" class=\"dataframe\">\n",
              "  <thead>\n",
              "    <tr style=\"text-align: right;\">\n",
              "      <th></th>\n",
              "      <th>injections</th>\n",
              "    </tr>\n",
              "  </thead>\n",
              "  <tbody>\n",
              "    <tr>\n",
              "      <th>No</th>\n",
              "      <td>0.974576</td>\n",
              "    </tr>\n",
              "    <tr>\n",
              "      <th>Yes</th>\n",
              "      <td>0.022599</td>\n",
              "    </tr>\n",
              "    <tr>\n",
              "      <th>Don't know</th>\n",
              "      <td>0.002825</td>\n",
              "    </tr>\n",
              "  </tbody>\n",
              "</table>\n",
              "</div>"
            ],
            "text/plain": [
              "            injections\n",
              "No            0.974576\n",
              "Yes           0.022599\n",
              "Don't know    0.002825"
            ]
          },
          "metadata": {},
          "execution_count": 146
        }
      ]
    },
    {
      "cell_type": "code",
      "metadata": {
        "id": "HtT0sj8vbdTR",
        "colab": {
          "base_uri": "https://localhost:8080/",
          "height": 143
        },
        "outputId": "4392f455-a7a1-4617-c686-1b1b30862c77"
      },
      "source": [
        "abortion[\"injections\"].value_counts(normalize=True).to_frame()"
      ],
      "execution_count": null,
      "outputs": [
        {
          "output_type": "execute_result",
          "data": {
            "text/html": [
              "<div>\n",
              "<style scoped>\n",
              "    .dataframe tbody tr th:only-of-type {\n",
              "        vertical-align: middle;\n",
              "    }\n",
              "\n",
              "    .dataframe tbody tr th {\n",
              "        vertical-align: top;\n",
              "    }\n",
              "\n",
              "    .dataframe thead th {\n",
              "        text-align: right;\n",
              "    }\n",
              "</style>\n",
              "<table border=\"1\" class=\"dataframe\">\n",
              "  <thead>\n",
              "    <tr style=\"text-align: right;\">\n",
              "      <th></th>\n",
              "      <th>injections</th>\n",
              "    </tr>\n",
              "  </thead>\n",
              "  <tbody>\n",
              "    <tr>\n",
              "      <th>No</th>\n",
              "      <td>0.999095</td>\n",
              "    </tr>\n",
              "    <tr>\n",
              "      <th>Yes</th>\n",
              "      <td>0.000835</td>\n",
              "    </tr>\n",
              "    <tr>\n",
              "      <th>Don't know</th>\n",
              "      <td>0.000070</td>\n",
              "    </tr>\n",
              "  </tbody>\n",
              "</table>\n",
              "</div>"
            ],
            "text/plain": [
              "            injections\n",
              "No            0.999095\n",
              "Yes           0.000835\n",
              "Don't know    0.000070"
            ]
          },
          "metadata": {},
          "execution_count": 147
        }
      ]
    },
    {
      "cell_type": "code",
      "metadata": {
        "id": "IvP92_pNbdTS",
        "colab": {
          "base_uri": "https://localhost:8080/",
          "height": 143
        },
        "outputId": "a6c2dfe2-e703-48b9-9fb9-cb5366e7cc23"
      },
      "source": [
        "abortion[\"pill\"].value_counts(normalize=True).to_frame()\n"
      ],
      "execution_count": null,
      "outputs": [
        {
          "output_type": "execute_result",
          "data": {
            "text/html": [
              "<div>\n",
              "<style scoped>\n",
              "    .dataframe tbody tr th:only-of-type {\n",
              "        vertical-align: middle;\n",
              "    }\n",
              "\n",
              "    .dataframe tbody tr th {\n",
              "        vertical-align: top;\n",
              "    }\n",
              "\n",
              "    .dataframe thead th {\n",
              "        text-align: right;\n",
              "    }\n",
              "</style>\n",
              "<table border=\"1\" class=\"dataframe\">\n",
              "  <thead>\n",
              "    <tr style=\"text-align: right;\">\n",
              "      <th></th>\n",
              "      <th>pill</th>\n",
              "    </tr>\n",
              "  </thead>\n",
              "  <tbody>\n",
              "    <tr>\n",
              "      <th>No</th>\n",
              "      <td>0.997565</td>\n",
              "    </tr>\n",
              "    <tr>\n",
              "      <th>Yes</th>\n",
              "      <td>0.002366</td>\n",
              "    </tr>\n",
              "    <tr>\n",
              "      <th>Don't know</th>\n",
              "      <td>0.000070</td>\n",
              "    </tr>\n",
              "  </tbody>\n",
              "</table>\n",
              "</div>"
            ],
            "text/plain": [
              "                pill\n",
              "No          0.997565\n",
              "Yes         0.002366\n",
              "Don't know  0.000070"
            ]
          },
          "metadata": {},
          "execution_count": 148
        }
      ]
    },
    {
      "cell_type": "code",
      "metadata": {
        "id": "UqkkVsK5bdTS",
        "colab": {
          "base_uri": "https://localhost:8080/",
          "height": 143
        },
        "outputId": "3c296673-cbe1-42bf-fe9d-cbd5d615b33f"
      },
      "source": [
        "abortion1[\"plants/decoction\"].value_counts(normalize=True).to_frame()\n"
      ],
      "execution_count": null,
      "outputs": [
        {
          "output_type": "execute_result",
          "data": {
            "text/html": [
              "<div>\n",
              "<style scoped>\n",
              "    .dataframe tbody tr th:only-of-type {\n",
              "        vertical-align: middle;\n",
              "    }\n",
              "\n",
              "    .dataframe tbody tr th {\n",
              "        vertical-align: top;\n",
              "    }\n",
              "\n",
              "    .dataframe thead th {\n",
              "        text-align: right;\n",
              "    }\n",
              "</style>\n",
              "<table border=\"1\" class=\"dataframe\">\n",
              "  <thead>\n",
              "    <tr style=\"text-align: right;\">\n",
              "      <th></th>\n",
              "      <th>plants/decoction</th>\n",
              "    </tr>\n",
              "  </thead>\n",
              "  <tbody>\n",
              "    <tr>\n",
              "      <th>No</th>\n",
              "      <td>0.937853</td>\n",
              "    </tr>\n",
              "    <tr>\n",
              "      <th>Yes</th>\n",
              "      <td>0.059322</td>\n",
              "    </tr>\n",
              "    <tr>\n",
              "      <th>Don't know</th>\n",
              "      <td>0.002825</td>\n",
              "    </tr>\n",
              "  </tbody>\n",
              "</table>\n",
              "</div>"
            ],
            "text/plain": [
              "            plants/decoction\n",
              "No                  0.937853\n",
              "Yes                 0.059322\n",
              "Don't know          0.002825"
            ]
          },
          "metadata": {},
          "execution_count": 149
        }
      ]
    },
    {
      "cell_type": "code",
      "metadata": {
        "id": "7dAKJKVbbdTS",
        "colab": {
          "base_uri": "https://localhost:8080/",
          "height": 143
        },
        "outputId": "295f03af-1ad3-4bc8-9826-13bb49d6d85a"
      },
      "source": [
        "abortion[\"other\"].value_counts(normalize=True).to_frame()"
      ],
      "execution_count": null,
      "outputs": [
        {
          "output_type": "execute_result",
          "data": {
            "text/html": [
              "<div>\n",
              "<style scoped>\n",
              "    .dataframe tbody tr th:only-of-type {\n",
              "        vertical-align: middle;\n",
              "    }\n",
              "\n",
              "    .dataframe tbody tr th {\n",
              "        vertical-align: top;\n",
              "    }\n",
              "\n",
              "    .dataframe thead th {\n",
              "        text-align: right;\n",
              "    }\n",
              "</style>\n",
              "<table border=\"1\" class=\"dataframe\">\n",
              "  <thead>\n",
              "    <tr style=\"text-align: right;\">\n",
              "      <th></th>\n",
              "      <th>other</th>\n",
              "    </tr>\n",
              "  </thead>\n",
              "  <tbody>\n",
              "    <tr>\n",
              "      <th>No</th>\n",
              "      <td>0.99833</td>\n",
              "    </tr>\n",
              "    <tr>\n",
              "      <th>Yes</th>\n",
              "      <td>0.00160</td>\n",
              "    </tr>\n",
              "    <tr>\n",
              "      <th>Don't know</th>\n",
              "      <td>0.00007</td>\n",
              "    </tr>\n",
              "  </tbody>\n",
              "</table>\n",
              "</div>"
            ],
            "text/plain": [
              "              other\n",
              "No          0.99833\n",
              "Yes         0.00160\n",
              "Don't know  0.00007"
            ]
          },
          "metadata": {},
          "execution_count": 150
        }
      ]
    },
    {
      "cell_type": "code",
      "metadata": {
        "id": "sYTAoRX3bdTS",
        "colab": {
          "base_uri": "https://localhost:8080/",
          "height": 112
        },
        "outputId": "5f3af9f8-fc89-4dc2-f7f2-9e45ab535a89"
      },
      "source": [
        "abortion1[\"dont_know\"].value_counts(normalize=True).to_frame()"
      ],
      "execution_count": null,
      "outputs": [
        {
          "output_type": "execute_result",
          "data": {
            "text/html": [
              "<div>\n",
              "<style scoped>\n",
              "    .dataframe tbody tr th:only-of-type {\n",
              "        vertical-align: middle;\n",
              "    }\n",
              "\n",
              "    .dataframe tbody tr th {\n",
              "        vertical-align: top;\n",
              "    }\n",
              "\n",
              "    .dataframe thead th {\n",
              "        text-align: right;\n",
              "    }\n",
              "</style>\n",
              "<table border=\"1\" class=\"dataframe\">\n",
              "  <thead>\n",
              "    <tr style=\"text-align: right;\">\n",
              "      <th></th>\n",
              "      <th>dont_know</th>\n",
              "    </tr>\n",
              "  </thead>\n",
              "  <tbody>\n",
              "    <tr>\n",
              "      <th>No</th>\n",
              "      <td>0.997175</td>\n",
              "    </tr>\n",
              "    <tr>\n",
              "      <th>Yes - don't know</th>\n",
              "      <td>0.002825</td>\n",
              "    </tr>\n",
              "  </tbody>\n",
              "</table>\n",
              "</div>"
            ],
            "text/plain": [
              "                  dont_know\n",
              "No                 0.997175\n",
              "Yes - don't know   0.002825"
            ]
          },
          "metadata": {},
          "execution_count": 151
        }
      ]
    },
    {
      "cell_type": "code",
      "metadata": {
        "id": "eh_syftWbdTS",
        "colab": {
          "base_uri": "https://localhost:8080/",
          "height": 269
        },
        "outputId": "a961a9a3-4fa9-4ace-fbee-39f714fb6732"
      },
      "source": [
        "# ABORTION RATE BY AGE\n",
        "#abortion[\"Age in 5-year groups\"].mean()\n",
        "abortion1[\"Age\"].value_counts(normalize=True).to_frame()"
      ],
      "execution_count": null,
      "outputs": [
        {
          "output_type": "execute_result",
          "data": {
            "text/html": [
              "<div>\n",
              "<style scoped>\n",
              "    .dataframe tbody tr th:only-of-type {\n",
              "        vertical-align: middle;\n",
              "    }\n",
              "\n",
              "    .dataframe tbody tr th {\n",
              "        vertical-align: top;\n",
              "    }\n",
              "\n",
              "    .dataframe thead th {\n",
              "        text-align: right;\n",
              "    }\n",
              "</style>\n",
              "<table border=\"1\" class=\"dataframe\">\n",
              "  <thead>\n",
              "    <tr style=\"text-align: right;\">\n",
              "      <th></th>\n",
              "      <th>Age</th>\n",
              "    </tr>\n",
              "  </thead>\n",
              "  <tbody>\n",
              "    <tr>\n",
              "      <th>25-29</th>\n",
              "      <td>0.209040</td>\n",
              "    </tr>\n",
              "    <tr>\n",
              "      <th>30-34</th>\n",
              "      <td>0.192090</td>\n",
              "    </tr>\n",
              "    <tr>\n",
              "      <th>35-39</th>\n",
              "      <td>0.183616</td>\n",
              "    </tr>\n",
              "    <tr>\n",
              "      <th>20-24</th>\n",
              "      <td>0.166667</td>\n",
              "    </tr>\n",
              "    <tr>\n",
              "      <th>40-44</th>\n",
              "      <td>0.132768</td>\n",
              "    </tr>\n",
              "    <tr>\n",
              "      <th>45-49</th>\n",
              "      <td>0.096045</td>\n",
              "    </tr>\n",
              "    <tr>\n",
              "      <th>15-19</th>\n",
              "      <td>0.019774</td>\n",
              "    </tr>\n",
              "  </tbody>\n",
              "</table>\n",
              "</div>"
            ],
            "text/plain": [
              "            Age\n",
              "25-29  0.209040\n",
              "30-34  0.192090\n",
              "35-39  0.183616\n",
              "20-24  0.166667\n",
              "40-44  0.132768\n",
              "45-49  0.096045\n",
              "15-19  0.019774"
            ]
          },
          "metadata": {},
          "execution_count": 152
        }
      ]
    },
    {
      "cell_type": "code",
      "metadata": {
        "id": "-JnMxwKEbdTS",
        "colab": {
          "base_uri": "https://localhost:8080/",
          "height": 269
        },
        "outputId": "0f6f27a1-766a-4299-bb1e-b5d433a95bb1"
      },
      "source": [
        "abortion[\"Age\"].value_counts(normalize=True).to_frame()"
      ],
      "execution_count": null,
      "outputs": [
        {
          "output_type": "execute_result",
          "data": {
            "text/html": [
              "<div>\n",
              "<style scoped>\n",
              "    .dataframe tbody tr th:only-of-type {\n",
              "        vertical-align: middle;\n",
              "    }\n",
              "\n",
              "    .dataframe tbody tr th {\n",
              "        vertical-align: top;\n",
              "    }\n",
              "\n",
              "    .dataframe thead th {\n",
              "        text-align: right;\n",
              "    }\n",
              "</style>\n",
              "<table border=\"1\" class=\"dataframe\">\n",
              "  <thead>\n",
              "    <tr style=\"text-align: right;\">\n",
              "      <th></th>\n",
              "      <th>Age</th>\n",
              "    </tr>\n",
              "  </thead>\n",
              "  <tbody>\n",
              "    <tr>\n",
              "      <th>15-19</th>\n",
              "      <td>0.230116</td>\n",
              "    </tr>\n",
              "    <tr>\n",
              "      <th>20-24</th>\n",
              "      <td>0.192958</td>\n",
              "    </tr>\n",
              "    <tr>\n",
              "      <th>25-29</th>\n",
              "      <td>0.153225</td>\n",
              "    </tr>\n",
              "    <tr>\n",
              "      <th>30-34</th>\n",
              "      <td>0.133533</td>\n",
              "    </tr>\n",
              "    <tr>\n",
              "      <th>35-39</th>\n",
              "      <td>0.114467</td>\n",
              "    </tr>\n",
              "    <tr>\n",
              "      <th>40-44</th>\n",
              "      <td>0.091017</td>\n",
              "    </tr>\n",
              "    <tr>\n",
              "      <th>45-49</th>\n",
              "      <td>0.084684</td>\n",
              "    </tr>\n",
              "  </tbody>\n",
              "</table>\n",
              "</div>"
            ],
            "text/plain": [
              "            Age\n",
              "15-19  0.230116\n",
              "20-24  0.192958\n",
              "25-29  0.153225\n",
              "30-34  0.133533\n",
              "35-39  0.114467\n",
              "40-44  0.091017\n",
              "45-49  0.084684"
            ]
          },
          "metadata": {},
          "execution_count": 153
        }
      ]
    },
    {
      "cell_type": "markdown",
      "metadata": {
        "id": "pHbSu48ybdTS"
      },
      "source": [
        "#### As we can see previously the more the woman is right the more she aborts. The group that aborts the most is the one whose age is between 15-19 years. "
      ]
    },
    {
      "cell_type": "code",
      "metadata": {
        "id": "Yu6b43GwbdTT"
      },
      "source": [
        "ListHowLost = [\n",
        "    \"dont_know\",\n",
        "    \"other\",\n",
        "    \"plants/decoction\",\n",
        "    \"pill\",\n",
        "    \"injections\",\n",
        "    \"sonde\",\n",
        "    \"aspiration\",\n",
        "    \"dilatation and curettage\",\n",
        "    \"Cytotek_(Misoprostol)\"\n",
        "]"
      ],
      "execution_count": null,
      "outputs": []
    },
    {
      "cell_type": "code",
      "metadata": {
        "id": "nt1MNfrWbdTT",
        "colab": {
          "base_uri": "https://localhost:8080/",
          "height": 280
        },
        "outputId": "8ed94cc6-3b61-4fb1-8d23-fdd5eb4741e9"
      },
      "source": [
        "#Visualization of all abortion methods used\n",
        "for i in ListHowLost:\n",
        "    sns.countplot(x=abortion1[i])"
      ],
      "execution_count": null,
      "outputs": [
        {
          "output_type": "display_data",
          "data": {
            "image/png": "[encoded data removed]",
            "text/plain": [
              "<Figure size 432x288 with 1 Axes>"
            ]
          },
          "metadata": {
            "needs_background": "light"
          }
        }
      ]
    },
    {
      "cell_type": "markdown",
      "metadata": {
        "id": "E2yEyySabdTT"
      },
      "source": [
        "Because abortion is illegal in Haiti, women are not well informed about the various methods used to perform an abortion, even if they have already experienced one. The various calculations above confirm this. "
      ]
    },
    {
      "cell_type": "code",
      "metadata": {
        "id": "1rKdvB4NbdTT",
        "colab": {
          "base_uri": "https://localhost:8080/",
          "height": 296
        },
        "outputId": "4f2f9b92-ff72-47a1-ee92-e79f09514bc2"
      },
      "source": [
        "#\n",
        "sns.countplot(x=abortion1['Highest educational level'])"
      ],
      "execution_count": null,
      "outputs": [
        {
          "output_type": "execute_result",
          "data": {
            "text/plain": [
              "<matplotlib.axes._subplots.AxesSubplot at 0x7f786f8f4250>"
            ]
          },
          "metadata": {},
          "execution_count": 218
        },
        {
          "output_type": "display_data",
          "data": {
            "image/png": "[encoded data removed]",
            "text/plain": [
              "<Figure size 432x288 with 1 Axes>"
            ]
          },
          "metadata": {
            "needs_background": "light"
          }
        }
      ]
    },
    {
      "cell_type": "markdown",
      "metadata": {
        "id": "hAp2DdgWbdTT"
      },
      "source": [
        "### The vast majority of women who have abortions are women whose level of education does not exceed the secondary level, followed by the primary level. "
      ]
    },
    {
      "cell_type": "code",
      "metadata": {
        "id": "i0eVckHYbdTT",
        "colab": {
          "base_uri": "https://localhost:8080/",
          "height": 296
        },
        "outputId": "d7be85a7-4522-46e6-c5ef-67e1910ca812"
      },
      "source": [
        "\n",
        "sns.countplot(x=abortion1['Religion'])"
      ],
      "execution_count": null,
      "outputs": [
        {
          "output_type": "execute_result",
          "data": {
            "text/plain": [
              "<matplotlib.axes._subplots.AxesSubplot at 0x7f786f760c50>"
            ]
          },
          "metadata": {},
          "execution_count": 157
        },
        {
          "output_type": "display_data",
          "data": {
            "image/png": "[encoded data removed]",
            "text/plain": [
              "<Figure size 432x288 with 1 Axes>"
            ]
          },
          "metadata": {
            "needs_background": "light"
          }
        }
      ]
    },
    {
      "cell_type": "code",
      "metadata": {
        "id": "fJ-81p00bdTT",
        "colab": {
          "base_uri": "https://localhost:8080/",
          "height": 296
        },
        "outputId": "cc9d76de-ecc6-42c8-c714-7762a5d9cef5"
      },
      "source": [
        "sns.countplot(x=abortion1[\"Religion\"])"
      ],
      "execution_count": null,
      "outputs": [
        {
          "output_type": "execute_result",
          "data": {
            "text/plain": [
              "<matplotlib.axes._subplots.AxesSubplot at 0x7f786f5e1990>"
            ]
          },
          "metadata": {},
          "execution_count": 158
        },
        {
          "output_type": "display_data",
          "data": {
            "image/png": "[encoded data removed]",
            "text/plain": [
              "<Figure size 432x288 with 1 Axes>"
            ]
          },
          "metadata": {
            "needs_background": "light"
          }
        }
      ]
    },
    {
      "cell_type": "code",
      "metadata": {
        "id": "4qtjZC6VbdTT",
        "colab": {
          "base_uri": "https://localhost:8080/",
          "height": 514
        },
        "outputId": "ef7b8462-721f-4153-b1af-5a86e5143659"
      },
      "source": [
        "fig_dims = (15,8)\n",
        "fig, ax = plot.subplots(figsize=fig_dims)\n",
        "sns.countplot(x=abortion[\"Current marital status\"],ax=ax, data=abortion1)"
      ],
      "execution_count": null,
      "outputs": [
        {
          "output_type": "execute_result",
          "data": {
            "text/plain": [
              "<matplotlib.axes._subplots.AxesSubplot at 0x7f786f5c76d0>"
            ]
          },
          "metadata": {},
          "execution_count": 159
        },
        {
          "output_type": "display_data",
          "data": {
            "image/png": "[encoded data removed]",
            "text/plain": [
              "<Figure size 1080x576 with 1 Axes>"
            ]
          },
          "metadata": {
            "needs_background": "light"
          }
        }
      ]
    },
    {
      "cell_type": "code",
      "metadata": {
        "id": "1Kki2FSabdTU",
        "colab": {
          "base_uri": "https://localhost:8080/",
          "height": 931
        },
        "outputId": "086f5116-24ac-4b8c-9e8f-adb511e138e8"
      },
      "source": [
        "my_pivot2 =  pd.pivot_table(data=abortion1,index=\"Highest educational level\",columns=\"Religion\",values =\"pregnancy_loses\",aggfunc=\"count\")\n",
        "abortion1[\"Secondary\"] =abortion1[\"Highest educational level\"].apply(lambda x: 1 if x == \"Secondary\" else 0)\n",
        "abortion1[\"Primary\"] =abortion1[\"Highest educational level\"].apply(lambda x: 1 if x==\"Primary\" else 0)\n",
        "abortion1[\"No education\"] =abortion1[\"Highest educational level\"].apply(lambda x: 1 if x==\"Mo rducation\" else 0)\n",
        "abortion1[\"Higher\"] =abortion1[\"Highest educational level\"].apply(lambda x: 1 if x==\"Higher\" else 0)\n",
        "\n",
        "# Cross tabulation between Religion and educational level\n",
        "CrosstabResult=pd.crosstab(index=abortion1['Religion'],columns=abortion1['Highest educational level'])\n",
        "#print(CrosstabResult)\n",
        " \n",
        "# Grouped bar chart between GENDER and communication channel\n",
        "CrosstabResult.plot.bar(figsize=(12,8), rot=0)"
      ],
      "execution_count": null,
      "outputs": [
        {
          "output_type": "stream",
          "name": "stderr",
          "text": [
            "/usr/local/lib/python3.7/dist-packages/ipykernel_launcher.py:2: SettingWithCopyWarning: \n",
            "A value is trying to be set on a copy of a slice from a DataFrame.\n",
            "Try using .loc[row_indexer,col_indexer] = value instead\n",
            "\n",
            "See the caveats in the documentation: https://pandas.pydata.org/pandas-docs/stable/user_guide/indexing.html#returning-a-view-versus-a-copy\n",
            "  \n",
            "/usr/local/lib/python3.7/dist-packages/ipykernel_launcher.py:3: SettingWithCopyWarning: \n",
            "A value is trying to be set on a copy of a slice from a DataFrame.\n",
            "Try using .loc[row_indexer,col_indexer] = value instead\n",
            "\n",
            "See the caveats in the documentation: https://pandas.pydata.org/pandas-docs/stable/user_guide/indexing.html#returning-a-view-versus-a-copy\n",
            "  This is separate from the ipykernel package so we can avoid doing imports until\n",
            "/usr/local/lib/python3.7/dist-packages/ipykernel_launcher.py:4: SettingWithCopyWarning: \n",
            "A value is trying to be set on a copy of a slice from a DataFrame.\n",
            "Try using .loc[row_indexer,col_indexer] = value instead\n",
            "\n",
            "See the caveats in the documentation: https://pandas.pydata.org/pandas-docs/stable/user_guide/indexing.html#returning-a-view-versus-a-copy\n",
            "  after removing the cwd from sys.path.\n",
            "/usr/local/lib/python3.7/dist-packages/ipykernel_launcher.py:5: SettingWithCopyWarning: \n",
            "A value is trying to be set on a copy of a slice from a DataFrame.\n",
            "Try using .loc[row_indexer,col_indexer] = value instead\n",
            "\n",
            "See the caveats in the documentation: https://pandas.pydata.org/pandas-docs/stable/user_guide/indexing.html#returning-a-view-versus-a-copy\n",
            "  \"\"\"\n"
          ]
        },
        {
          "output_type": "execute_result",
          "data": {
            "text/plain": [
              "<matplotlib.axes._subplots.AxesSubplot at 0x7f7878f9e850>"
            ]
          },
          "metadata": {},
          "execution_count": 219
        },
        {
          "output_type": "display_data",
          "data": {
            "image/png": "[encoded data removed]",
            "text/plain": [
              "<Figure size 864x576 with 1 Axes>"
            ]
          },
          "metadata": {
            "needs_background": "light"
          }
        }
      ]
    },
    {
      "cell_type": "code",
      "metadata": {
        "colab": {
          "base_uri": "https://localhost:8080/",
          "height": 832
        },
        "id": "_lbjFmxUscpW",
        "outputId": "ce3da125-b8e7-420c-dd53-5c97c0bf6784"
      },
      "source": [
        "my_pivot2 =  pd.pivot_table(data=abortion1,index=\"Respondent's occupation\",columns=\"Current marital status\",values =\"pregnancy_loses\",aggfunc=\"count\")\n",
        "abortion1[\"Not working\"] =abortion1[\"Respondent's occupation\"].apply(lambda x: 1 if x == \"Not working\" else 0)\n",
        "abortion1[\"working\"] =abortion1[\"Respondent's occupation\"].apply(lambda x: 1 if x==\"working\" else 0)\n",
        "# Cross tabulation between Current marital status and educational level\n",
        "CrosstabResult=pd.crosstab(index=abortion1['Current marital status'],columns=abortion1[\"Respondent's occupation\"])\n",
        "#print(CrosstabResult)\n",
        " \n",
        "# Grouped bar chart between Current marital status and education level \n",
        "CrosstabResult.plot.bar(figsize=(15,10), rot=0)"
      ],
      "execution_count": null,
      "outputs": [
        {
          "output_type": "stream",
          "name": "stderr",
          "text": [
            "/usr/local/lib/python3.7/dist-packages/ipykernel_launcher.py:2: SettingWithCopyWarning: \n",
            "A value is trying to be set on a copy of a slice from a DataFrame.\n",
            "Try using .loc[row_indexer,col_indexer] = value instead\n",
            "\n",
            "See the caveats in the documentation: https://pandas.pydata.org/pandas-docs/stable/user_guide/indexing.html#returning-a-view-versus-a-copy\n",
            "  \n",
            "/usr/local/lib/python3.7/dist-packages/ipykernel_launcher.py:3: SettingWithCopyWarning: \n",
            "A value is trying to be set on a copy of a slice from a DataFrame.\n",
            "Try using .loc[row_indexer,col_indexer] = value instead\n",
            "\n",
            "See the caveats in the documentation: https://pandas.pydata.org/pandas-docs/stable/user_guide/indexing.html#returning-a-view-versus-a-copy\n",
            "  This is separate from the ipykernel package so we can avoid doing imports until\n"
          ]
        },
        {
          "output_type": "execute_result",
          "data": {
            "text/plain": [
              "<matplotlib.axes._subplots.AxesSubplot at 0x7f786ea85150>"
            ]
          },
          "metadata": {},
          "execution_count": 224
        },
        {
          "output_type": "display_data",
          "data": {
            "image/png": "[encoded data removed]",
            "text/plain": [
              "<Figure size 1080x720 with 1 Axes>"
            ]
          },
          "metadata": {
            "needs_background": "light"
          }
        }
      ]
    },
    {
      "cell_type": "code",
      "metadata": {
        "colab": {
          "base_uri": "https://localhost:8080/",
          "height": 931
        },
        "id": "AWFwEIovsNoZ",
        "outputId": "b1c99096-6439-40c4-b909-f69a8a505f0f"
      },
      "source": [
        "my_pivot2 =  pd.pivot_table(data=abortion1,index=\"Highest educational level\",columns=\"Current marital status\",values =\"pregnancy_loses\",aggfunc=\"count\")\n",
        "abortion1[\"Secondary\"] =abortion1[\"Highest educational level\"].apply(lambda x: 1 if x == \"Secondary\" else 0)\n",
        "abortion1[\"Primary\"] =abortion1[\"Highest educational level\"].apply(lambda x: 1 if x==\"Primary\" else 0)\n",
        "abortion1[\"No education\"] =abortion1[\"Highest educational level\"].apply(lambda x: 1 if x==\"Mo rducation\" else 0)\n",
        "abortion1[\"Higher\"] =abortion1[\"Highest educational level\"].apply(lambda x: 1 if x==\"Higher\" else 0)\n",
        "\n",
        "# Cross tabulation between Religion and educational level\n",
        "CrosstabResult=pd.crosstab(index=abortion1['Current marital status'],columns=abortion1['Highest educational level'])\n",
        "#print(CrosstabResult)\n",
        " \n",
        "# Grouped bar chart between GENDER and communication channel\n",
        "CrosstabResult.plot.bar(figsize=(15,8), rot=0)"
      ],
      "execution_count": null,
      "outputs": [
        {
          "output_type": "stream",
          "name": "stderr",
          "text": [
            "/usr/local/lib/python3.7/dist-packages/ipykernel_launcher.py:2: SettingWithCopyWarning: \n",
            "A value is trying to be set on a copy of a slice from a DataFrame.\n",
            "Try using .loc[row_indexer,col_indexer] = value instead\n",
            "\n",
            "See the caveats in the documentation: https://pandas.pydata.org/pandas-docs/stable/user_guide/indexing.html#returning-a-view-versus-a-copy\n",
            "  \n",
            "/usr/local/lib/python3.7/dist-packages/ipykernel_launcher.py:3: SettingWithCopyWarning: \n",
            "A value is trying to be set on a copy of a slice from a DataFrame.\n",
            "Try using .loc[row_indexer,col_indexer] = value instead\n",
            "\n",
            "See the caveats in the documentation: https://pandas.pydata.org/pandas-docs/stable/user_guide/indexing.html#returning-a-view-versus-a-copy\n",
            "  This is separate from the ipykernel package so we can avoid doing imports until\n",
            "/usr/local/lib/python3.7/dist-packages/ipykernel_launcher.py:4: SettingWithCopyWarning: \n",
            "A value is trying to be set on a copy of a slice from a DataFrame.\n",
            "Try using .loc[row_indexer,col_indexer] = value instead\n",
            "\n",
            "See the caveats in the documentation: https://pandas.pydata.org/pandas-docs/stable/user_guide/indexing.html#returning-a-view-versus-a-copy\n",
            "  after removing the cwd from sys.path.\n",
            "/usr/local/lib/python3.7/dist-packages/ipykernel_launcher.py:5: SettingWithCopyWarning: \n",
            "A value is trying to be set on a copy of a slice from a DataFrame.\n",
            "Try using .loc[row_indexer,col_indexer] = value instead\n",
            "\n",
            "See the caveats in the documentation: https://pandas.pydata.org/pandas-docs/stable/user_guide/indexing.html#returning-a-view-versus-a-copy\n",
            "  \"\"\"\n"
          ]
        },
        {
          "output_type": "execute_result",
          "data": {
            "text/plain": [
              "<matplotlib.axes._subplots.AxesSubplot at 0x7f786e87fe50>"
            ]
          },
          "metadata": {},
          "execution_count": 228
        },
        {
          "output_type": "display_data",
          "data": {
            "image/png": "[encoded data removed]",
            "text/plain": [
              "<Figure size 1080x576 with 1 Axes>"
            ]
          },
          "metadata": {
            "needs_background": "light"
          }
        }
      ]
    },
    {
      "cell_type": "code",
      "metadata": {
        "id": "YBUOe_JPbdTU",
        "colab": {
          "base_uri": "https://localhost:8080/",
          "height": 345
        },
        "outputId": "e8f24e9f-7468-4901-cf93-6b3b8a0f2284"
      },
      "source": [
        "religion = pd.pivot_table(abortion1,index='Religion', values='abortion_failed').plot.bar()\n",
        "religion"
      ],
      "execution_count": null,
      "outputs": [
        {
          "output_type": "execute_result",
          "data": {
            "text/plain": [
              "<matplotlib.axes._subplots.AxesSubplot at 0x7f786f619550>"
            ]
          },
          "metadata": {},
          "execution_count": 161
        },
        {
          "output_type": "display_data",
          "data": {
            "image/png": "[encoded data removed]",
            "text/plain": [
              "<Figure size 432x288 with 1 Axes>"
            ]
          },
          "metadata": {
            "needs_background": "light"
          }
        }
      ]
    },
    {
      "cell_type": "code",
      "metadata": {
        "id": "i9cyWGwYbdTU",
        "colab": {
          "base_uri": "https://localhost:8080/",
          "height": 297
        },
        "outputId": "d2d7698f-b731-4a61-c6be-01fd20a51b18"
      },
      "source": [
        "#Region=pd.pivot_table(abortion1,index='Region', values='abortion_failed')\n",
        "#Region.plot.bar()\n",
        "pregnancy_loses = abortion1['pregnancy_loses']\n",
        "sns.boxplot(x='pregnancy_loses',data=abortion)"
      ],
      "execution_count": null,
      "outputs": [
        {
          "output_type": "execute_result",
          "data": {
            "text/plain": [
              "<matplotlib.axes._subplots.AxesSubplot at 0x7f786e7db6d0>"
            ]
          },
          "metadata": {},
          "execution_count": 229
        },
        {
          "output_type": "display_data",
          "data": {
            "image/png": "[encoded data removed]",
            "text/plain": [
              "<Figure size 432x288 with 1 Axes>"
            ]
          },
          "metadata": {
            "needs_background": "light"
          }
        }
      ]
    },
    {
      "cell_type": "code",
      "metadata": {
        "id": "CxZUe_E5bdTU",
        "colab": {
          "base_uri": "https://localhost:8080/",
          "height": 282
        },
        "outputId": "cb129d5c-5ec3-4f5a-dedb-21e78f2abfae"
      },
      "source": [
        "abortion1['pregnancy_loses'].hist()"
      ],
      "execution_count": null,
      "outputs": [
        {
          "output_type": "execute_result",
          "data": {
            "text/plain": [
              "<matplotlib.axes._subplots.AxesSubplot at 0x7f786f3be7d0>"
            ]
          },
          "metadata": {},
          "execution_count": 163
        },
        {
          "output_type": "display_data",
          "data": {
            "image/png": "[encoded data removed]",
            "text/plain": [
              "<Figure size 432x288 with 1 Axes>"
            ]
          },
          "metadata": {
            "needs_background": "light"
          }
        }
      ]
    },
    {
      "cell_type": "code",
      "metadata": {
        "id": "_tHf4r_0bdTU",
        "colab": {
          "base_uri": "https://localhost:8080/",
          "height": 296
        },
        "outputId": "2f1df9a9-b4d4-498d-9ffa-c93a22cbac5b"
      },
      "source": [
        "sns.boxplot(x='Number of living children',data=abortion)"
      ],
      "execution_count": null,
      "outputs": [
        {
          "output_type": "execute_result",
          "data": {
            "text/plain": [
              "<matplotlib.axes._subplots.AxesSubplot at 0x7f786e663bd0>"
            ]
          },
          "metadata": {},
          "execution_count": 230
        },
        {
          "output_type": "display_data",
          "data": {
            "image/png": "[encoded data removed]",
            "text/plain": [
              "<Figure size 432x288 with 1 Axes>"
            ]
          },
          "metadata": {
            "needs_background": "light"
          }
        }
      ]
    },
    {
      "cell_type": "code",
      "metadata": {
        "id": "MQ6_AHhZbdTU",
        "colab": {
          "base_uri": "https://localhost:8080/",
          "height": 282
        },
        "outputId": "7a2d20d1-2035-4e78-9758-5b85fddc3894"
      },
      "source": [
        "/abortion1['Number of living children'].hist()"
      ],
      "execution_count": null,
      "outputs": [
        {
          "output_type": "execute_result",
          "data": {
            "text/plain": [
              "<matplotlib.axes._subplots.AxesSubplot at 0x7f786e646310>"
            ]
          },
          "metadata": {},
          "execution_count": 231
        },
        {
          "output_type": "display_data",
          "data": {
            "image/png": "[encoded data removed]",
            "text/plain": [
              "<Figure size 432x288 with 1 Axes>"
            ]
          },
          "metadata": {
            "needs_background": "light"
          }
        }
      ]
    },
    {
      "cell_type": "code",
      "metadata": {
        "id": "fDA3ZSVqbdTV",
        "colab": {
          "base_uri": "https://localhost:8080/",
          "height": 297
        },
        "outputId": "44a34232-3905-4c62-868b-f90a34aa9986"
      },
      "source": [
        "sns.boxplot(x='abortion_failed',data=abortion1)"
      ],
      "execution_count": null,
      "outputs": [
        {
          "output_type": "execute_result",
          "data": {
            "text/plain": [
              "<matplotlib.axes._subplots.AxesSubplot at 0x7f786f24dd90>"
            ]
          },
          "metadata": {},
          "execution_count": 166
        },
        {
          "output_type": "display_data",
          "data": {
            "image/png": "[encoded data removed]",
            "text/plain": [
              "<Figure size 432x288 with 1 Axes>"
            ]
          },
          "metadata": {
            "needs_background": "light"
          }
        }
      ]
    },
    {
      "cell_type": "code",
      "metadata": {
        "id": "cU2I_pBFbdTV",
        "colab": {
          "base_uri": "https://localhost:8080/",
          "height": 282
        },
        "outputId": "08c5bfff-3228-47ee-8fb0-a9e5d75e4028"
      },
      "source": [
        "abortion1['abortion_failed'].hist()"
      ],
      "execution_count": null,
      "outputs": [
        {
          "output_type": "execute_result",
          "data": {
            "text/plain": [
              "<matplotlib.axes._subplots.AxesSubplot at 0x7f786f6dbc10>"
            ]
          },
          "metadata": {},
          "execution_count": 167
        },
        {
          "output_type": "display_data",
          "data": {
            "image/png": "[encoded data removed]",
            "text/plain": [
              "<Figure size 432x288 with 1 Axes>"
            ]
          },
          "metadata": {
            "needs_background": "light"
          }
        }
      ]
    },
    {
      "cell_type": "code",
      "metadata": {
        "id": "z9jfmH8VbdTV",
        "colab": {
          "base_uri": "https://localhost:8080/",
          "height": 1000
        },
        "outputId": "95a54456-1846-47b6-ef49-5ebb3990ea8c"
      },
      "source": [
        "my_pivot2 =  pd.pivot_table(data=abortion1,index=\"Region\",columns=\"Type of place of residence\",values =\"pregnancy_loses\",aggfunc=\"count\")\n",
        "abortion1[\"Artibonite\"] =abortion1[\"Region\"].apply(lambda x: 1 if x == \"Artibonite\" else 0)\n",
        "abortion1[\"Centre\"] =abortion1[\"Region\"].apply(lambda x: 1 if x==\"Centre\" else 0)\n",
        "abortion1[\"Grand'Anse\"] =abortion1[\"Region\"].apply(lambda x: 1 if x==\"Grand'Anse\" else 0)\n",
        "abortion1[\"Nippes\"] =abortion1[\"Region\"].apply(lambda x: 1 if x==\"Nippes\" else 0)\n",
        "abortion1[\"Nord\"] =abortion1[\"Region\"].apply(lambda x: 1 if x==\"Nord\" else 0)\n",
        "abortion1[\"Nord-Est\"] =abortion1[\"Region\"].apply(lambda x: 1 if x==\"Nord-Est\" else 0)\n",
        "abortion1[\"Nord-Ouest\"] =abortion1[\"Region\"].apply(lambda x: 1 if x==\"Nord-Ouest\" else 0)\n",
        "abortion1[\"Ouest\"] =abortion1[\"Region\"].apply(lambda x: 1 if x==\"Ouest\" else 0)\n",
        "abortion1[\"Sud\"] =abortion1[\"Region\"].apply(lambda x: 1 if x==\"Sud\" else 0)\n",
        "abortion1[\"Sud-Est\"] =abortion1[\"Region\"].apply(lambda x: 1 if x==\"Sud-Est\" else 0)\n",
        "\n",
        "# Cross tabulation between Region and Type of place of residence\n",
        "CrosstabResult=pd.crosstab(index=abortion1['Region'],columns=abortion1['Type of place of residence'])\n",
        "#print(CrosstabResult)\n",
        " \n",
        "# Grouped bar chart between Region and Type of place of residence\n",
        "CrosstabResult.plot.bar(figsize=(12,8), rot=0)"
      ],
      "execution_count": null,
      "outputs": [
        {
          "output_type": "stream",
          "name": "stderr",
          "text": [
            "/usr/local/lib/python3.7/dist-packages/ipykernel_launcher.py:2: SettingWithCopyWarning: \n",
            "A value is trying to be set on a copy of a slice from a DataFrame.\n",
            "Try using .loc[row_indexer,col_indexer] = value instead\n",
            "\n",
            "See the caveats in the documentation: https://pandas.pydata.org/pandas-docs/stable/user_guide/indexing.html#returning-a-view-versus-a-copy\n",
            "  \n",
            "/usr/local/lib/python3.7/dist-packages/ipykernel_launcher.py:3: SettingWithCopyWarning: \n",
            "A value is trying to be set on a copy of a slice from a DataFrame.\n",
            "Try using .loc[row_indexer,col_indexer] = value instead\n",
            "\n",
            "See the caveats in the documentation: https://pandas.pydata.org/pandas-docs/stable/user_guide/indexing.html#returning-a-view-versus-a-copy\n",
            "  This is separate from the ipykernel package so we can avoid doing imports until\n",
            "/usr/local/lib/python3.7/dist-packages/ipykernel_launcher.py:4: SettingWithCopyWarning: \n",
            "A value is trying to be set on a copy of a slice from a DataFrame.\n",
            "Try using .loc[row_indexer,col_indexer] = value instead\n",
            "\n",
            "See the caveats in the documentation: https://pandas.pydata.org/pandas-docs/stable/user_guide/indexing.html#returning-a-view-versus-a-copy\n",
            "  after removing the cwd from sys.path.\n",
            "/usr/local/lib/python3.7/dist-packages/ipykernel_launcher.py:5: SettingWithCopyWarning: \n",
            "A value is trying to be set on a copy of a slice from a DataFrame.\n",
            "Try using .loc[row_indexer,col_indexer] = value instead\n",
            "\n",
            "See the caveats in the documentation: https://pandas.pydata.org/pandas-docs/stable/user_guide/indexing.html#returning-a-view-versus-a-copy\n",
            "  \"\"\"\n",
            "/usr/local/lib/python3.7/dist-packages/ipykernel_launcher.py:6: SettingWithCopyWarning: \n",
            "A value is trying to be set on a copy of a slice from a DataFrame.\n",
            "Try using .loc[row_indexer,col_indexer] = value instead\n",
            "\n",
            "See the caveats in the documentation: https://pandas.pydata.org/pandas-docs/stable/user_guide/indexing.html#returning-a-view-versus-a-copy\n",
            "  \n",
            "/usr/local/lib/python3.7/dist-packages/ipykernel_launcher.py:7: SettingWithCopyWarning: \n",
            "A value is trying to be set on a copy of a slice from a DataFrame.\n",
            "Try using .loc[row_indexer,col_indexer] = value instead\n",
            "\n",
            "See the caveats in the documentation: https://pandas.pydata.org/pandas-docs/stable/user_guide/indexing.html#returning-a-view-versus-a-copy\n",
            "  import sys\n",
            "/usr/local/lib/python3.7/dist-packages/ipykernel_launcher.py:8: SettingWithCopyWarning: \n",
            "A value is trying to be set on a copy of a slice from a DataFrame.\n",
            "Try using .loc[row_indexer,col_indexer] = value instead\n",
            "\n",
            "See the caveats in the documentation: https://pandas.pydata.org/pandas-docs/stable/user_guide/indexing.html#returning-a-view-versus-a-copy\n",
            "  \n",
            "/usr/local/lib/python3.7/dist-packages/ipykernel_launcher.py:9: SettingWithCopyWarning: \n",
            "A value is trying to be set on a copy of a slice from a DataFrame.\n",
            "Try using .loc[row_indexer,col_indexer] = value instead\n",
            "\n",
            "See the caveats in the documentation: https://pandas.pydata.org/pandas-docs/stable/user_guide/indexing.html#returning-a-view-versus-a-copy\n",
            "  if __name__ == '__main__':\n",
            "/usr/local/lib/python3.7/dist-packages/ipykernel_launcher.py:10: SettingWithCopyWarning: \n",
            "A value is trying to be set on a copy of a slice from a DataFrame.\n",
            "Try using .loc[row_indexer,col_indexer] = value instead\n",
            "\n",
            "See the caveats in the documentation: https://pandas.pydata.org/pandas-docs/stable/user_guide/indexing.html#returning-a-view-versus-a-copy\n",
            "  # Remove the CWD from sys.path while we load stuff.\n",
            "/usr/local/lib/python3.7/dist-packages/ipykernel_launcher.py:11: SettingWithCopyWarning: \n",
            "A value is trying to be set on a copy of a slice from a DataFrame.\n",
            "Try using .loc[row_indexer,col_indexer] = value instead\n",
            "\n",
            "See the caveats in the documentation: https://pandas.pydata.org/pandas-docs/stable/user_guide/indexing.html#returning-a-view-versus-a-copy\n",
            "  # This is added back by InteractiveShellApp.init_path()\n"
          ]
        },
        {
          "output_type": "execute_result",
          "data": {
            "text/plain": [
              "<matplotlib.axes._subplots.AxesSubplot at 0x7f786ecc8910>"
            ]
          },
          "metadata": {},
          "execution_count": 223
        },
        {
          "output_type": "display_data",
          "data": {
            "image/png": "[encoded data removed]",
            "text/plain": [
              "<Figure size 864x576 with 1 Axes>"
            ]
          },
          "metadata": {
            "needs_background": "light"
          }
        }
      ]
    },
    {
      "cell_type": "code",
      "metadata": {
        "id": "Nk-aXB7ubdTV",
        "colab": {
          "base_uri": "https://localhost:8080/",
          "height": 606
        },
        "outputId": "795db4d6-5ebe-4d54-c04e-fa9efd4a27e9"
      },
      "source": [
        "fig_dims = (10,10)\n",
        "fig, ax = plot.subplots(figsize=fig_dims)\n",
        "jx = sns.countplot(y=\"Region\", hue=\"target\",ax=ax, data=abortion)\n",
        "total = len(abortion[\"Region\"])\n",
        "for p in ax.patches:\n",
        "        percentage = '{:.1f}‰'.format(p.get_width()/total*1000)\n",
        "        x = p.get_x() + p.get_width()/2\n",
        "        y = p.get_y() + p.get_height()/2\n",
        "        ax.annotate(percentage, (x, y),fontsize=10,color=\"black\")"
      ],
      "execution_count": null,
      "outputs": [
        {
          "output_type": "display_data",
          "data": {
            "image/png": "[encoded data removed]",
            "text/plain": [
              "<Figure size 720x720 with 1 Axes>"
            ]
          },
          "metadata": {
            "needs_background": "light"
          }
        }
      ]
    },
    {
      "cell_type": "code",
      "metadata": {
        "id": "mq96yfHubdTV",
        "colab": {
          "base_uri": "https://localhost:8080/",
          "height": 606
        },
        "outputId": "52a08eb8-7f28-468d-f16a-b3a57cd81a70"
      },
      "source": [
        "fig_dims = (10,10)\n",
        "fig, ax = plot.subplots(figsize=fig_dims)\n",
        "jx = sns.countplot(y=\"Highest educational level\", hue=\"target\",ax=ax, data=abortion)\n",
        "total = len(abortion[\"Highest educational level\"])\n",
        "for p in ax.patches:\n",
        "        percentage = '{:.1f}‰'.format(1000* p.get_width()/total)\n",
        "        x = p.get_x() + p.get_width()/2\n",
        "        y = p.get_y() + p.get_height()/2\n",
        "        ax.annotate(percentage, (x, y),fontsize=10,color=\"black\")"
      ],
      "execution_count": null,
      "outputs": [
        {
          "output_type": "display_data",
          "data": {
            "image/png": "[encoded data removed]",
            "text/plain": [
              "<Figure size 720x720 with 1 Axes>"
            ]
          },
          "metadata": {
            "needs_background": "light"
          }
        }
      ]
    },
    {
      "cell_type": "code",
      "metadata": {
        "id": "UQTGdWDabdTW"
      },
      "source": [
        ""
      ],
      "execution_count": null,
      "outputs": []
    },
    {
      "cell_type": "code",
      "metadata": {
        "id": "Mq0icuTabdTW",
        "colab": {
          "base_uri": "https://localhost:8080/"
        },
        "outputId": "b677e6ae-b038-4ff7-eaf9-ad18ae73c89e"
      },
      "source": [
        "abortion['Current marital status'].unique()"
      ],
      "execution_count": null,
      "outputs": [
        {
          "output_type": "execute_result",
          "data": {
            "text/plain": [
              "array(['Never in union', 'Married', 'Living with partner',\n",
              "       'No longer living together/separated', 'Widowed', 'Divorced'],\n",
              "      dtype=object)"
            ]
          },
          "metadata": {},
          "execution_count": 171
        }
      ]
    },
    {
      "cell_type": "code",
      "metadata": {
        "id": "aRB-JTlvbdTW",
        "colab": {
          "base_uri": "https://localhost:8080/",
          "height": 386
        },
        "outputId": "18ffab4f-b8c9-48c6-cd60-11436d02d2af"
      },
      "source": [
        "sns.catplot(x='Age', y='Number of living children', data=abortion, hue='Type of place of residence')"
      ],
      "execution_count": null,
      "outputs": [
        {
          "output_type": "execute_result",
          "data": {
            "text/plain": [
              "<seaborn.axisgrid.FacetGrid at 0x7f786fa82dd0>"
            ]
          },
          "metadata": {},
          "execution_count": 172
        },
        {
          "output_type": "display_data",
          "data": {
            "image/png": "[encoded data removed]",
            "text/plain": [
              "<Figure size 498x360 with 1 Axes>"
            ]
          },
          "metadata": {
            "needs_background": "light"
          }
        }
      ]
    },
    {
      "cell_type": "code",
      "metadata": {
        "id": "OTkA6KNjbdTW",
        "colab": {
          "base_uri": "https://localhost:8080/",
          "height": 297
        },
        "outputId": "080cbca3-43fc-4d7d-fbaf-3c3661522d16"
      },
      "source": [
        "sns.scatterplot(x='abortion_failed', y='Number of living children', data=abortion, hue=\"Respondent's occupation\")"
      ],
      "execution_count": null,
      "outputs": [
        {
          "output_type": "execute_result",
          "data": {
            "text/plain": [
              "<matplotlib.axes._subplots.AxesSubplot at 0x7f786f902cd0>"
            ]
          },
          "metadata": {},
          "execution_count": 173
        },
        {
          "output_type": "display_data",
          "data": {
            "image/png": "[encoded data removed]",
            "text/plain": [
              "<Figure size 432x288 with 1 Axes>"
            ]
          },
          "metadata": {
            "needs_background": "light"
          }
        }
      ]
    },
    {
      "cell_type": "code",
      "metadata": {
        "id": "sWLIDwnvbdTW"
      },
      "source": [
        "#sns.jointplot(x='Age', y='target', data=abortion)"
      ],
      "execution_count": null,
      "outputs": []
    },
    {
      "cell_type": "code",
      "metadata": {
        "id": "zPPLOmk2bdTW"
      },
      "source": [
        "#sns.heatmap(abortion.corr())\n"
      ],
      "execution_count": null,
      "outputs": []
    },
    {
      "cell_type": "markdown",
      "metadata": {
        "id": "NC72Z-ribdTX"
      },
      "source": [
        "# Hypothesis Test"
      ]
    },
    {
      "cell_type": "markdown",
      "metadata": {
        "id": "paiM6YFkbdTY"
      },
      "source": [
        "## The contingency tables between Violence and other Categorical variables\n",
        "#### Chi-Square test (A Chi-Square test is determined by a significant difference or relationship between two categorical variables from a single population. In general, this test assesses whether distributions of categorical variables differ from each other).The contingency table between Beating and Region Chi-Square test.\n"
      ]
    },
    {
      "cell_type": "markdown",
      "metadata": {
        "id": "gtoFCMjEbdTY"
      },
      "source": [
        "### Null Hypothesis H0: The two categorical variables are independent—that is, Beating is independent with Region."
      ]
    },
    {
      "cell_type": "markdown",
      "metadata": {
        "id": "wKoYNSsMbdTY"
      },
      "source": [
        "#### Alternative Hypothesis Ha : The two categorical variables are not independent—that is, Beating is not independent with Region,Region,Has an acount in a bank or other institution"
      ]
    },
    {
      "cell_type": "code",
      "metadata": {
        "id": "4d4cjAxWbdTY"
      },
      "source": [
        "#abortion1 = abortion.set_index('Religion')\n",
        "#abortion1\n",
        "abortion[\"index\"]= abortion.index"
      ],
      "execution_count": null,
      "outputs": []
    },
    {
      "cell_type": "code",
      "metadata": {
        "id": "UP9V2V8mbdTY",
        "colab": {
          "base_uri": "https://localhost:8080/"
        },
        "outputId": "65eeeddb-16d6-4c4d-eb8f-66125677ff10"
      },
      "source": [
        "# Summarise dataframe using pivot_table: target and Religion.\n",
        "f3=pd.pivot_table(abortion,values=\"index\", index=['Religion'],columns=['target'], aggfunc=\"count\",fill_value =0)\n",
        "f3"
      ],
      "execution_count": null,
      "outputs": [
        {
          "output_type": "execute_result",
          "data": {
            "text/html": [
              "<div>\n",
              "<style scoped>\n",
              "    .dataframe tbody tr th:only-of-type {\n",
              "        vertical-align: middle;\n",
              "    }\n",
              "\n",
              "    .dataframe tbody tr th {\n",
              "        vertical-align: top;\n",
              "    }\n",
              "\n",
              "    .dataframe thead th {\n",
              "        text-align: right;\n",
              "    }\n",
              "</style>\n",
              "<table border=\"1\" class=\"dataframe\">\n",
              "  <thead>\n",
              "    <tr style=\"text-align: right;\">\n",
              "      <th>target</th>\n",
              "      <th>Abortion</th>\n",
              "      <th>No Abortion</th>\n",
              "    </tr>\n",
              "    <tr>\n",
              "      <th>Religion</th>\n",
              "      <th></th>\n",
              "      <th></th>\n",
              "    </tr>\n",
              "  </thead>\n",
              "  <tbody>\n",
              "    <tr>\n",
              "      <th>Catholic</th>\n",
              "      <td>189</td>\n",
              "      <td>5310</td>\n",
              "    </tr>\n",
              "    <tr>\n",
              "      <th>No religion</th>\n",
              "      <td>43</td>\n",
              "      <td>913</td>\n",
              "    </tr>\n",
              "    <tr>\n",
              "      <th>Other</th>\n",
              "      <td>0</td>\n",
              "      <td>1</td>\n",
              "    </tr>\n",
              "    <tr>\n",
              "      <th>Protestant</th>\n",
              "      <td>239</td>\n",
              "      <td>7523</td>\n",
              "    </tr>\n",
              "    <tr>\n",
              "      <th>Vaudousant</th>\n",
              "      <td>9</td>\n",
              "      <td>144</td>\n",
              "    </tr>\n",
              "  </tbody>\n",
              "</table>\n",
              "</div>"
            ],
            "text/plain": [
              "target       Abortion  No Abortion\n",
              "Religion                          \n",
              "Catholic          189         5310\n",
              "No religion        43          913\n",
              "Other               0            1\n",
              "Protestant        239         7523\n",
              "Vaudousant          9          144"
            ]
          },
          "metadata": {},
          "execution_count": 177
        }
      ]
    },
    {
      "cell_type": "code",
      "metadata": {
        "id": "6WNwnAqCbdTY",
        "colab": {
          "base_uri": "https://localhost:8080/"
        },
        "outputId": "94ca7b4d-ab6a-44ac-a900-6d8636c97b82"
      },
      "source": [
        "# Apply Test\n",
        "stat, p, dof, expected = chi2_contingency(f3.values)\n",
        "print(\"p-values:\",p)\n",
        "if p <= 0.05:\n",
        " print(\"Hypothesis Rejected\")\n",
        "else:\n",
        " print(\"Hypothesis Accepted\")"
      ],
      "execution_count": null,
      "outputs": [
        {
          "output_type": "stream",
          "name": "stdout",
          "text": [
            "p-values: 0.06457713867305921\n",
            "Hypothesis Accepted\n"
          ]
        }
      ]
    },
    {
      "cell_type": "code",
      "metadata": {
        "id": "mxE1wCoxbdTY",
        "colab": {
          "base_uri": "https://localhost:8080/"
        },
        "outputId": "715a5b81-db79-4af1-f746-0ad72b47acdc"
      },
      "source": [
        "f4=pd.pivot_table(abortion,values=\"index\", index=['Current marital status'],columns=['target'], aggfunc=\"count\",fill_value =0)\n",
        "f4"
      ],
      "execution_count": null,
      "outputs": [
        {
          "output_type": "execute_result",
          "data": {
            "text/html": [
              "<div>\n",
              "<style scoped>\n",
              "    .dataframe tbody tr th:only-of-type {\n",
              "        vertical-align: middle;\n",
              "    }\n",
              "\n",
              "    .dataframe tbody tr th {\n",
              "        vertical-align: top;\n",
              "    }\n",
              "\n",
              "    .dataframe thead th {\n",
              "        text-align: right;\n",
              "    }\n",
              "</style>\n",
              "<table border=\"1\" class=\"dataframe\">\n",
              "  <thead>\n",
              "    <tr style=\"text-align: right;\">\n",
              "      <th>target</th>\n",
              "      <th>Abortion</th>\n",
              "      <th>No Abortion</th>\n",
              "    </tr>\n",
              "    <tr>\n",
              "      <th>Current marital status</th>\n",
              "      <th></th>\n",
              "      <th></th>\n",
              "    </tr>\n",
              "  </thead>\n",
              "  <tbody>\n",
              "    <tr>\n",
              "      <th>Divorced</th>\n",
              "      <td>7</td>\n",
              "      <td>30</td>\n",
              "    </tr>\n",
              "    <tr>\n",
              "      <th>Living with partner</th>\n",
              "      <td>87</td>\n",
              "      <td>1148</td>\n",
              "    </tr>\n",
              "    <tr>\n",
              "      <th>Married</th>\n",
              "      <td>222</td>\n",
              "      <td>6106</td>\n",
              "    </tr>\n",
              "    <tr>\n",
              "      <th>Never in union</th>\n",
              "      <td>99</td>\n",
              "      <td>5661</td>\n",
              "    </tr>\n",
              "    <tr>\n",
              "      <th>No longer living together/separated</th>\n",
              "      <td>55</td>\n",
              "      <td>742</td>\n",
              "    </tr>\n",
              "    <tr>\n",
              "      <th>Widowed</th>\n",
              "      <td>10</td>\n",
              "      <td>204</td>\n",
              "    </tr>\n",
              "  </tbody>\n",
              "</table>\n",
              "</div>"
            ],
            "text/plain": [
              "target                               Abortion  No Abortion\n",
              "Current marital status                                    \n",
              "Divorced                                    7           30\n",
              "Living with partner                        87         1148\n",
              "Married                                   222         6106\n",
              "Never in union                             99         5661\n",
              "No longer living together/separated        55          742\n",
              "Widowed                                    10          204"
            ]
          },
          "metadata": {},
          "execution_count": 179
        }
      ]
    },
    {
      "cell_type": "code",
      "metadata": {
        "id": "kdAfISq7bdTZ",
        "colab": {
          "base_uri": "https://localhost:8080/"
        },
        "outputId": "d3da6458-650a-4f97-bb2d-53505cc156d8"
      },
      "source": [
        "# Apply Test\n",
        "stat, p, dof, expected = chi2_contingency(f4.values)\n",
        "print(\"p-values:\",p)\n",
        "if p <= 0.05:\n",
        " print(\"Hypothesis Rejected\")\n",
        "else:\n",
        " print(\"Hypothesis Accepted\")"
      ],
      "execution_count": null,
      "outputs": [
        {
          "output_type": "stream",
          "name": "stdout",
          "text": [
            "p-values: 8.796867613273931e-33\n",
            "Hypothesis Rejected\n"
          ]
        }
      ]
    },
    {
      "cell_type": "code",
      "metadata": {
        "id": "narLCiZhbdTZ",
        "colab": {
          "base_uri": "https://localhost:8080/"
        },
        "outputId": "5e4ae081-ba28-4fa2-dc65-9df4dff89f91"
      },
      "source": [
        "f5=pd.pivot_table(abortion,values=\"index\", index=['Age'],columns=['target'], aggfunc=\"count\",fill_value =0)\n",
        "f5"
      ],
      "execution_count": null,
      "outputs": [
        {
          "output_type": "execute_result",
          "data": {
            "text/html": [
              "<div>\n",
              "<style scoped>\n",
              "    .dataframe tbody tr th:only-of-type {\n",
              "        vertical-align: middle;\n",
              "    }\n",
              "\n",
              "    .dataframe tbody tr th {\n",
              "        vertical-align: top;\n",
              "    }\n",
              "\n",
              "    .dataframe thead th {\n",
              "        text-align: right;\n",
              "    }\n",
              "</style>\n",
              "<table border=\"1\" class=\"dataframe\">\n",
              "  <thead>\n",
              "    <tr style=\"text-align: right;\">\n",
              "      <th>target</th>\n",
              "      <th>Abortion</th>\n",
              "      <th>No Abortion</th>\n",
              "    </tr>\n",
              "    <tr>\n",
              "      <th>Age</th>\n",
              "      <th></th>\n",
              "      <th></th>\n",
              "    </tr>\n",
              "  </thead>\n",
              "  <tbody>\n",
              "    <tr>\n",
              "      <th>15-19</th>\n",
              "      <td>8</td>\n",
              "      <td>3299</td>\n",
              "    </tr>\n",
              "    <tr>\n",
              "      <th>20-24</th>\n",
              "      <td>65</td>\n",
              "      <td>2708</td>\n",
              "    </tr>\n",
              "    <tr>\n",
              "      <th>25-29</th>\n",
              "      <td>94</td>\n",
              "      <td>2108</td>\n",
              "    </tr>\n",
              "    <tr>\n",
              "      <th>30-34</th>\n",
              "      <td>94</td>\n",
              "      <td>1825</td>\n",
              "    </tr>\n",
              "    <tr>\n",
              "      <th>35-39</th>\n",
              "      <td>86</td>\n",
              "      <td>1559</td>\n",
              "    </tr>\n",
              "    <tr>\n",
              "      <th>40-44</th>\n",
              "      <td>75</td>\n",
              "      <td>1233</td>\n",
              "    </tr>\n",
              "    <tr>\n",
              "      <th>45-49</th>\n",
              "      <td>58</td>\n",
              "      <td>1159</td>\n",
              "    </tr>\n",
              "  </tbody>\n",
              "</table>\n",
              "</div>"
            ],
            "text/plain": [
              "target  Abortion  No Abortion\n",
              "Age                          \n",
              "15-19          8         3299\n",
              "20-24         65         2708\n",
              "25-29         94         2108\n",
              "30-34         94         1825\n",
              "35-39         86         1559\n",
              "40-44         75         1233\n",
              "45-49         58         1159"
            ]
          },
          "metadata": {},
          "execution_count": 181
        }
      ]
    },
    {
      "cell_type": "code",
      "metadata": {
        "id": "Wr0TJLzJbdTZ",
        "colab": {
          "base_uri": "https://localhost:8080/"
        },
        "outputId": "93e39cc2-641c-423a-a2af-f624bc4e0861"
      },
      "source": [
        "# Apply Test\n",
        "stat, p, dof, expected = chi2_contingency(f5.values)\n",
        "print(\"p-values:\",p)\n",
        "if p <= 0.05:\n",
        " print(\"Hypothesis Rejected\")\n",
        "else:\n",
        " print(\"Hypothesis Accepted\")"
      ],
      "execution_count": null,
      "outputs": [
        {
          "output_type": "stream",
          "name": "stdout",
          "text": [
            "p-values: 2.176587665478388e-35\n",
            "Hypothesis Rejected\n"
          ]
        }
      ]
    },
    {
      "cell_type": "code",
      "metadata": {
        "id": "R1qB_QsqbdTZ",
        "colab": {
          "base_uri": "https://localhost:8080/"
        },
        "outputId": "6bc4551d-377a-408d-f6ed-8fa92f41f16d"
      },
      "source": [
        "f6=pd.pivot_table(abortion,values=\"index\", index=[\"Respondent's occupation\"],columns=['target'], aggfunc=\"count\",fill_value =0)\n",
        "f6"
      ],
      "execution_count": null,
      "outputs": [
        {
          "output_type": "execute_result",
          "data": {
            "text/html": [
              "<div>\n",
              "<style scoped>\n",
              "    .dataframe tbody tr th:only-of-type {\n",
              "        vertical-align: middle;\n",
              "    }\n",
              "\n",
              "    .dataframe tbody tr th {\n",
              "        vertical-align: top;\n",
              "    }\n",
              "\n",
              "    .dataframe thead th {\n",
              "        text-align: right;\n",
              "    }\n",
              "</style>\n",
              "<table border=\"1\" class=\"dataframe\">\n",
              "  <thead>\n",
              "    <tr style=\"text-align: right;\">\n",
              "      <th>target</th>\n",
              "      <th>Abortion</th>\n",
              "      <th>No Abortion</th>\n",
              "    </tr>\n",
              "    <tr>\n",
              "      <th>Respondent's occupation</th>\n",
              "      <th></th>\n",
              "      <th></th>\n",
              "    </tr>\n",
              "  </thead>\n",
              "  <tbody>\n",
              "    <tr>\n",
              "      <th>Not working</th>\n",
              "      <td>128</td>\n",
              "      <td>6234</td>\n",
              "    </tr>\n",
              "    <tr>\n",
              "      <th>working</th>\n",
              "      <td>352</td>\n",
              "      <td>7657</td>\n",
              "    </tr>\n",
              "  </tbody>\n",
              "</table>\n",
              "</div>"
            ],
            "text/plain": [
              "target                   Abortion  No Abortion\n",
              "Respondent's occupation                       \n",
              "Not working                   128         6234\n",
              "working                       352         7657"
            ]
          },
          "metadata": {},
          "execution_count": 183
        }
      ]
    },
    {
      "cell_type": "code",
      "metadata": {
        "id": "Ewbb3YG5bdTZ",
        "colab": {
          "base_uri": "https://localhost:8080/"
        },
        "outputId": "b50d1d48-4002-4ac7-d3a6-941f3f126816"
      },
      "source": [
        "# Apply Test\n",
        "stat, p, dof, expected = chi2_contingency(f6.values)\n",
        "print(\"p-values:\",p)\n",
        "if p <= 0.05:\n",
        " print(\"Hypothesis Rejected\")\n",
        "else:\n",
        " print(\"Hypothesis Accepted\")"
      ],
      "execution_count": null,
      "outputs": [
        {
          "output_type": "stream",
          "name": "stdout",
          "text": [
            "p-values: 4.13712464848356e-15\n",
            "Hypothesis Rejected\n"
          ]
        }
      ]
    },
    {
      "cell_type": "code",
      "metadata": {
        "id": "2kqcrRX6bdTZ",
        "colab": {
          "base_uri": "https://localhost:8080/"
        },
        "outputId": "12227e25-ebb4-4f61-f21f-0f657409935c"
      },
      "source": [
        "f7=pd.pivot_table(abortion,values=\"index\", index=[\"Highest educational level\"],columns=['target'], aggfunc=\"count\",fill_value =0)\n",
        "f7"
      ],
      "execution_count": null,
      "outputs": [
        {
          "output_type": "execute_result",
          "data": {
            "text/html": [
              "<div>\n",
              "<style scoped>\n",
              "    .dataframe tbody tr th:only-of-type {\n",
              "        vertical-align: middle;\n",
              "    }\n",
              "\n",
              "    .dataframe tbody tr th {\n",
              "        vertical-align: top;\n",
              "    }\n",
              "\n",
              "    .dataframe thead th {\n",
              "        text-align: right;\n",
              "    }\n",
              "</style>\n",
              "<table border=\"1\" class=\"dataframe\">\n",
              "  <thead>\n",
              "    <tr style=\"text-align: right;\">\n",
              "      <th>target</th>\n",
              "      <th>Abortion</th>\n",
              "      <th>No Abortion</th>\n",
              "    </tr>\n",
              "    <tr>\n",
              "      <th>Highest educational level</th>\n",
              "      <th></th>\n",
              "      <th></th>\n",
              "    </tr>\n",
              "  </thead>\n",
              "  <tbody>\n",
              "    <tr>\n",
              "      <th>Higher</th>\n",
              "      <td>66</td>\n",
              "      <td>787</td>\n",
              "    </tr>\n",
              "    <tr>\n",
              "      <th>No education</th>\n",
              "      <td>36</td>\n",
              "      <td>1987</td>\n",
              "    </tr>\n",
              "    <tr>\n",
              "      <th>Primary</th>\n",
              "      <td>115</td>\n",
              "      <td>4519</td>\n",
              "    </tr>\n",
              "    <tr>\n",
              "      <th>Secondary</th>\n",
              "      <td>263</td>\n",
              "      <td>6598</td>\n",
              "    </tr>\n",
              "  </tbody>\n",
              "</table>\n",
              "</div>"
            ],
            "text/plain": [
              "target                     Abortion  No Abortion\n",
              "Highest educational level                       \n",
              "Higher                           66          787\n",
              "No education                     36         1987\n",
              "Primary                         115         4519\n",
              "Secondary                       263         6598"
            ]
          },
          "metadata": {},
          "execution_count": 185
        }
      ]
    },
    {
      "cell_type": "code",
      "metadata": {
        "id": "HGwk3Nz4bdTa",
        "colab": {
          "base_uri": "https://localhost:8080/"
        },
        "outputId": "2696d8ab-a088-4aff-e4be-c40e0fcedc21"
      },
      "source": [
        "# Apply Test\n",
        "stat, p, dof, expected = chi2_contingency(f7.values)\n",
        "print(\"p-values:\",p)\n",
        "if p <= 0.05:\n",
        " print(\"Hypothesis Rejected\")\n",
        "else:\n",
        " print(\"Hypothesis Accepted\")"
      ],
      "execution_count": null,
      "outputs": [
        {
          "output_type": "stream",
          "name": "stdout",
          "text": [
            "p-values: 1.0908879985958887e-17\n",
            "Hypothesis Rejected\n"
          ]
        }
      ]
    },
    {
      "cell_type": "code",
      "metadata": {
        "id": "Uun7HD1xbdTa",
        "colab": {
          "base_uri": "https://localhost:8080/"
        },
        "outputId": "010e7d76-935c-42c8-cf63-88a7eca04384"
      },
      "source": [
        "f8=pd.pivot_table(abortion,values=\"index\", index=[\"Type of place of residence\"],columns=['target'], aggfunc=\"count\",fill_value =0)\n",
        "f8"
      ],
      "execution_count": null,
      "outputs": [
        {
          "output_type": "execute_result",
          "data": {
            "text/html": [
              "<div>\n",
              "<style scoped>\n",
              "    .dataframe tbody tr th:only-of-type {\n",
              "        vertical-align: middle;\n",
              "    }\n",
              "\n",
              "    .dataframe tbody tr th {\n",
              "        vertical-align: top;\n",
              "    }\n",
              "\n",
              "    .dataframe thead th {\n",
              "        text-align: right;\n",
              "    }\n",
              "</style>\n",
              "<table border=\"1\" class=\"dataframe\">\n",
              "  <thead>\n",
              "    <tr style=\"text-align: right;\">\n",
              "      <th>target</th>\n",
              "      <th>Abortion</th>\n",
              "      <th>No Abortion</th>\n",
              "    </tr>\n",
              "    <tr>\n",
              "      <th>Type of place of residence</th>\n",
              "      <th></th>\n",
              "      <th></th>\n",
              "    </tr>\n",
              "  </thead>\n",
              "  <tbody>\n",
              "    <tr>\n",
              "      <th>Rural</th>\n",
              "      <td>146</td>\n",
              "      <td>8470</td>\n",
              "    </tr>\n",
              "    <tr>\n",
              "      <th>Urban</th>\n",
              "      <td>334</td>\n",
              "      <td>5421</td>\n",
              "    </tr>\n",
              "  </tbody>\n",
              "</table>\n",
              "</div>"
            ],
            "text/plain": [
              "target                      Abortion  No Abortion\n",
              "Type of place of residence                       \n",
              "Rural                            146         8470\n",
              "Urban                            334         5421"
            ]
          },
          "metadata": {},
          "execution_count": 187
        }
      ]
    },
    {
      "cell_type": "code",
      "metadata": {
        "id": "qqmL2jE-bdTa",
        "colab": {
          "base_uri": "https://localhost:8080/"
        },
        "outputId": "b317eb33-98d1-4ff3-b5a9-08494d5b27c4"
      },
      "source": [
        "# Apply Test\n",
        "stat, p, dof, expected = chi2_contingency(f8.values)\n",
        "print(\"p-values:\",p)\n",
        "if p <= 0.05:\n",
        " print(\"Hypothesis Rejected\")\n",
        "else:\n",
        " print(\"Hypothesis Accepted\")"
      ],
      "execution_count": null,
      "outputs": [
        {
          "output_type": "stream",
          "name": "stdout",
          "text": [
            "p-values: 7.312625739684625e-41\n",
            "Hypothesis Rejected\n"
          ]
        }
      ]
    },
    {
      "cell_type": "code",
      "metadata": {
        "id": "7wBoE1FEbdTa",
        "colab": {
          "base_uri": "https://localhost:8080/"
        },
        "outputId": "c4987808-25e1-420e-9260-3c51e09a7d86"
      },
      "source": [
        "f9=pd.pivot_table(abortion,values=\"index\", index=[\"Region\"],columns=['target'], aggfunc=\"count\",fill_value =0)\n",
        "f9"
      ],
      "execution_count": null,
      "outputs": [
        {
          "output_type": "execute_result",
          "data": {
            "text/html": [
              "<div>\n",
              "<style scoped>\n",
              "    .dataframe tbody tr th:only-of-type {\n",
              "        vertical-align: middle;\n",
              "    }\n",
              "\n",
              "    .dataframe tbody tr th {\n",
              "        vertical-align: top;\n",
              "    }\n",
              "\n",
              "    .dataframe thead th {\n",
              "        text-align: right;\n",
              "    }\n",
              "</style>\n",
              "<table border=\"1\" class=\"dataframe\">\n",
              "  <thead>\n",
              "    <tr style=\"text-align: right;\">\n",
              "      <th>target</th>\n",
              "      <th>Abortion</th>\n",
              "      <th>No Abortion</th>\n",
              "    </tr>\n",
              "    <tr>\n",
              "      <th>Region</th>\n",
              "      <th></th>\n",
              "      <th></th>\n",
              "    </tr>\n",
              "  </thead>\n",
              "  <tbody>\n",
              "    <tr>\n",
              "      <th>Artibonite</th>\n",
              "      <td>57</td>\n",
              "      <td>1691</td>\n",
              "    </tr>\n",
              "    <tr>\n",
              "      <th>Centre</th>\n",
              "      <td>31</td>\n",
              "      <td>1097</td>\n",
              "    </tr>\n",
              "    <tr>\n",
              "      <th>Grand'Anse</th>\n",
              "      <td>9</td>\n",
              "      <td>932</td>\n",
              "    </tr>\n",
              "    <tr>\n",
              "      <th>Nippes</th>\n",
              "      <td>15</td>\n",
              "      <td>868</td>\n",
              "    </tr>\n",
              "    <tr>\n",
              "      <th>Nord</th>\n",
              "      <td>25</td>\n",
              "      <td>1419</td>\n",
              "    </tr>\n",
              "    <tr>\n",
              "      <th>Nord-Est</th>\n",
              "      <td>11</td>\n",
              "      <td>1085</td>\n",
              "    </tr>\n",
              "    <tr>\n",
              "      <th>Nord-Ouest</th>\n",
              "      <td>20</td>\n",
              "      <td>1427</td>\n",
              "    </tr>\n",
              "    <tr>\n",
              "      <th>Ouest</th>\n",
              "      <td>257</td>\n",
              "      <td>3228</td>\n",
              "    </tr>\n",
              "    <tr>\n",
              "      <th>Sud</th>\n",
              "      <td>21</td>\n",
              "      <td>1151</td>\n",
              "    </tr>\n",
              "    <tr>\n",
              "      <th>Sud-Est</th>\n",
              "      <td>34</td>\n",
              "      <td>993</td>\n",
              "    </tr>\n",
              "  </tbody>\n",
              "</table>\n",
              "</div>"
            ],
            "text/plain": [
              "target      Abortion  No Abortion\n",
              "Region                           \n",
              "Artibonite        57         1691\n",
              "Centre            31         1097\n",
              "Grand'Anse         9          932\n",
              "Nippes            15          868\n",
              "Nord              25         1419\n",
              "Nord-Est          11         1085\n",
              "Nord-Ouest        20         1427\n",
              "Ouest            257         3228\n",
              "Sud               21         1151\n",
              "Sud-Est           34          993"
            ]
          },
          "metadata": {},
          "execution_count": 189
        }
      ]
    },
    {
      "cell_type": "code",
      "metadata": {
        "id": "8rPPYaTWbdTa",
        "colab": {
          "base_uri": "https://localhost:8080/"
        },
        "outputId": "6c408348-ae1b-4c9a-f1c2-c8c1a1f35288"
      },
      "source": [
        "# Apply Test\n",
        "stat, p, dof, expected = chi2_contingency(f9.values)\n",
        "print(\"p-values:\",p)\n",
        "if p <= 0.05:\n",
        " print(\"Hypothesis Rejected\")\n",
        "else:\n",
        " print(\"Hypothesis Accepted\")"
      ],
      "execution_count": null,
      "outputs": [
        {
          "output_type": "stream",
          "name": "stdout",
          "text": [
            "p-values: 3.5257886102737584e-50\n",
            "Hypothesis Rejected\n"
          ]
        }
      ]
    },
    {
      "cell_type": "code",
      "metadata": {
        "id": "56r_obWDbdTa",
        "colab": {
          "base_uri": "https://localhost:8080/"
        },
        "outputId": "6b7ab576-2aba-49f7-9911-0a6a8f533b39"
      },
      "source": [
        "abortion.info()"
      ],
      "execution_count": null,
      "outputs": [
        {
          "output_type": "stream",
          "name": "stdout",
          "text": [
            "<class 'pandas.core.frame.DataFrame'>\n",
            "Int64Index: 14371 entries, 0 to 15512\n",
            "Data columns (total 33 columns):\n",
            " #   Column                                                                            Non-Null Count  Dtype  \n",
            "---  ------                                                                            --------------  -----  \n",
            " 0   pregnancy_loses                                                                   14371 non-null  float64\n",
            " 1   How many induced abortions during her live                                        14371 non-null  float64\n",
            " 2   dilatation and curettage                                                          14371 non-null  object \n",
            " 3   aspiration                                                                        14371 non-null  object \n",
            " 4   sonde                                                                             14371 non-null  object \n",
            " 5   Cytotek_(Misoprostol)                                                             14371 non-null  object \n",
            " 6   injections                                                                        14371 non-null  object \n",
            " 7   pill                                                                              14371 non-null  object \n",
            " 8   plants/decoction                                                                  14371 non-null  object \n",
            " 9   other                                                                             14371 non-null  object \n",
            " 10  dont_know                                                                         14371 non-null  object \n",
            " 11  Who assisted during this abortion - doctor                                        14371 non-null  object \n",
            " 12  Who assisted during this abortion - nurse                                         14371 non-null  object \n",
            " 13  Who assisted during this abortion - auxiliary                                     14371 non-null  object \n",
            " 14  Who assisted during this abortion - health agent                                  14371 non-null  object \n",
            " 15  Who assisted during this abortion - birth attendant/ matrone avec boï¿½te         14371 non-null  object \n",
            " 16  Who assisted during this abortion - traditional birth attendant/ matrone sans bo  14371 non-null  object \n",
            " 17  Who assisted during this abortion - guï¿½risseur/mï¿½decin-feuille                14371 non-null  object \n",
            " 18  Who assisted during this abortion - Ougan/mambo                                   14371 non-null  object \n",
            " 19  Who assisted during this abortion - relatives/ friends                            14371 non-null  object \n",
            " 20  Who assisted during this abortion - other                                         14371 non-null  object \n",
            " 21  Who assisted during this abortion - nobody                                        14371 non-null  object \n",
            " 22  abortion_failed                                                                   14371 non-null  float64\n",
            " 23  Age                                                                               14371 non-null  object \n",
            " 24  Number of living children                                                         14371 non-null  float64\n",
            " 25  Highest educational level                                                         14371 non-null  object \n",
            " 26  Region                                                                            14371 non-null  object \n",
            " 27  Type of place of residence                                                        14371 non-null  object \n",
            " 28  Religion                                                                          14371 non-null  object \n",
            " 29  Respondent's occupation                                                           14371 non-null  object \n",
            " 30  Current marital status                                                            14371 non-null  object \n",
            " 31  target                                                                            14371 non-null  object \n",
            " 32  index                                                                             14371 non-null  int64  \n",
            "dtypes: float64(4), int64(1), object(28)\n",
            "memory usage: 4.4+ MB\n"
          ]
        }
      ]
    },
    {
      "cell_type": "markdown",
      "metadata": {
        "id": "ly_SWhZNbdTb"
      },
      "source": [
        "### Machine Learning\n"
      ]
    },
    {
      "cell_type": "code",
      "metadata": {
        "id": "eELllfAdbdTb"
      },
      "source": [
        "ABORTION = abortion.drop([\"How many induced abortions during her live\",\"index\"], axis=1)\n",
        "#abortion['target'] =abortion['target'].replace({'Abortion':1, 'No Abortion':0})\n",
        "ABORTION1 = pd.get_dummies(ABORTION, prefix=None, prefix_sep='_', dummy_na=False, columns=None, sparse=False, drop_first=True, dtype=None)\n",
        "#abortion['dilatation and curettage'] = abortion['dilatation and curettage'].map({\"No\":0, \"Yes\":1,\"Don't know\":2})"
      ],
      "execution_count": null,
      "outputs": []
    },
    {
      "cell_type": "code",
      "metadata": {
        "id": "4GZtIfwebdTb",
        "colab": {
          "base_uri": "https://localhost:8080/"
        },
        "outputId": "f2d1538c-acd8-427a-80d4-6a3667be057c"
      },
      "source": [
        "ABORTION1.head()"
      ],
      "execution_count": null,
      "outputs": [
        {
          "output_type": "execute_result",
          "data": {
            "text/html": [
              "<div>\n",
              "<style scoped>\n",
              "    .dataframe tbody tr th:only-of-type {\n",
              "        vertical-align: middle;\n",
              "    }\n",
              "\n",
              "    .dataframe tbody tr th {\n",
              "        vertical-align: top;\n",
              "    }\n",
              "\n",
              "    .dataframe thead th {\n",
              "        text-align: right;\n",
              "    }\n",
              "</style>\n",
              "<table border=\"1\" class=\"dataframe\">\n",
              "  <thead>\n",
              "    <tr style=\"text-align: right;\">\n",
              "      <th></th>\n",
              "      <th>pregnancy_loses</th>\n",
              "      <th>abortion_failed</th>\n",
              "      <th>Number of living children</th>\n",
              "      <th>dilatation and curettage_No</th>\n",
              "      <th>dilatation and curettage_Yes</th>\n",
              "      <th>aspiration_No</th>\n",
              "      <th>aspiration_Yes</th>\n",
              "      <th>sonde_No</th>\n",
              "      <th>Cytotek_(Misoprostol)_No</th>\n",
              "      <th>Cytotek_(Misoprostol)_Yes</th>\n",
              "      <th>injections_No</th>\n",
              "      <th>injections_Yes</th>\n",
              "      <th>pill_No</th>\n",
              "      <th>pill_Yes</th>\n",
              "      <th>plants/decoction_No</th>\n",
              "      <th>plants/decoction_Yes</th>\n",
              "      <th>other_No</th>\n",
              "      <th>other_Yes</th>\n",
              "      <th>dont_know_Yes - don't know</th>\n",
              "      <th>Who assisted during this abortion - doctor_Yes</th>\n",
              "      <th>Who assisted during this abortion - nurse_Yes</th>\n",
              "      <th>Who assisted during this abortion - birth attendant/ matrone avec boï¿½te_Yes</th>\n",
              "      <th>Who assisted during this abortion - relatives/ friends_Yes</th>\n",
              "      <th>Who assisted during this abortion - other_Yes</th>\n",
              "      <th>Who assisted during this abortion - nobody_Yes</th>\n",
              "      <th>Age_20-24</th>\n",
              "      <th>Age_25-29</th>\n",
              "      <th>Age_30-34</th>\n",
              "      <th>Age_35-39</th>\n",
              "      <th>Age_40-44</th>\n",
              "      <th>Age_45-49</th>\n",
              "      <th>Highest educational level_No education</th>\n",
              "      <th>Highest educational level_Primary</th>\n",
              "      <th>Highest educational level_Secondary</th>\n",
              "      <th>Region_Centre</th>\n",
              "      <th>Region_Grand'Anse</th>\n",
              "      <th>Region_Nippes</th>\n",
              "      <th>Region_Nord</th>\n",
              "      <th>Region_Nord-Est</th>\n",
              "      <th>Region_Nord-Ouest</th>\n",
              "      <th>Region_Ouest</th>\n",
              "      <th>Region_Sud</th>\n",
              "      <th>Region_Sud-Est</th>\n",
              "      <th>Type of place of residence_Urban</th>\n",
              "      <th>Religion_No religion</th>\n",
              "      <th>Religion_Other</th>\n",
              "      <th>Religion_Protestant</th>\n",
              "      <th>Religion_Vaudousant</th>\n",
              "      <th>Respondent's occupation_working</th>\n",
              "      <th>Current marital status_Living with partner</th>\n",
              "      <th>Current marital status_Married</th>\n",
              "      <th>Current marital status_Never in union</th>\n",
              "      <th>Current marital status_No longer living together/separated</th>\n",
              "      <th>Current marital status_Widowed</th>\n",
              "      <th>target_No Abortion</th>\n",
              "    </tr>\n",
              "  </thead>\n",
              "  <tbody>\n",
              "    <tr>\n",
              "      <th>0</th>\n",
              "      <td>0.0</td>\n",
              "      <td>0.0</td>\n",
              "      <td>0.0</td>\n",
              "      <td>1</td>\n",
              "      <td>0</td>\n",
              "      <td>1</td>\n",
              "      <td>0</td>\n",
              "      <td>1</td>\n",
              "      <td>1</td>\n",
              "      <td>0</td>\n",
              "      <td>1</td>\n",
              "      <td>0</td>\n",
              "      <td>1</td>\n",
              "      <td>0</td>\n",
              "      <td>1</td>\n",
              "      <td>0</td>\n",
              "      <td>1</td>\n",
              "      <td>0</td>\n",
              "      <td>0</td>\n",
              "      <td>0</td>\n",
              "      <td>0</td>\n",
              "      <td>0</td>\n",
              "      <td>0</td>\n",
              "      <td>0</td>\n",
              "      <td>0</td>\n",
              "      <td>0</td>\n",
              "      <td>0</td>\n",
              "      <td>0</td>\n",
              "      <td>0</td>\n",
              "      <td>0</td>\n",
              "      <td>0</td>\n",
              "      <td>0</td>\n",
              "      <td>0</td>\n",
              "      <td>1</td>\n",
              "      <td>0</td>\n",
              "      <td>0</td>\n",
              "      <td>0</td>\n",
              "      <td>0</td>\n",
              "      <td>0</td>\n",
              "      <td>0</td>\n",
              "      <td>0</td>\n",
              "      <td>1</td>\n",
              "      <td>0</td>\n",
              "      <td>0</td>\n",
              "      <td>0</td>\n",
              "      <td>0</td>\n",
              "      <td>1</td>\n",
              "      <td>0</td>\n",
              "      <td>0</td>\n",
              "      <td>0</td>\n",
              "      <td>0</td>\n",
              "      <td>1</td>\n",
              "      <td>0</td>\n",
              "      <td>0</td>\n",
              "      <td>1</td>\n",
              "    </tr>\n",
              "    <tr>\n",
              "      <th>1</th>\n",
              "      <td>0.0</td>\n",
              "      <td>0.0</td>\n",
              "      <td>0.0</td>\n",
              "      <td>1</td>\n",
              "      <td>0</td>\n",
              "      <td>1</td>\n",
              "      <td>0</td>\n",
              "      <td>1</td>\n",
              "      <td>1</td>\n",
              "      <td>0</td>\n",
              "      <td>1</td>\n",
              "      <td>0</td>\n",
              "      <td>1</td>\n",
              "      <td>0</td>\n",
              "      <td>1</td>\n",
              "      <td>0</td>\n",
              "      <td>1</td>\n",
              "      <td>0</td>\n",
              "      <td>0</td>\n",
              "      <td>0</td>\n",
              "      <td>0</td>\n",
              "      <td>0</td>\n",
              "      <td>0</td>\n",
              "      <td>0</td>\n",
              "      <td>0</td>\n",
              "      <td>0</td>\n",
              "      <td>1</td>\n",
              "      <td>0</td>\n",
              "      <td>0</td>\n",
              "      <td>0</td>\n",
              "      <td>0</td>\n",
              "      <td>0</td>\n",
              "      <td>0</td>\n",
              "      <td>1</td>\n",
              "      <td>0</td>\n",
              "      <td>0</td>\n",
              "      <td>0</td>\n",
              "      <td>0</td>\n",
              "      <td>0</td>\n",
              "      <td>0</td>\n",
              "      <td>0</td>\n",
              "      <td>1</td>\n",
              "      <td>0</td>\n",
              "      <td>0</td>\n",
              "      <td>0</td>\n",
              "      <td>0</td>\n",
              "      <td>0</td>\n",
              "      <td>0</td>\n",
              "      <td>1</td>\n",
              "      <td>0</td>\n",
              "      <td>0</td>\n",
              "      <td>1</td>\n",
              "      <td>0</td>\n",
              "      <td>0</td>\n",
              "      <td>1</td>\n",
              "    </tr>\n",
              "    <tr>\n",
              "      <th>2</th>\n",
              "      <td>0.0</td>\n",
              "      <td>0.0</td>\n",
              "      <td>0.0</td>\n",
              "      <td>1</td>\n",
              "      <td>0</td>\n",
              "      <td>1</td>\n",
              "      <td>0</td>\n",
              "      <td>1</td>\n",
              "      <td>1</td>\n",
              "      <td>0</td>\n",
              "      <td>1</td>\n",
              "      <td>0</td>\n",
              "      <td>1</td>\n",
              "      <td>0</td>\n",
              "      <td>1</td>\n",
              "      <td>0</td>\n",
              "      <td>1</td>\n",
              "      <td>0</td>\n",
              "      <td>0</td>\n",
              "      <td>0</td>\n",
              "      <td>0</td>\n",
              "      <td>0</td>\n",
              "      <td>0</td>\n",
              "      <td>0</td>\n",
              "      <td>0</td>\n",
              "      <td>0</td>\n",
              "      <td>0</td>\n",
              "      <td>0</td>\n",
              "      <td>0</td>\n",
              "      <td>0</td>\n",
              "      <td>0</td>\n",
              "      <td>0</td>\n",
              "      <td>1</td>\n",
              "      <td>0</td>\n",
              "      <td>0</td>\n",
              "      <td>0</td>\n",
              "      <td>0</td>\n",
              "      <td>0</td>\n",
              "      <td>0</td>\n",
              "      <td>0</td>\n",
              "      <td>0</td>\n",
              "      <td>1</td>\n",
              "      <td>0</td>\n",
              "      <td>0</td>\n",
              "      <td>0</td>\n",
              "      <td>0</td>\n",
              "      <td>0</td>\n",
              "      <td>0</td>\n",
              "      <td>0</td>\n",
              "      <td>0</td>\n",
              "      <td>0</td>\n",
              "      <td>1</td>\n",
              "      <td>0</td>\n",
              "      <td>0</td>\n",
              "      <td>1</td>\n",
              "    </tr>\n",
              "    <tr>\n",
              "      <th>3</th>\n",
              "      <td>0.0</td>\n",
              "      <td>0.0</td>\n",
              "      <td>1.0</td>\n",
              "      <td>1</td>\n",
              "      <td>0</td>\n",
              "      <td>1</td>\n",
              "      <td>0</td>\n",
              "      <td>1</td>\n",
              "      <td>1</td>\n",
              "      <td>0</td>\n",
              "      <td>1</td>\n",
              "      <td>0</td>\n",
              "      <td>1</td>\n",
              "      <td>0</td>\n",
              "      <td>1</td>\n",
              "      <td>0</td>\n",
              "      <td>1</td>\n",
              "      <td>0</td>\n",
              "      <td>0</td>\n",
              "      <td>0</td>\n",
              "      <td>0</td>\n",
              "      <td>0</td>\n",
              "      <td>0</td>\n",
              "      <td>0</td>\n",
              "      <td>0</td>\n",
              "      <td>0</td>\n",
              "      <td>0</td>\n",
              "      <td>1</td>\n",
              "      <td>0</td>\n",
              "      <td>0</td>\n",
              "      <td>0</td>\n",
              "      <td>0</td>\n",
              "      <td>0</td>\n",
              "      <td>1</td>\n",
              "      <td>0</td>\n",
              "      <td>0</td>\n",
              "      <td>0</td>\n",
              "      <td>0</td>\n",
              "      <td>0</td>\n",
              "      <td>0</td>\n",
              "      <td>0</td>\n",
              "      <td>1</td>\n",
              "      <td>0</td>\n",
              "      <td>0</td>\n",
              "      <td>0</td>\n",
              "      <td>0</td>\n",
              "      <td>1</td>\n",
              "      <td>0</td>\n",
              "      <td>1</td>\n",
              "      <td>0</td>\n",
              "      <td>1</td>\n",
              "      <td>0</td>\n",
              "      <td>0</td>\n",
              "      <td>0</td>\n",
              "      <td>1</td>\n",
              "    </tr>\n",
              "    <tr>\n",
              "      <th>4</th>\n",
              "      <td>0.0</td>\n",
              "      <td>0.0</td>\n",
              "      <td>0.0</td>\n",
              "      <td>1</td>\n",
              "      <td>0</td>\n",
              "      <td>1</td>\n",
              "      <td>0</td>\n",
              "      <td>1</td>\n",
              "      <td>1</td>\n",
              "      <td>0</td>\n",
              "      <td>1</td>\n",
              "      <td>0</td>\n",
              "      <td>1</td>\n",
              "      <td>0</td>\n",
              "      <td>1</td>\n",
              "      <td>0</td>\n",
              "      <td>1</td>\n",
              "      <td>0</td>\n",
              "      <td>0</td>\n",
              "      <td>0</td>\n",
              "      <td>0</td>\n",
              "      <td>0</td>\n",
              "      <td>0</td>\n",
              "      <td>0</td>\n",
              "      <td>0</td>\n",
              "      <td>0</td>\n",
              "      <td>1</td>\n",
              "      <td>0</td>\n",
              "      <td>0</td>\n",
              "      <td>0</td>\n",
              "      <td>0</td>\n",
              "      <td>0</td>\n",
              "      <td>0</td>\n",
              "      <td>1</td>\n",
              "      <td>0</td>\n",
              "      <td>0</td>\n",
              "      <td>0</td>\n",
              "      <td>0</td>\n",
              "      <td>0</td>\n",
              "      <td>0</td>\n",
              "      <td>0</td>\n",
              "      <td>1</td>\n",
              "      <td>0</td>\n",
              "      <td>0</td>\n",
              "      <td>0</td>\n",
              "      <td>0</td>\n",
              "      <td>1</td>\n",
              "      <td>0</td>\n",
              "      <td>1</td>\n",
              "      <td>0</td>\n",
              "      <td>1</td>\n",
              "      <td>0</td>\n",
              "      <td>0</td>\n",
              "      <td>0</td>\n",
              "      <td>1</td>\n",
              "    </tr>\n",
              "  </tbody>\n",
              "</table>\n",
              "</div>"
            ],
            "text/plain": [
              "   pregnancy_loses  ...  target_No Abortion\n",
              "0              0.0  ...                   1\n",
              "1              0.0  ...                   1\n",
              "2              0.0  ...                   1\n",
              "3              0.0  ...                   1\n",
              "4              0.0  ...                   1\n",
              "\n",
              "[5 rows x 55 columns]"
            ]
          },
          "metadata": {},
          "execution_count": 193
        }
      ]
    },
    {
      "cell_type": "code",
      "metadata": {
        "id": "NBcvE8UjbdTb",
        "colab": {
          "base_uri": "https://localhost:8080/"
        },
        "outputId": "9e295af6-c7f5-4094-e6e8-e9f1834ee26f"
      },
      "source": [
        "ABORTION1.info()"
      ],
      "execution_count": null,
      "outputs": [
        {
          "output_type": "stream",
          "name": "stdout",
          "text": [
            "<class 'pandas.core.frame.DataFrame'>\n",
            "Int64Index: 14371 entries, 0 to 15512\n",
            "Data columns (total 55 columns):\n",
            " #   Column                                                                         Non-Null Count  Dtype  \n",
            "---  ------                                                                         --------------  -----  \n",
            " 0   pregnancy_loses                                                                14371 non-null  float64\n",
            " 1   abortion_failed                                                                14371 non-null  float64\n",
            " 2   Number of living children                                                      14371 non-null  float64\n",
            " 3   dilatation and curettage_No                                                    14371 non-null  uint8  \n",
            " 4   dilatation and curettage_Yes                                                   14371 non-null  uint8  \n",
            " 5   aspiration_No                                                                  14371 non-null  uint8  \n",
            " 6   aspiration_Yes                                                                 14371 non-null  uint8  \n",
            " 7   sonde_No                                                                       14371 non-null  uint8  \n",
            " 8   Cytotek_(Misoprostol)_No                                                       14371 non-null  uint8  \n",
            " 9   Cytotek_(Misoprostol)_Yes                                                      14371 non-null  uint8  \n",
            " 10  injections_No                                                                  14371 non-null  uint8  \n",
            " 11  injections_Yes                                                                 14371 non-null  uint8  \n",
            " 12  pill_No                                                                        14371 non-null  uint8  \n",
            " 13  pill_Yes                                                                       14371 non-null  uint8  \n",
            " 14  plants/decoction_No                                                            14371 non-null  uint8  \n",
            " 15  plants/decoction_Yes                                                           14371 non-null  uint8  \n",
            " 16  other_No                                                                       14371 non-null  uint8  \n",
            " 17  other_Yes                                                                      14371 non-null  uint8  \n",
            " 18  dont_know_Yes - don't know                                                     14371 non-null  uint8  \n",
            " 19  Who assisted during this abortion - doctor_Yes                                 14371 non-null  uint8  \n",
            " 20  Who assisted during this abortion - nurse_Yes                                  14371 non-null  uint8  \n",
            " 21  Who assisted during this abortion - birth attendant/ matrone avec boï¿½te_Yes  14371 non-null  uint8  \n",
            " 22  Who assisted during this abortion - relatives/ friends_Yes                     14371 non-null  uint8  \n",
            " 23  Who assisted during this abortion - other_Yes                                  14371 non-null  uint8  \n",
            " 24  Who assisted during this abortion - nobody_Yes                                 14371 non-null  uint8  \n",
            " 25  Age_20-24                                                                      14371 non-null  uint8  \n",
            " 26  Age_25-29                                                                      14371 non-null  uint8  \n",
            " 27  Age_30-34                                                                      14371 non-null  uint8  \n",
            " 28  Age_35-39                                                                      14371 non-null  uint8  \n",
            " 29  Age_40-44                                                                      14371 non-null  uint8  \n",
            " 30  Age_45-49                                                                      14371 non-null  uint8  \n",
            " 31  Highest educational level_No education                                         14371 non-null  uint8  \n",
            " 32  Highest educational level_Primary                                              14371 non-null  uint8  \n",
            " 33  Highest educational level_Secondary                                            14371 non-null  uint8  \n",
            " 34  Region_Centre                                                                  14371 non-null  uint8  \n",
            " 35  Region_Grand'Anse                                                              14371 non-null  uint8  \n",
            " 36  Region_Nippes                                                                  14371 non-null  uint8  \n",
            " 37  Region_Nord                                                                    14371 non-null  uint8  \n",
            " 38  Region_Nord-Est                                                                14371 non-null  uint8  \n",
            " 39  Region_Nord-Ouest                                                              14371 non-null  uint8  \n",
            " 40  Region_Ouest                                                                   14371 non-null  uint8  \n",
            " 41  Region_Sud                                                                     14371 non-null  uint8  \n",
            " 42  Region_Sud-Est                                                                 14371 non-null  uint8  \n",
            " 43  Type of place of residence_Urban                                               14371 non-null  uint8  \n",
            " 44  Religion_No religion                                                           14371 non-null  uint8  \n",
            " 45  Religion_Other                                                                 14371 non-null  uint8  \n",
            " 46  Religion_Protestant                                                            14371 non-null  uint8  \n",
            " 47  Religion_Vaudousant                                                            14371 non-null  uint8  \n",
            " 48  Respondent's occupation_working                                                14371 non-null  uint8  \n",
            " 49  Current marital status_Living with partner                                     14371 non-null  uint8  \n",
            " 50  Current marital status_Married                                                 14371 non-null  uint8  \n",
            " 51  Current marital status_Never in union                                          14371 non-null  uint8  \n",
            " 52  Current marital status_No longer living together/separated                     14371 non-null  uint8  \n",
            " 53  Current marital status_Widowed                                                 14371 non-null  uint8  \n",
            " 54  target_No Abortion                                                             14371 non-null  uint8  \n",
            "dtypes: float64(3), uint8(52)\n",
            "memory usage: 1.8 MB\n"
          ]
        }
      ]
    },
    {
      "cell_type": "code",
      "metadata": {
        "id": "YV-PaE-abdTb",
        "colab": {
          "base_uri": "https://localhost:8080/"
        },
        "outputId": "df8e10f6-c27d-4bbe-8884-74301576db83"
      },
      "source": [
        "!pip install sklearn"
      ],
      "execution_count": null,
      "outputs": [
        {
          "output_type": "stream",
          "name": "stdout",
          "text": [
            "Requirement already satisfied: sklearn in /usr/local/lib/python3.7/dist-packages (0.0)\n",
            "Requirement already satisfied: scikit-learn in /usr/local/lib/python3.7/dist-packages (from sklearn) (0.22.2.post1)\n",
            "Requirement already satisfied: scipy>=0.17.0 in /usr/local/lib/python3.7/dist-packages (from scikit-learn->sklearn) (1.4.1)\n",
            "Requirement already satisfied: joblib>=0.11 in /usr/local/lib/python3.7/dist-packages (from scikit-learn->sklearn) (1.0.1)\n",
            "Requirement already satisfied: numpy>=1.11.0 in /usr/local/lib/python3.7/dist-packages (from scikit-learn->sklearn) (1.19.5)\n"
          ]
        }
      ]
    },
    {
      "cell_type": "markdown",
      "metadata": {
        "id": "W2mAVzxqbdTb"
      },
      "source": [
        "### classification model\n"
      ]
    },
    {
      "cell_type": "code",
      "metadata": {
        "id": "EQoQBViVbdTb"
      },
      "source": [
        "#from sklearn.model_selection import model_selection\n",
        "from sklearn.model_selection import train_test_split"
      ],
      "execution_count": null,
      "outputs": []
    },
    {
      "cell_type": "code",
      "metadata": {
        "id": "SeW_9r77bdTc"
      },
      "source": [
        "from sklearn.model_selection import GridSearchCV"
      ],
      "execution_count": null,
      "outputs": []
    },
    {
      "cell_type": "code",
      "metadata": {
        "id": "MWO3toBxbdTc"
      },
      "source": [
        "y =  ABORTION1['target_No Abortion']\n",
        "X = ABORTION1.drop(columns= ['target_No Abortion','pregnancy_loses','abortion_failed'], axis=1)"
      ],
      "execution_count": null,
      "outputs": []
    },
    {
      "cell_type": "code",
      "metadata": {
        "id": "etqzDroIbdTc"
      },
      "source": [
        "\n",
        "from statsmodels.stats.outliers_influence import variance_inflation_factor"
      ],
      "execution_count": null,
      "outputs": []
    },
    {
      "cell_type": "code",
      "metadata": {
        "id": "EwBcWxu-bdTc",
        "colab": {
          "base_uri": "https://localhost:8080/"
        },
        "outputId": "7d30d647-a5fc-4389-8390-fa63de1150b1"
      },
      "source": [
        "\n",
        "# VIF dataframe\n",
        "vif_data = pd.DataFrame()\n",
        "vif_data[\"feature\"] = X.columns\n",
        "\n",
        "# calculating VIF for each feature\n",
        "vif_data[\"VIF\"] = [variance_inflation_factor(X.values, i)\n",
        "\t\t\t\t\t\tfor i in range(len(X.columns))]\n",
        "\n",
        "vif_data\n"
      ],
      "execution_count": null,
      "outputs": [
        {
          "output_type": "stream",
          "name": "stderr",
          "text": [
            "/usr/local/lib/python3.7/dist-packages/statsmodels/stats/outliers_influence.py:185: RuntimeWarning: divide by zero encountered in double_scalars\n",
            "  vif = 1. / (1. - r_squared_i)\n"
          ]
        },
        {
          "output_type": "execute_result",
          "data": {
            "text/html": [
              "<div>\n",
              "<style scoped>\n",
              "    .dataframe tbody tr th:only-of-type {\n",
              "        vertical-align: middle;\n",
              "    }\n",
              "\n",
              "    .dataframe tbody tr th {\n",
              "        vertical-align: top;\n",
              "    }\n",
              "\n",
              "    .dataframe thead th {\n",
              "        text-align: right;\n",
              "    }\n",
              "</style>\n",
              "<table border=\"1\" class=\"dataframe\">\n",
              "  <thead>\n",
              "    <tr style=\"text-align: right;\">\n",
              "      <th></th>\n",
              "      <th>feature</th>\n",
              "      <th>VIF</th>\n",
              "    </tr>\n",
              "  </thead>\n",
              "  <tbody>\n",
              "    <tr>\n",
              "      <th>0</th>\n",
              "      <td>Number of living children</td>\n",
              "      <td>2.722375</td>\n",
              "    </tr>\n",
              "    <tr>\n",
              "      <th>1</th>\n",
              "      <td>dilatation and curettage_No</td>\n",
              "      <td>inf</td>\n",
              "    </tr>\n",
              "    <tr>\n",
              "      <th>2</th>\n",
              "      <td>dilatation and curettage_Yes</td>\n",
              "      <td>inf</td>\n",
              "    </tr>\n",
              "    <tr>\n",
              "      <th>3</th>\n",
              "      <td>aspiration_No</td>\n",
              "      <td>inf</td>\n",
              "    </tr>\n",
              "    <tr>\n",
              "      <th>4</th>\n",
              "      <td>aspiration_Yes</td>\n",
              "      <td>inf</td>\n",
              "    </tr>\n",
              "    <tr>\n",
              "      <th>5</th>\n",
              "      <td>sonde_No</td>\n",
              "      <td>inf</td>\n",
              "    </tr>\n",
              "    <tr>\n",
              "      <th>6</th>\n",
              "      <td>Cytotek_(Misoprostol)_No</td>\n",
              "      <td>inf</td>\n",
              "    </tr>\n",
              "    <tr>\n",
              "      <th>7</th>\n",
              "      <td>Cytotek_(Misoprostol)_Yes</td>\n",
              "      <td>inf</td>\n",
              "    </tr>\n",
              "    <tr>\n",
              "      <th>8</th>\n",
              "      <td>injections_No</td>\n",
              "      <td>inf</td>\n",
              "    </tr>\n",
              "    <tr>\n",
              "      <th>9</th>\n",
              "      <td>injections_Yes</td>\n",
              "      <td>inf</td>\n",
              "    </tr>\n",
              "    <tr>\n",
              "      <th>10</th>\n",
              "      <td>pill_No</td>\n",
              "      <td>inf</td>\n",
              "    </tr>\n",
              "    <tr>\n",
              "      <th>11</th>\n",
              "      <td>pill_Yes</td>\n",
              "      <td>inf</td>\n",
              "    </tr>\n",
              "    <tr>\n",
              "      <th>12</th>\n",
              "      <td>plants/decoction_No</td>\n",
              "      <td>inf</td>\n",
              "    </tr>\n",
              "    <tr>\n",
              "      <th>13</th>\n",
              "      <td>plants/decoction_Yes</td>\n",
              "      <td>inf</td>\n",
              "    </tr>\n",
              "    <tr>\n",
              "      <th>14</th>\n",
              "      <td>other_No</td>\n",
              "      <td>inf</td>\n",
              "    </tr>\n",
              "    <tr>\n",
              "      <th>15</th>\n",
              "      <td>other_Yes</td>\n",
              "      <td>inf</td>\n",
              "    </tr>\n",
              "    <tr>\n",
              "      <th>16</th>\n",
              "      <td>dont_know_Yes - don't know</td>\n",
              "      <td>1.117794</td>\n",
              "    </tr>\n",
              "    <tr>\n",
              "      <th>17</th>\n",
              "      <td>Who assisted during this abortion - doctor_Yes</td>\n",
              "      <td>10.168516</td>\n",
              "    </tr>\n",
              "    <tr>\n",
              "      <th>18</th>\n",
              "      <td>Who assisted during this abortion - nurse_Yes</td>\n",
              "      <td>1.646157</td>\n",
              "    </tr>\n",
              "    <tr>\n",
              "      <th>19</th>\n",
              "      <td>Who assisted during this abortion - birth atte...</td>\n",
              "      <td>1.079485</td>\n",
              "    </tr>\n",
              "    <tr>\n",
              "      <th>20</th>\n",
              "      <td>Who assisted during this abortion - relatives/...</td>\n",
              "      <td>2.913780</td>\n",
              "    </tr>\n",
              "    <tr>\n",
              "      <th>21</th>\n",
              "      <td>Who assisted during this abortion - other_Yes</td>\n",
              "      <td>1.099065</td>\n",
              "    </tr>\n",
              "    <tr>\n",
              "      <th>22</th>\n",
              "      <td>Who assisted during this abortion - nobody_Yes</td>\n",
              "      <td>2.737102</td>\n",
              "    </tr>\n",
              "    <tr>\n",
              "      <th>23</th>\n",
              "      <td>Age_20-24</td>\n",
              "      <td>1.719817</td>\n",
              "    </tr>\n",
              "    <tr>\n",
              "      <th>24</th>\n",
              "      <td>Age_25-29</td>\n",
              "      <td>2.080977</td>\n",
              "    </tr>\n",
              "    <tr>\n",
              "      <th>25</th>\n",
              "      <td>Age_30-34</td>\n",
              "      <td>2.289014</td>\n",
              "    </tr>\n",
              "    <tr>\n",
              "      <th>26</th>\n",
              "      <td>Age_35-39</td>\n",
              "      <td>2.387548</td>\n",
              "    </tr>\n",
              "    <tr>\n",
              "      <th>27</th>\n",
              "      <td>Age_40-44</td>\n",
              "      <td>2.369618</td>\n",
              "    </tr>\n",
              "    <tr>\n",
              "      <th>28</th>\n",
              "      <td>Age_45-49</td>\n",
              "      <td>2.434131</td>\n",
              "    </tr>\n",
              "    <tr>\n",
              "      <th>29</th>\n",
              "      <td>Highest educational level_No education</td>\n",
              "      <td>3.853992</td>\n",
              "    </tr>\n",
              "    <tr>\n",
              "      <th>30</th>\n",
              "      <td>Highest educational level_Primary</td>\n",
              "      <td>5.292437</td>\n",
              "    </tr>\n",
              "    <tr>\n",
              "      <th>31</th>\n",
              "      <td>Highest educational level_Secondary</td>\n",
              "      <td>5.189497</td>\n",
              "    </tr>\n",
              "    <tr>\n",
              "      <th>32</th>\n",
              "      <td>Region_Centre</td>\n",
              "      <td>1.570604</td>\n",
              "    </tr>\n",
              "    <tr>\n",
              "      <th>33</th>\n",
              "      <td>Region_Grand'Anse</td>\n",
              "      <td>1.481819</td>\n",
              "    </tr>\n",
              "    <tr>\n",
              "      <th>34</th>\n",
              "      <td>Region_Nippes</td>\n",
              "      <td>1.475917</td>\n",
              "    </tr>\n",
              "    <tr>\n",
              "      <th>35</th>\n",
              "      <td>Region_Nord</td>\n",
              "      <td>1.698327</td>\n",
              "    </tr>\n",
              "    <tr>\n",
              "      <th>36</th>\n",
              "      <td>Region_Nord-Est</td>\n",
              "      <td>1.562285</td>\n",
              "    </tr>\n",
              "    <tr>\n",
              "      <th>37</th>\n",
              "      <td>Region_Nord-Ouest</td>\n",
              "      <td>1.711402</td>\n",
              "    </tr>\n",
              "    <tr>\n",
              "      <th>38</th>\n",
              "      <td>Region_Ouest</td>\n",
              "      <td>2.408850</td>\n",
              "    </tr>\n",
              "    <tr>\n",
              "      <th>39</th>\n",
              "      <td>Region_Sud</td>\n",
              "      <td>1.611311</td>\n",
              "    </tr>\n",
              "    <tr>\n",
              "      <th>40</th>\n",
              "      <td>Region_Sud-Est</td>\n",
              "      <td>1.549813</td>\n",
              "    </tr>\n",
              "    <tr>\n",
              "      <th>41</th>\n",
              "      <td>Type of place of residence_Urban</td>\n",
              "      <td>1.293827</td>\n",
              "    </tr>\n",
              "    <tr>\n",
              "      <th>42</th>\n",
              "      <td>Religion_No religion</td>\n",
              "      <td>1.163963</td>\n",
              "    </tr>\n",
              "    <tr>\n",
              "      <th>43</th>\n",
              "      <td>Religion_Other</td>\n",
              "      <td>1.002673</td>\n",
              "    </tr>\n",
              "    <tr>\n",
              "      <th>44</th>\n",
              "      <td>Religion_Protestant</td>\n",
              "      <td>1.163893</td>\n",
              "    </tr>\n",
              "    <tr>\n",
              "      <th>45</th>\n",
              "      <td>Religion_Vaudousant</td>\n",
              "      <td>1.053732</td>\n",
              "    </tr>\n",
              "    <tr>\n",
              "      <th>46</th>\n",
              "      <td>Respondent's occupation_working</td>\n",
              "      <td>1.438252</td>\n",
              "    </tr>\n",
              "    <tr>\n",
              "      <th>47</th>\n",
              "      <td>Current marital status_Living with partner</td>\n",
              "      <td>31.642487</td>\n",
              "    </tr>\n",
              "    <tr>\n",
              "      <th>48</th>\n",
              "      <td>Current marital status_Married</td>\n",
              "      <td>96.925566</td>\n",
              "    </tr>\n",
              "    <tr>\n",
              "      <th>49</th>\n",
              "      <td>Current marital status_Never in union</td>\n",
              "      <td>95.786202</td>\n",
              "    </tr>\n",
              "    <tr>\n",
              "      <th>50</th>\n",
              "      <td>Current marital status_No longer living togeth...</td>\n",
              "      <td>21.397506</td>\n",
              "    </tr>\n",
              "    <tr>\n",
              "      <th>51</th>\n",
              "      <td>Current marital status_Widowed</td>\n",
              "      <td>6.735651</td>\n",
              "    </tr>\n",
              "  </tbody>\n",
              "</table>\n",
              "</div>"
            ],
            "text/plain": [
              "                                              feature        VIF\n",
              "0                           Number of living children   2.722375\n",
              "1                         dilatation and curettage_No        inf\n",
              "2                        dilatation and curettage_Yes        inf\n",
              "3                                       aspiration_No        inf\n",
              "4                                      aspiration_Yes        inf\n",
              "5                                            sonde_No        inf\n",
              "6                            Cytotek_(Misoprostol)_No        inf\n",
              "7                           Cytotek_(Misoprostol)_Yes        inf\n",
              "8                                       injections_No        inf\n",
              "9                                      injections_Yes        inf\n",
              "10                                            pill_No        inf\n",
              "11                                           pill_Yes        inf\n",
              "12                                plants/decoction_No        inf\n",
              "13                               plants/decoction_Yes        inf\n",
              "14                                           other_No        inf\n",
              "15                                          other_Yes        inf\n",
              "16                         dont_know_Yes - don't know   1.117794\n",
              "17     Who assisted during this abortion - doctor_Yes  10.168516\n",
              "18      Who assisted during this abortion - nurse_Yes   1.646157\n",
              "19  Who assisted during this abortion - birth atte...   1.079485\n",
              "20  Who assisted during this abortion - relatives/...   2.913780\n",
              "21      Who assisted during this abortion - other_Yes   1.099065\n",
              "22     Who assisted during this abortion - nobody_Yes   2.737102\n",
              "23                                          Age_20-24   1.719817\n",
              "24                                          Age_25-29   2.080977\n",
              "25                                          Age_30-34   2.289014\n",
              "26                                          Age_35-39   2.387548\n",
              "27                                          Age_40-44   2.369618\n",
              "28                                          Age_45-49   2.434131\n",
              "29             Highest educational level_No education   3.853992\n",
              "30                  Highest educational level_Primary   5.292437\n",
              "31                Highest educational level_Secondary   5.189497\n",
              "32                                      Region_Centre   1.570604\n",
              "33                                  Region_Grand'Anse   1.481819\n",
              "34                                      Region_Nippes   1.475917\n",
              "35                                        Region_Nord   1.698327\n",
              "36                                    Region_Nord-Est   1.562285\n",
              "37                                  Region_Nord-Ouest   1.711402\n",
              "38                                       Region_Ouest   2.408850\n",
              "39                                         Region_Sud   1.611311\n",
              "40                                     Region_Sud-Est   1.549813\n",
              "41                   Type of place of residence_Urban   1.293827\n",
              "42                               Religion_No religion   1.163963\n",
              "43                                     Religion_Other   1.002673\n",
              "44                                Religion_Protestant   1.163893\n",
              "45                                Religion_Vaudousant   1.053732\n",
              "46                    Respondent's occupation_working   1.438252\n",
              "47         Current marital status_Living with partner  31.642487\n",
              "48                     Current marital status_Married  96.925566\n",
              "49              Current marital status_Never in union  95.786202\n",
              "50  Current marital status_No longer living togeth...  21.397506\n",
              "51                     Current marital status_Widowed   6.735651"
            ]
          },
          "metadata": {},
          "execution_count": 200
        }
      ]
    },
    {
      "cell_type": "code",
      "metadata": {
        "id": "JOJpvZRsbdTc",
        "colab": {
          "base_uri": "https://localhost:8080/"
        },
        "outputId": "33cdf1c3-0d2c-4c60-d648-0d9e94246579"
      },
      "source": [
        "features_cols = list(vif_data[vif_data.VIF <2]['feature'])\n",
        "features_cols"
      ],
      "execution_count": null,
      "outputs": [
        {
          "output_type": "execute_result",
          "data": {
            "text/plain": [
              "[\"dont_know_Yes - don't know\",\n",
              " 'Who assisted during this abortion - nurse_Yes',\n",
              " 'Who assisted during this abortion - birth attendant/ matrone avec boï¿½te_Yes',\n",
              " 'Who assisted during this abortion - other_Yes',\n",
              " 'Age_20-24',\n",
              " 'Region_Centre',\n",
              " \"Region_Grand'Anse\",\n",
              " 'Region_Nippes',\n",
              " 'Region_Nord',\n",
              " 'Region_Nord-Est',\n",
              " 'Region_Nord-Ouest',\n",
              " 'Region_Sud',\n",
              " 'Region_Sud-Est',\n",
              " 'Type of place of residence_Urban',\n",
              " 'Religion_No religion',\n",
              " 'Religion_Other',\n",
              " 'Religion_Protestant',\n",
              " 'Religion_Vaudousant',\n",
              " \"Respondent's occupation_working\"]"
            ]
          },
          "metadata": {},
          "execution_count": 201
        }
      ]
    },
    {
      "cell_type": "code",
      "metadata": {
        "id": "_h2T5oqLbdTc"
      },
      "source": [
        "X = X[features_cols]"
      ],
      "execution_count": null,
      "outputs": []
    },
    {
      "cell_type": "code",
      "metadata": {
        "id": "pfjKqHImbdTc",
        "colab": {
          "base_uri": "https://localhost:8080/"
        },
        "outputId": "d4d4cd63-8c97-43ba-e357-fd313762785a"
      },
      "source": [
        "!pip install imblearn\n"
      ],
      "execution_count": null,
      "outputs": [
        {
          "output_type": "stream",
          "name": "stdout",
          "text": [
            "Requirement already satisfied: imblearn in /usr/local/lib/python3.7/dist-packages (0.0)\n",
            "Requirement already satisfied: imbalanced-learn in /usr/local/lib/python3.7/dist-packages (from imblearn) (0.4.3)\n",
            "Requirement already satisfied: numpy>=1.8.2 in /usr/local/lib/python3.7/dist-packages (from imbalanced-learn->imblearn) (1.19.5)\n",
            "Requirement already satisfied: scipy>=0.13.3 in /usr/local/lib/python3.7/dist-packages (from imbalanced-learn->imblearn) (1.4.1)\n",
            "Requirement already satisfied: scikit-learn>=0.20 in /usr/local/lib/python3.7/dist-packages (from imbalanced-learn->imblearn) (0.22.2.post1)\n",
            "Requirement already satisfied: joblib>=0.11 in /usr/local/lib/python3.7/dist-packages (from scikit-learn>=0.20->imbalanced-learn->imblearn) (1.0.1)\n"
          ]
        }
      ]
    },
    {
      "cell_type": "code",
      "metadata": {
        "id": "0xFZSnr-bdTd",
        "colab": {
          "base_uri": "https://localhost:8080/"
        },
        "outputId": "280a5d03-9bf6-4eff-8f38-a19ff4598797"
      },
      "source": [
        "import imblearn\n",
        "from imblearn.over_sampling import SMOTE\n",
        "oversample = SMOTE()\n",
        "X,y= oversample.fit_resample(X,y)"
      ],
      "execution_count": null,
      "outputs": [
        {
          "output_type": "stream",
          "name": "stderr",
          "text": [
            "/usr/local/lib/python3.7/dist-packages/sklearn/utils/deprecation.py:87: FutureWarning: Function safe_indexing is deprecated; safe_indexing is deprecated in version 0.22 and will be removed in version 0.24.\n",
            "  warnings.warn(msg, category=FutureWarning)\n"
          ]
        }
      ]
    },
    {
      "cell_type": "code",
      "metadata": {
        "id": "i8zvYC8obdTd"
      },
      "source": [
        "\n",
        "X_train, X_test, y_train, y_test=train_test_split(X, y, test_size=0.2, random_state=101)"
      ],
      "execution_count": null,
      "outputs": []
    },
    {
      "cell_type": "code",
      "metadata": {
        "id": "wbfdOPTFbdTd",
        "colab": {
          "base_uri": "https://localhost:8080/"
        },
        "outputId": "aaa6169c-b9a9-4d8e-fc1c-a3da6590886b"
      },
      "source": [
        "X_test.shape"
      ],
      "execution_count": null,
      "outputs": [
        {
          "output_type": "execute_result",
          "data": {
            "text/plain": [
              "(5557, 19)"
            ]
          },
          "metadata": {},
          "execution_count": 206
        }
      ]
    },
    {
      "cell_type": "code",
      "metadata": {
        "id": "sGup1HKqbdTd",
        "colab": {
          "base_uri": "https://localhost:8080/"
        },
        "outputId": "934b2a13-f13e-4273-fcbb-62029dd844b6"
      },
      "source": [
        "y_test.shape"
      ],
      "execution_count": null,
      "outputs": [
        {
          "output_type": "execute_result",
          "data": {
            "text/plain": [
              "(5557,)"
            ]
          },
          "metadata": {},
          "execution_count": 207
        }
      ]
    },
    {
      "cell_type": "markdown",
      "metadata": {
        "id": "giJwlPSfbdTd"
      },
      "source": [
        "y_test.shape"
      ]
    },
    {
      "cell_type": "code",
      "metadata": {
        "id": "fx2IfeWvbdTd",
        "colab": {
          "base_uri": "https://localhost:8080/"
        },
        "outputId": "c9ca83d2-7195-4d88-9b6f-1b9a889bf73b"
      },
      "source": [
        "model_LogisticRegression = LogisticRegression()\n",
        "model_LogisticRegression.fit(X_train,y_train)\n",
        "model_LogisticRegression.score(X_test,y_test)"
      ],
      "execution_count": null,
      "outputs": [
        {
          "output_type": "stream",
          "name": "stderr",
          "text": [
            "/usr/local/lib/python3.7/dist-packages/sklearn/linear_model/_logistic.py:940: ConvergenceWarning: lbfgs failed to converge (status=1):\n",
            "STOP: TOTAL NO. of ITERATIONS REACHED LIMIT.\n",
            "\n",
            "Increase the number of iterations (max_iter) or scale the data as shown in:\n",
            "    https://scikit-learn.org/stable/modules/preprocessing.html\n",
            "Please also refer to the documentation for alternative solver options:\n",
            "    https://scikit-learn.org/stable/modules/linear_model.html#logistic-regression\n",
            "  extra_warning_msg=_LOGISTIC_SOLVER_CONVERGENCE_MSG)\n"
          ]
        },
        {
          "output_type": "execute_result",
          "data": {
            "text/plain": [
              "0.7327694799352168"
            ]
          },
          "metadata": {},
          "execution_count": 208
        }
      ]
    },
    {
      "cell_type": "code",
      "metadata": {
        "id": "DWVlimSWbdTd",
        "colab": {
          "base_uri": "https://localhost:8080/"
        },
        "outputId": "886ad587-293b-47c8-d3f5-a938bbb01c2e"
      },
      "source": [
        "model_classification = KNeighborsClassifier()\n",
        "model_classification.fit(X_train,y_train)\n",
        "model_classification.score(X_test,y_test)"
      ],
      "execution_count": null,
      "outputs": [
        {
          "output_type": "execute_result",
          "data": {
            "text/plain": [
              "0.7451862515745906"
            ]
          },
          "metadata": {},
          "execution_count": 209
        }
      ]
    },
    {
      "cell_type": "markdown",
      "metadata": {
        "id": "Ntt386E5bdTd"
      },
      "source": [
        "Decision Tree model"
      ]
    },
    {
      "cell_type": "code",
      "metadata": {
        "id": "MF5ceVq2bdTe"
      },
      "source": [
        "model_decision_tree = DecisionTreeClassifier()"
      ],
      "execution_count": null,
      "outputs": []
    },
    {
      "cell_type": "code",
      "metadata": {
        "id": "2IsVBqzmbdTe",
        "colab": {
          "base_uri": "https://localhost:8080/"
        },
        "outputId": "6cb1f3de-98ce-4391-e8d6-3a7d7cf50bcd"
      },
      "source": [
        "model_decision_tree.fit(X_train,y_train)\n",
        "model_decision_tree.score(X_test,y_test)"
      ],
      "execution_count": null,
      "outputs": [
        {
          "output_type": "execute_result",
          "data": {
            "text/plain": [
              "0.7746985783696239"
            ]
          },
          "metadata": {},
          "execution_count": 211
        }
      ]
    },
    {
      "cell_type": "markdown",
      "metadata": {
        "id": "wQwWRmOXbdTe"
      },
      "source": [
        "import time \n",
        "times_list = []\n",
        "scores = []\n",
        "model_names = [\"LogisticRegression\",\"RidgeClassifier\",\"AdaBoostClassifier\",\"GradientBoostingClassifier\",\"RandomForestClassifier\",\"DecisionTreeClassifier\",\"KNeighborsClassifier\"]\n",
        "models = [LogisticRegression(),RidgeClassifier(),AdaBoostClassifier(),GradientBoostingClassifier(),RandomForestClassifier(),DecisionTreeClassifier(),KNeighborsClassifier()]\n",
        "for model in models:\n",
        "  start = time.time()\n",
        "  model.fit(X_train,y_train)\n",
        "  end = time.time()\n",
        "  times_list.append(end-start)\n",
        "  scores.append( model.score(X_test,y_test))\n",
        "  plot_confusion_matrix(model,X_test,y_test)\n",
        "  plot_roc_curve(model,X_test,y_test)\n",
        "   #msles.append(mean_squared_log_error(y_test,y_pred))\n",
        "\n",
        "df = pd.DataFrame(dict(names=model_names,scores=scores,times=times_list))"
      ]
    },
    {
      "cell_type": "code",
      "metadata": {
        "id": "ierEwqbfbdTe",
        "colab": {
          "base_uri": "https://localhost:8080/"
        },
        "outputId": "53f86165-2b26-4a6a-eba7-952724ae9aaa"
      },
      "source": [
        "from sklearn.metrics import plot_confusion_matrix\n",
        "plot_confusion_matrix(model_LogisticRegression,X_test,y_test)"
      ],
      "execution_count": null,
      "outputs": [
        {
          "output_type": "execute_result",
          "data": {
            "text/plain": [
              "<sklearn.metrics._plot.confusion_matrix.ConfusionMatrixDisplay at 0x7f786f9b2790>"
            ]
          },
          "metadata": {},
          "execution_count": 212
        },
        {
          "output_type": "display_data",
          "data": {
            "image/png": "[encoded data removed]",
            "text/plain": [
              "<Figure size 432x288 with 2 Axes>"
            ]
          },
          "metadata": {
            "needs_background": "light"
          }
        }
      ]
    },
    {
      "cell_type": "code",
      "metadata": {
        "id": "ls89nMJ3bdTe",
        "colab": {
          "base_uri": "https://localhost:8080/"
        },
        "outputId": "6a6eda1b-cca8-48af-b89c-3d87c8980661"
      },
      "source": [
        "from sklearn.metrics import plot_roc_curve\n",
        "plot_roc_curve(model_LogisticRegression,X_test,y_test)"
      ],
      "execution_count": null,
      "outputs": [
        {
          "output_type": "execute_result",
          "data": {
            "text/plain": [
              "<sklearn.metrics._plot.roc_curve.RocCurveDisplay at 0x7f786fac5450>"
            ]
          },
          "metadata": {},
          "execution_count": 213
        },
        {
          "output_type": "display_data",
          "data": {
            "image/png": "[encoded data removed]",
            "text/plain": [
              "<Figure size 432x288 with 1 Axes>"
            ]
          },
          "metadata": {
            "needs_background": "light"
          }
        }
      ]
    },
    {
      "cell_type": "code",
      "metadata": {
        "id": "cMLIWKhwbdTe",
        "colab": {
          "base_uri": "https://localhost:8080/"
        },
        "outputId": "2deb9130-9ad0-4306-ccae-756904376d77"
      },
      "source": [
        "import time \n",
        "times_list = []\n",
        "scores = []\n",
        "model_names = [\"LogisticRegression\",\"RandomForestClassifier\",\"DecisionTreeClassifier\",\"KNeighborsClassifier\"]\n",
        "models = [LogisticRegression(),RandomForestClassifier(),DecisionTreeClassifier(),KNeighborsClassifier()]\n",
        "for model in models:\n",
        "  start = time.time()\n",
        "  model.fit(X_train,y_train)\n",
        "  end = time.time()\n",
        "  times_list.append(end-start)\n",
        "  scores.append(model.score(X_test,y_test))\n",
        "  plot_confusion_matrix(model,X_test,y_test)\n",
        "  plot_roc_curve(model,X_test,y_test)\n",
        "   #msles.append(mean_squared_log_error(y_test,y_pred))\n",
        "\n",
        "df = pd.DataFrame(dict(names=model_names,scores=scores,times=times_list))"
      ],
      "execution_count": null,
      "outputs": [
        {
          "output_type": "stream",
          "name": "stderr",
          "text": [
            "/usr/local/lib/python3.7/dist-packages/sklearn/linear_model/_logistic.py:940: ConvergenceWarning: lbfgs failed to converge (status=1):\n",
            "STOP: TOTAL NO. of ITERATIONS REACHED LIMIT.\n",
            "\n",
            "Increase the number of iterations (max_iter) or scale the data as shown in:\n",
            "    https://scikit-learn.org/stable/modules/preprocessing.html\n",
            "Please also refer to the documentation for alternative solver options:\n",
            "    https://scikit-learn.org/stable/modules/linear_model.html#logistic-regression\n",
            "  extra_warning_msg=_LOGISTIC_SOLVER_CONVERGENCE_MSG)\n"
          ]
        },
        {
          "output_type": "display_data",
          "data": {
            "image/png": "[encoded data removed]",
            "text/plain": [
              "<Figure size 432x288 with 2 Axes>"
            ]
          },
          "metadata": {
            "needs_background": "light"
          }
        },
        {
          "output_type": "display_data",
          "data": {
            "image/png": "[encoded data removed]",
            "text/plain": [
              "<Figure size 432x288 with 1 Axes>"
            ]
          },
          "metadata": {
            "needs_background": "light"
          }
        },
        {
          "output_type": "display_data",
          "data": {
            "image/png": "[encoded data removed]",
            "text/plain": [
              "<Figure size 432x288 with 2 Axes>"
            ]
          },
          "metadata": {
            "needs_background": "light"
          }
        },
        {
          "output_type": "display_data",
          "data": {
            "image/png": "[encoded data removed]",
            "text/plain": [
              "<Figure size 432x288 with 1 Axes>"
            ]
          },
          "metadata": {
            "needs_background": "light"
          }
        },
        {
          "output_type": "display_data",
          "data": {
            "image/png": "[encoded data removed]",
            "text/plain": [
              "<Figure size 432x288 with 2 Axes>"
            ]
          },
          "metadata": {
            "needs_background": "light"
          }
        },
        {
          "output_type": "display_data",
          "data": {
            "image/png": "[encoded data removed]",
            "text/plain": [
              "<Figure size 432x288 with 1 Axes>"
            ]
          },
          "metadata": {
            "needs_background": "light"
          }
        },
        {
          "output_type": "display_data",
          "data": {
            "image/png": "[encoded data removed]",
            "text/plain": [
              "<Figure size 432x288 with 2 Axes>"
            ]
          },
          "metadata": {
            "needs_background": "light"
          }
        },
        {
          "output_type": "display_data",
          "data": {
            "image/png": "[encoded data removed]",
            "text/plain": [
              "<Figure size 432x288 with 1 Axes>"
            ]
          },
          "metadata": {
            "needs_background": "light"
          }
        }
      ]
    },
    {
      "cell_type": "code",
      "metadata": {
        "id": "IekEFCeXbdTe",
        "colab": {
          "base_uri": "https://localhost:8080/"
        },
        "outputId": "7c4d715a-0b09-44ea-c796-90504ab748ed"
      },
      "source": [
        "df"
      ],
      "execution_count": null,
      "outputs": [
        {
          "output_type": "execute_result",
          "data": {
            "text/html": [
              "<div>\n",
              "<style scoped>\n",
              "    .dataframe tbody tr th:only-of-type {\n",
              "        vertical-align: middle;\n",
              "    }\n",
              "\n",
              "    .dataframe tbody tr th {\n",
              "        vertical-align: top;\n",
              "    }\n",
              "\n",
              "    .dataframe thead th {\n",
              "        text-align: right;\n",
              "    }\n",
              "</style>\n",
              "<table border=\"1\" class=\"dataframe\">\n",
              "  <thead>\n",
              "    <tr style=\"text-align: right;\">\n",
              "      <th></th>\n",
              "      <th>names</th>\n",
              "      <th>scores</th>\n",
              "      <th>times</th>\n",
              "    </tr>\n",
              "  </thead>\n",
              "  <tbody>\n",
              "    <tr>\n",
              "      <th>0</th>\n",
              "      <td>LogisticRegression</td>\n",
              "      <td>0.732769</td>\n",
              "      <td>0.399416</td>\n",
              "    </tr>\n",
              "    <tr>\n",
              "      <th>1</th>\n",
              "      <td>RandomForestClassifier</td>\n",
              "      <td>0.774699</td>\n",
              "      <td>0.923496</td>\n",
              "    </tr>\n",
              "    <tr>\n",
              "      <th>2</th>\n",
              "      <td>DecisionTreeClassifier</td>\n",
              "      <td>0.774699</td>\n",
              "      <td>0.022810</td>\n",
              "    </tr>\n",
              "    <tr>\n",
              "      <th>3</th>\n",
              "      <td>KNeighborsClassifier</td>\n",
              "      <td>0.745186</td>\n",
              "      <td>0.755140</td>\n",
              "    </tr>\n",
              "  </tbody>\n",
              "</table>\n",
              "</div>"
            ],
            "text/plain": [
              "                    names    scores     times\n",
              "0      LogisticRegression  0.732769  0.399416\n",
              "1  RandomForestClassifier  0.774699  0.923496\n",
              "2  DecisionTreeClassifier  0.774699  0.022810\n",
              "3    KNeighborsClassifier  0.745186  0.755140"
            ]
          },
          "metadata": {},
          "execution_count": 215
        }
      ]
    },
    {
      "cell_type": "code",
      "metadata": {
        "id": "PyCtCJG6bdTf"
      },
      "source": [
        ""
      ],
      "execution_count": null,
      "outputs": []
    }
  ]
}